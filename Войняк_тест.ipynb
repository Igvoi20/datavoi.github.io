{
  "nbformat": 4,
  "nbformat_minor": 0,
  "metadata": {
    "colab": {
      "name": "Войняк_тест.ipynb",
      "provenance": [],
      "authorship_tag": "ABX9TyN8JaQd9bAKsfcNBHdl39v8",
      "include_colab_link": true
    },
    "kernelspec": {
      "name": "python3",
      "display_name": "Python 3"
    }
  },
  "cells": [
    {
      "cell_type": "markdown",
      "metadata": {
        "id": "view-in-github",
        "colab_type": "text"
      },
      "source": [
        "<a href=\"https://colab.research.google.com/github/igorvojnyak/datavojnyak.github.io/blob/master/%D0%92%D0%BE%D0%B9%D0%BD%D1%8F%D0%BA_%D1%82%D0%B5%D1%81%D1%82.ipynb\" target=\"_parent\"><img src=\"https://colab.research.google.com/assets/colab-badge.svg\" alt=\"Open In Colab\"/></a>"
      ]
    },
    {
      "cell_type": "code",
      "metadata": {
        "id": "ULy8wY9ZYlA9",
        "colab": {
          "base_uri": "https://localhost:8080/"
        },
        "outputId": "402fee45-ee38-4819-d9b9-b6a09af02034"
      },
      "source": [
        "class Point:\n",
        "    \"\"\" Точечный класс представляется и манипулируется координатами x,y. \"\"\"\n",
        "\n",
        "\n",
        "    def __init__(self, x, y):\n",
        "        self.x = x\n",
        "        self.y = y\n",
        "\n",
        "\n",
        "    def __repr__(self):\n",
        "        # отображение x и y вместо адреса\n",
        "        return f'Point(x={self.x}, y={self.y})'\n",
        "\n",
        "\n",
        "\n",
        "def same_coordinates(p1, p2):\n",
        "    #выясним, представляются ли  точки с одинаковыми координатами\n",
        "    return (p1.x == p2.x) and (p1.y == p2.y)\n",
        "\n",
        "\n",
        "\n",
        "def compare(list1, list2):\n",
        "    #сравнение содержимое объектов — глубокое равенство\n",
        "    result = all(map(lambda x,y:  same_coordinates(x, y),  list1, list2))\n",
        "    if result ==True:\n",
        "        return 1\n",
        "    else:\n",
        "        return 0\n",
        "\n",
        "\n",
        "def collect_points(num_of_point):\n",
        "    #Создание многоугольников\n",
        "    points = []\n",
        "    for num in range(num_of_point):\n",
        "        l1 = [int(i) for i in input(\"Ведите вершины(формат ввода: 1,2 enter ): \").split(',')]\n",
        "        l1 = Point(l1[0],l1[1])\n",
        "        points.append(l1)\n",
        "    return points\n",
        "\n",
        "\n",
        "\n",
        "# if __name__ == \"__main__\":\n",
        "#Создание первого многоугольника\n",
        "point1 = collect_points(int(input(\"Количество вершин 1-многоугольника(какой у нас многоугольник, одно число):  \")))\n",
        "#Сортировка первого многоугольника\n",
        "point1.sort(key=lambda p: p.x * p.x + p.y * p.y)\n",
        "#Создание второго многоугольника\n",
        "point2 = collect_points(int(input(\"Количество вершин 2-многоугольника(какой у нас многоугольник, одно число):\")))\n",
        "#Сортировка второго многоугольника\n",
        "point2.sort(key=lambda p: p.x * p.x + p.y * p.y)\n",
        "#Выявления идентичности многоугольников\n",
        "compare(point1, point2)\n",
        "    "
      ],
      "execution_count": 4,
      "outputs": [
        {
          "output_type": "stream",
          "text": [
            "Количество вершин 1-многоугольника(какой у нас многоугольник, одно число):  4\n",
            "Ведите вершины(формат ввода: 1,2 enter ): 1,1\n",
            "Ведите вершины(формат ввода: 1,2 enter ): 6,1\n",
            "Ведите вершины(формат ввода: 1,2 enter ): 3,3\n",
            "Ведите вершины(формат ввода: 1,2 enter ): 2,3\n",
            "Количество вершин 2-многоугольника(какой у нас многоугольник, одно число):4\n",
            "Ведите вершины(формат ввода: 1,2 enter ): 2,3\n",
            "Ведите вершины(формат ввода: 1,2 enter ): 3,3\n",
            "Ведите вершины(формат ввода: 1,2 enter ): 6,1\n",
            "Ведите вершины(формат ввода: 1,2 enter ): 1,1\n"
          ],
          "name": "stdout"
        },
        {
          "output_type": "execute_result",
          "data": {
            "text/plain": [
              "1"
            ]
          },
          "metadata": {
            "tags": []
          },
          "execution_count": 4
        }
      ]
    }
  ]
}