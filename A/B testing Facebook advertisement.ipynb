{
  "nbformat": 4,
  "nbformat_minor": 0,
  "metadata": {
    "colab": {
      "name": "Untitled6.ipynb",
      "provenance": [],
      "authorship_tag": "ABX9TyMbYJ/GXZ7OyBgDggROYah3",
      "include_colab_link": true
    },
    "kernelspec": {
      "name": "python3",
      "display_name": "Python 3"
    }
  },
  "cells": [
    {
      "cell_type": "markdown",
      "metadata": {
        "id": "view-in-github",
        "colab_type": "text"
      },
      "source": [
        "<a href=\"https://colab.research.google.com/github/igorvojnyak/datavojnyak.github.io/blob/master/A/B%20testing%20Facebook%20advertisement.ipynb\" target=\"_parent\"><img src=\"https://colab.research.google.com/assets/colab-badge.svg\" alt=\"Open In Colab\"/></a>"
      ]
    },
    {
      "cell_type": "code",
      "metadata": {
        "id": "y41fr9mlhvA5",
        "colab_type": "code",
        "colab": {
          "base_uri": "https://localhost:8080/",
          "height": 71
        },
        "outputId": "1fafa1c8-d086-4a17-82ea-96cd4325da7d"
      },
      "source": [
        "import pandas as pd\n",
        "import numpy as np\n",
        "import random\n",
        "import math\n",
        "import statsmodels.api as sm\n",
        "import statsmodels.formula.api as smf\n",
        "import statsmodels.stats.api as sms\n",
        "import scipy.stats as st\n",
        "import statsmodels.stats.api as stats\n",
        "from scipy.stats import norm\n",
        "import matplotlib.pyplot as plt\n",
        "%matplotlib inline\n",
        "random.seed(42)"
      ],
      "execution_count": 1,
      "outputs": [
        {
          "output_type": "stream",
          "text": [
            "/usr/local/lib/python3.6/dist-packages/statsmodels/tools/_testing.py:19: FutureWarning: pandas.util.testing is deprecated. Use the functions in the public API at pandas.testing instead.\n",
            "  import pandas.util.testing as tm\n"
          ],
          "name": "stderr"
        }
      ]
    },
    {
      "cell_type": "code",
      "metadata": {
        "id": "5us1CIfJiKmC",
        "colab_type": "code",
        "colab": {}
      },
      "source": [
        "df = pd.read_csv('/content/ab_data.csv')\n",
        "df.head()"
      ],
      "execution_count": 0,
      "outputs": []
    },
    {
      "cell_type": "code",
      "metadata": {
        "id": "uy5rKWKKsVkK",
        "colab_type": "code",
        "colab": {
          "base_uri": "https://localhost:8080/",
          "height": 34
        },
        "outputId": "495b0437-4e8d-46dc-c587-58a7a1f609b9"
      },
      "source": [
        "print(\"number of rows \", df.shape[0], \"number of columns \", df.shape[1])"
      ],
      "execution_count": 3,
      "outputs": [
        {
          "output_type": "stream",
          "text": [
            "number of rows  294478 number of columns  5\n"
          ],
          "name": "stdout"
        }
      ]
    },
    {
      "cell_type": "code",
      "metadata": {
        "id": "dKIcwuVojb1q",
        "colab_type": "code",
        "colab": {
          "base_uri": "https://localhost:8080/",
          "height": 221
        },
        "outputId": "411ae773-68c5-4c67-f5b2-61a52f1e8b40"
      },
      "source": [
        "df.info()"
      ],
      "execution_count": 4,
      "outputs": [
        {
          "output_type": "stream",
          "text": [
            "<class 'pandas.core.frame.DataFrame'>\n",
            "RangeIndex: 294478 entries, 0 to 294477\n",
            "Data columns (total 5 columns):\n",
            " #   Column        Non-Null Count   Dtype \n",
            "---  ------        --------------   ----- \n",
            " 0   user_id       294478 non-null  int64 \n",
            " 1   timestamp     294478 non-null  object\n",
            " 2   group         294478 non-null  object\n",
            " 3   landing_page  294478 non-null  object\n",
            " 4   converted     294478 non-null  int64 \n",
            "dtypes: int64(2), object(3)\n",
            "memory usage: 11.2+ MB\n"
          ],
          "name": "stdout"
        }
      ]
    },
    {
      "cell_type": "code",
      "metadata": {
        "id": "7tmnKaeAiKoj",
        "colab_type": "code",
        "colab": {
          "base_uri": "https://localhost:8080/",
          "height": 68
        },
        "outputId": "f497c007-29bb-4cc7-8a43-26c8099e67c5"
      },
      "source": [
        "df[\"group\"].value_counts()"
      ],
      "execution_count": 14,
      "outputs": [
        {
          "output_type": "execute_result",
          "data": {
            "text/plain": [
              "treatment    145310\n",
              "control      145274\n",
              "Name: group, dtype: int64"
            ]
          },
          "metadata": {
            "tags": []
          },
          "execution_count": 14
        }
      ]
    },
    {
      "cell_type": "code",
      "metadata": {
        "id": "S5R182aYtERu",
        "colab_type": "code",
        "colab": {
          "base_uri": "https://localhost:8080/",
          "height": 51
        },
        "outputId": "e03c1fad-3d95-4fd8-bccd-4a2270013a63"
      },
      "source": [
        "print(df[\"user_id\"].count())\n",
        "print(df[\"user_id\"].nunique())"
      ],
      "execution_count": 15,
      "outputs": [
        {
          "output_type": "stream",
          "text": [
            "290584\n",
            "290584\n"
          ],
          "name": "stdout"
        }
      ]
    },
    {
      "cell_type": "code",
      "metadata": {
        "id": "lptWo6kCra8B",
        "colab_type": "code",
        "colab": {}
      },
      "source": [
        "df.drop_duplicates(subset='user_id', keep='first', inplace=True)"
      ],
      "execution_count": 0,
      "outputs": []
    },
    {
      "cell_type": "code",
      "metadata": {
        "id": "Kou4If64iKte",
        "colab_type": "code",
        "colab": {
          "base_uri": "https://localhost:8080/",
          "height": 34
        },
        "outputId": "578127a7-23c5-45ca-a2c4-5b9040f59b4b"
      },
      "source": [
        "(len(df.query('converted == 1'))/df['user_id'].nunique())"
      ],
      "execution_count": 6,
      "outputs": [
        {
          "output_type": "execute_result",
          "data": {
            "text/plain": [
              "0.12126269856564711"
            ]
          },
          "metadata": {
            "tags": []
          },
          "execution_count": 6
        }
      ]
    },
    {
      "cell_type": "code",
      "metadata": {
        "id": "wqYqyyAbiK_V",
        "colab_type": "code",
        "colab": {
          "base_uri": "https://localhost:8080/",
          "height": 142
        },
        "outputId": "57e9e060-28d2-4daf-f0ed-df12b3d838b8"
      },
      "source": [
        "ab_test = df.pivot_table(values='converted', index='group', aggfunc=np.sum)\n",
        "ab_test['total'] = df.pivot_table(values='converted', index='group', aggfunc=lambda x:len(x))\n",
        "ab_test['rate'] = df.pivot_table(values='converted', index='group')\n",
        "ab_test"
      ],
      "execution_count": 7,
      "outputs": [
        {
          "output_type": "execute_result",
          "data": {
            "text/html": [
              "<div>\n",
              "<style scoped>\n",
              "    .dataframe tbody tr th:only-of-type {\n",
              "        vertical-align: middle;\n",
              "    }\n",
              "\n",
              "    .dataframe tbody tr th {\n",
              "        vertical-align: top;\n",
              "    }\n",
              "\n",
              "    .dataframe thead th {\n",
              "        text-align: right;\n",
              "    }\n",
              "</style>\n",
              "<table border=\"1\" class=\"dataframe\">\n",
              "  <thead>\n",
              "    <tr style=\"text-align: right;\">\n",
              "      <th></th>\n",
              "      <th>converted</th>\n",
              "      <th>total</th>\n",
              "      <th>rate</th>\n",
              "    </tr>\n",
              "    <tr>\n",
              "      <th>group</th>\n",
              "      <th></th>\n",
              "      <th></th>\n",
              "      <th></th>\n",
              "    </tr>\n",
              "  </thead>\n",
              "  <tbody>\n",
              "    <tr>\n",
              "      <th>control</th>\n",
              "      <td>17723</td>\n",
              "      <td>147202</td>\n",
              "      <td>0.120399</td>\n",
              "    </tr>\n",
              "    <tr>\n",
              "      <th>treatment</th>\n",
              "      <td>17514</td>\n",
              "      <td>147276</td>\n",
              "      <td>0.118920</td>\n",
              "    </tr>\n",
              "  </tbody>\n",
              "</table>\n",
              "</div>"
            ],
            "text/plain": [
              "           converted   total      rate\n",
              "group                                 \n",
              "control        17723  147202  0.120399\n",
              "treatment      17514  147276  0.118920"
            ]
          },
          "metadata": {
            "tags": []
          },
          "execution_count": 7
        }
      ]
    },
    {
      "cell_type": "code",
      "metadata": {
        "id": "LOCyIr0DiLCL",
        "colab_type": "code",
        "colab": {}
      },
      "source": [
        "mask1 = (df[\"group\"] ==\"control\") & (df[\"landing_page\"] ==\"new_page\")\n",
        "index_to_drop1 = df[mask1].index\n",
        "df = df.drop(index_to_drop1)\n",
        "\n",
        "mask2 = (df[\"group\"] == \"treatment\") & (df[\"landing_page\"] == \"old_page\")\n",
        "index_to_drop2 = df[mask2].index\n",
        "df = df.drop(index_to_drop2)"
      ],
      "execution_count": 0,
      "outputs": []
    },
    {
      "cell_type": "code",
      "metadata": {
        "id": "-ETFqPrniLMf",
        "colab_type": "code",
        "colab": {}
      },
      "source": [
        "#Calculate pooled probability\n",
        "mask = (df[\"group\"] == \"control\")\n",
        "conversions_control = df[\"converted\"][mask].sum()\n",
        "total_users_control = df[\"converted\"][mask].count()\n",
        "\n",
        "mask = (df[\"group\"] == \"treatment\")\n",
        "conversions_treatment = df[\"converted\"][mask].sum()\n",
        "total_users_treatment = df[\"converted\"][mask].count()\n",
        "\n",
        "prob_pooled = (conversions_control + conversions_treatment) / (total_users_control + total_users_treatment)\n"
      ],
      "execution_count": 0,
      "outputs": []
    },
    {
      "cell_type": "code",
      "metadata": {
        "id": "CxBAnE4qiLHA",
        "colab_type": "code",
        "colab": {
          "base_uri": "https://localhost:8080/",
          "height": 34
        },
        "outputId": "2d16c838-440c-4a25-b075-3b387317b5bd"
      },
      "source": [
        "baseline_rate = conversions_control / total_users_control\n",
        "practical_significance = 0.01 #user defined\n",
        "confidence_level = 0.05 #user defined, for a 95% confidence interval\n",
        "sensitivity = 0.8 #user defined\n",
        "\n",
        "effect_size = sms.proportion_effectsize(baseline_rate, baseline_rate + practical_significance)\n",
        "sample_size = sms.NormalIndPower().solve_power(effect_size = effect_size, power = sensitivity, \n",
        "                                               alpha = confidence_level, ratio=1)\n",
        "print(\"Required sample size: \", round(sample_size), \" per group\")"
      ],
      "execution_count": 13,
      "outputs": [
        {
          "output_type": "stream",
          "text": [
            "Required sample size:  17209  per group\n"
          ],
          "name": "stdout"
        }
      ]
    },
    {
      "cell_type": "code",
      "metadata": {
        "id": "eyAAnGrwiLOo",
        "colab_type": "code",
        "colab": {}
      },
      "source": [
        "#Calculate pooled probability\n",
        "mask = (df[\"group\"] == \"control\")\n",
        "conversions_control = df[\"converted\"][mask].sum()\n",
        "total_users_control = df[\"converted\"][mask].count()\n",
        "\n",
        "mask = (df[\"group\"] == \"treatment\")\n",
        "conversions_treatment = df[\"converted\"][mask].sum()\n",
        "total_users_treatment = df[\"converted\"][mask].count()\n",
        "\n",
        "prob_pooled = (conversions_control + conversions_treatment) / (total_users_control + total_users_treatment)\n"
      ],
      "execution_count": 0,
      "outputs": []
    },
    {
      "cell_type": "code",
      "metadata": {
        "id": "ObqlrhVRiLRv",
        "colab_type": "code",
        "colab": {
          "base_uri": "https://localhost:8080/",
          "height": 34
        },
        "outputId": "da9bde51-ca17-4593-aa4e-bb480fdd641d"
      },
      "source": [
        "prob_pooled"
      ],
      "execution_count": 17,
      "outputs": [
        {
          "output_type": "execute_result",
          "data": {
            "text/plain": [
              "0.11959708724499628"
            ]
          },
          "metadata": {
            "tags": []
          },
          "execution_count": 17
        }
      ]
    },
    {
      "cell_type": "code",
      "metadata": {
        "id": "QXV73-yAt0ri",
        "colab_type": "code",
        "colab": {
          "base_uri": "https://localhost:8080/",
          "height": 102
        },
        "outputId": "8f428816-de41-4227-d1a3-dbb3fd0fd433"
      },
      "source": [
        "print(\"Split of control users who saw old page vs treatment users who saw new page: \", \n",
        "          round(total_users_control / df[\"converted\"].count() * 100, 2), \"% \",\n",
        "          round((total_users_treatment / df[\"converted\"].count()) * 100, 2), \"%\")\n",
        "\n",
        "#count number of users who converted in each group\n",
        "print(\"Number of control users who converted on old page: \", conversions_control)\n",
        "print(\"Percentage of control users who converted: \", round((conversions_control / total_users_control) * 100, 2), \"%\")\n",
        "\n",
        "mask = (df[\"group\"] == \"treatment\")\n",
        "print(\"Number of treatment users who converted on new page: \", conversions_treatment)\n",
        "print(\"Percentage of treatment users who converted: \", round((conversions_treatment/ total_users_treatment) * 100, 2), \"%\")"
      ],
      "execution_count": 19,
      "outputs": [
        {
          "output_type": "stream",
          "text": [
            "Split of control users who saw old page vs treatment users who saw new page:  49.99 %  50.01 %\n",
            "Number of control users who converted on old page:  17489\n",
            "Percentage of control users who converted:  12.04 %\n",
            "Number of treatment users who converted on new page:  17264\n",
            "Percentage of treatment users who converted:  11.88 %\n"
          ],
          "name": "stdout"
        }
      ]
    },
    {
      "cell_type": "code",
      "metadata": {
        "id": "021hvDUViLUO",
        "colab_type": "code",
        "colab": {
          "base_uri": "https://localhost:8080/",
          "height": 34
        },
        "outputId": "8a83e3f0-5f30-412c-e896-19041386af48"
      },
      "source": [
        "\n",
        "#Check what sample size is required\n",
        "baseline_rate = conversions_control / total_users_control\n",
        "practical_significance = 0.01 #user defined\n",
        "confidence_level = 0.05 #user defined, for a 95% confidence interval\n",
        "sensitivity = 0.8 #user defined\n",
        "\n",
        "effect_size = sms.proportion_effectsize(baseline_rate, baseline_rate + practical_significance)\n",
        "sample_size = sms.NormalIndPower().solve_power(effect_size = effect_size, power = sensitivity, \n",
        "                                               alpha = confidence_level, ratio=1)\n",
        "print(\"Required sample size: \", round(sample_size), \" per group\")"
      ],
      "execution_count": 20,
      "outputs": [
        {
          "output_type": "stream",
          "text": [
            "Required sample size:  17209  per group\n"
          ],
          "name": "stdout"
        }
      ]
    },
    {
      "cell_type": "code",
      "metadata": {
        "id": "8ef9qVZaiLXM",
        "colab_type": "code",
        "colab": {}
      },
      "source": [
        "#Calculate pooled probability\n",
        "mask = (df[\"group\"] == \"control\")\n",
        "conversions_control = df[\"converted\"][mask].sum()\n",
        "total_users_control = df[\"converted\"][mask].count()\n",
        "\n",
        "mask = (df[\"group\"] == \"treatment\")\n",
        "conversions_treatment = df[\"converted\"][mask].sum()\n",
        "total_users_treatment = df[\"converted\"][mask].count()\n",
        "\n",
        "prob_pooled = (conversions_control + conversions_treatment) / (total_users_control + total_users_treatment)"
      ],
      "execution_count": 0,
      "outputs": []
    },
    {
      "cell_type": "code",
      "metadata": {
        "id": "xWqQqiTOiLZt",
        "colab_type": "code",
        "colab": {
          "base_uri": "https://localhost:8080/",
          "height": 68
        },
        "outputId": "db3e461d-c981-4a7b-afc6-07e9a18efbf8"
      },
      "source": [
        "#Calculate pooled standard error and margin of error\n",
        "se_pooled = math.sqrt(prob_pooled * (1 - prob_pooled) * (1 / total_users_control + 1 / total_users_treatment))\n",
        "z_score = st.norm.ppf(1 - confidence_level / 2)\n",
        "margin_of_error = se_pooled * z_score\n",
        "\n",
        "#Calculate dhat, the estimated difference between probability of conversions in the experiment and control groups\n",
        "d_hat = (conversions_treatment / total_users_treatment) - (conversions_control / total_users_control)\n",
        "\n",
        "#Test if we can reject the null hypothesis\n",
        "lower_bound = d_hat - margin_of_error\n",
        "upper_bound = d_hat + margin_of_error\n",
        "\n",
        "if practical_significance < lower_bound:\n",
        "    print(\"Reject null hypothesis\")\n",
        "else: \n",
        "    print(\"Do not reject the null hypothesis\")\n",
        "    \n",
        "print(\"The lower bound of the confidence interval is \", round(lower_bound * 100, 2), \"%\")\n",
        "print(\"The upper bound of the confidence interval is \", round(upper_bound * 100, 2), \"%\")"
      ],
      "execution_count": 24,
      "outputs": [
        {
          "output_type": "stream",
          "text": [
            "Do not reject the null hypothesis\n",
            "The lower bound of the confidence interval is  -0.39 %\n",
            "The upper bound of the confidence interval is  0.08 %\n"
          ],
          "name": "stdout"
        }
      ]
    },
    {
      "cell_type": "code",
      "metadata": {
        "id": "uoOnyxz-w1UF",
        "colab_type": "code",
        "colab": {
          "base_uri": "https://localhost:8080/",
          "height": 34
        },
        "outputId": "e9e06da9-07a6-4190-a3ad-f23d80bb2d2e"
      },
      "source": [
        "lower_bound"
      ],
      "execution_count": 45,
      "outputs": [
        {
          "output_type": "execute_result",
          "data": {
            "text/plain": [
              "-0.003937865555689694"
            ]
          },
          "metadata": {
            "tags": []
          },
          "execution_count": 45
        }
      ]
    },
    {
      "cell_type": "code",
      "metadata": {
        "id": "M5P0xWVtw5TU",
        "colab_type": "code",
        "colab": {
          "base_uri": "https://localhost:8080/",
          "height": 34
        },
        "outputId": "dab27e5a-7b19-430c-f13e-bd66f6611db6"
      },
      "source": [
        "upper_bound"
      ],
      "execution_count": 46,
      "outputs": [
        {
          "output_type": "execute_result",
          "data": {
            "text/plain": [
              "0.0007813875849785809"
            ]
          },
          "metadata": {
            "tags": []
          },
          "execution_count": 46
        }
      ]
    },
    {
      "cell_type": "code",
      "metadata": {
        "id": "Qs2hPiNjiLJq",
        "colab_type": "code",
        "colab": {}
      },
      "source": [
        "df2 = df.query('(group == \"treatment\" & landing_page == \"new_page\") or (group == \"control\" & landing_page == \"old_page\")')"
      ],
      "execution_count": 0,
      "outputs": []
    },
    {
      "cell_type": "code",
      "metadata": {
        "id": "VGbBV8l8unzz",
        "colab_type": "code",
        "colab": {
          "base_uri": "https://localhost:8080/",
          "height": 34
        },
        "outputId": "b6831682-52c2-479d-a2ac-b62f515d48b4"
      },
      "source": [
        "df2[((df2['group'] == 'treatment') == (df2['landing_page'] == 'new_page')) == False].shape[0]"
      ],
      "execution_count": 26,
      "outputs": [
        {
          "output_type": "execute_result",
          "data": {
            "text/plain": [
              "0"
            ]
          },
          "metadata": {
            "tags": []
          },
          "execution_count": 26
        }
      ]
    },
    {
      "cell_type": "code",
      "metadata": {
        "id": "Yv1jRprewRGl",
        "colab_type": "code",
        "colab": {}
      },
      "source": [
        "real_old = len(df2.query('group == \"control\" & converted == 1'))/len(df2.query('group == \"control\"'))\n",
        "real_new = len(df2.query('group == \"treatment\" & converted == 1'))/len(df2.query('group == \"treatment\"'))"
      ],
      "execution_count": 0,
      "outputs": []
    },
    {
      "cell_type": "code",
      "metadata": {
        "id": "ctHOgisxwREG",
        "colab_type": "code",
        "colab": {}
      },
      "source": [
        "real_diff = real_new - real_old"
      ],
      "execution_count": 0,
      "outputs": []
    },
    {
      "cell_type": "code",
      "metadata": {
        "id": "cadqruC0u4RQ",
        "colab_type": "code",
        "colab": {}
      },
      "source": [
        "p_new = len(df.query('converted == 1'))/len(df)\n",
        "p_old = p_new"
      ],
      "execution_count": 0,
      "outputs": []
    },
    {
      "cell_type": "code",
      "metadata": {
        "id": "qJXIj3FNvKGS",
        "colab_type": "code",
        "colab": {
          "base_uri": "https://localhost:8080/",
          "height": 34
        },
        "outputId": "b14b1f60-e8ad-477e-8508-d5fbb75d767c"
      },
      "source": [
        "n_new = df.query('group == \"treatment\" and landing_page == \"new_page\"').nunique()[0]\n",
        "print(n_new)"
      ],
      "execution_count": 32,
      "outputs": [
        {
          "output_type": "stream",
          "text": [
            "145310\n"
          ],
          "name": "stdout"
        }
      ]
    },
    {
      "cell_type": "code",
      "metadata": {
        "id": "4xI6WJ7MvKCi",
        "colab_type": "code",
        "colab": {
          "base_uri": "https://localhost:8080/",
          "height": 34
        },
        "outputId": "ecc90d1a-d60c-4c99-f1a7-04810ae12017"
      },
      "source": [
        "n_old = df.query('group == \"control\" and landing_page == \"old_page\"').nunique()[0]\n",
        "print(n_old)"
      ],
      "execution_count": 33,
      "outputs": [
        {
          "output_type": "stream",
          "text": [
            "145274\n"
          ],
          "name": "stdout"
        }
      ]
    },
    {
      "cell_type": "code",
      "metadata": {
        "id": "qz5NzjKIvJ-5",
        "colab_type": "code",
        "colab": {}
      },
      "source": [
        "new_page_converted = np.random.binomial(1, p_new, n_new)\n",
        "old_page_converted = np.random.binomial(1, p_old, n_old)"
      ],
      "execution_count": 0,
      "outputs": []
    },
    {
      "cell_type": "code",
      "metadata": {
        "id": "2rCuGjpcvzKG",
        "colab_type": "code",
        "colab": {
          "base_uri": "https://localhost:8080/",
          "height": 34
        },
        "outputId": "40f68aff-5214-4228-ea33-27753dbcae8c"
      },
      "source": [
        "\n",
        "len(df2.query('landing_page == \"new_page\"'))/len(df2)"
      ],
      "execution_count": 47,
      "outputs": [
        {
          "output_type": "execute_result",
          "data": {
            "text/plain": [
              "0.5000619442226688"
            ]
          },
          "metadata": {
            "tags": []
          },
          "execution_count": 47
        }
      ]
    },
    {
      "cell_type": "code",
      "metadata": {
        "id": "oUD9CYNTvcds",
        "colab_type": "code",
        "colab": {}
      },
      "source": [
        "p_diffs = []\n",
        "for i in range(10000):\n",
        "    new_page_converted = np.random.binomial(1, p_new, n_new)\n",
        "    old_page_converted = np.random.binomial(1, p_old, n_old)\n",
        "    p_diffs.append(new_page_converted.mean()-old_page_converted.mean())"
      ],
      "execution_count": 0,
      "outputs": []
    },
    {
      "cell_type": "code",
      "metadata": {
        "id": "mhoYDnS0vcXn",
        "colab_type": "code",
        "colab": {
          "base_uri": "https://localhost:8080/",
          "height": 282
        },
        "outputId": "93b77b64-e247-4821-f799-0bf9aa222ac9"
      },
      "source": [
        "print(real_diff)\n",
        "plt.hist(p_diffs)\n",
        "plt.axvline(x = real_diff,color = 'red');"
      ],
      "execution_count": 48,
      "outputs": [
        {
          "output_type": "stream",
          "text": [
            "-0.0015782389853555567\n"
          ],
          "name": "stdout"
        },
        {
          "output_type": "display_data",
          "data": {
            "image/png": "[encoded data removed]",
            "text/plain": [
              "<Figure size 432x288 with 1 Axes>"
            ]
          },
          "metadata": {
            "tags": []
          }
        }
      ]
    },
    {
      "cell_type": "code",
      "metadata": {
        "id": "wG7qZEAcvhYF",
        "colab_type": "code",
        "colab": {
          "base_uri": "https://localhost:8080/",
          "height": 34
        },
        "outputId": "6ff6cb7f-d116-4d2d-8674-42a11503a37c"
      },
      "source": [
        "p_diffs = np.array(p_diffs)\n",
        "(p_diffs > real_diff).mean()"
      ],
      "execution_count": 49,
      "outputs": [
        {
          "output_type": "execute_result",
          "data": {
            "text/plain": [
              "0.9104"
            ]
          },
          "metadata": {
            "tags": []
          },
          "execution_count": 49
        }
      ]
    },
    {
      "cell_type": "code",
      "metadata": {
        "id": "93Dqd77RvlTQ",
        "colab_type": "code",
        "colab": {
          "base_uri": "https://localhost:8080/",
          "height": 34
        },
        "outputId": "b13278c6-0965-40ea-cfd2-92f3559f8dc2"
      },
      "source": [
        "convert_old = len(df2.query('landing_page == \"old_page\" & converted == 1'))\n",
        "convert_new = len(df2.query('landing_page == \"new_page\" & converted == 1'))\n",
        "n_old = len(df.query('landing_page == \"old_page\"'))\n",
        "n_new = len(df.query('landing_page == \"new_page\"'))\n",
        "convert_old, convert_new, n_old, n_new"
      ],
      "execution_count": 50,
      "outputs": [
        {
          "output_type": "execute_result",
          "data": {
            "text/plain": [
              "(17489, 17264, 145274, 145310)"
            ]
          },
          "metadata": {
            "tags": []
          },
          "execution_count": 50
        }
      ]
    },
    {
      "cell_type": "code",
      "metadata": {
        "id": "Asi9ciwEvm4K",
        "colab_type": "code",
        "colab": {
          "base_uri": "https://localhost:8080/",
          "height": 34
        },
        "outputId": "5dac6f12-d334-428d-a203-0578cb1adfd5"
      },
      "source": [
        "\n",
        "z_score, p_value = sm.stats.proportions_ztest([convert_old, convert_new], [n_old, n_new], alternative = 'smaller')\n",
        "z_score, p_value"
      ],
      "execution_count": 61,
      "outputs": [
        {
          "output_type": "execute_result",
          "data": {
            "text/plain": [
              "(1.3109241984234394, 0.9050583127590245)"
            ]
          },
          "metadata": {
            "tags": []
          },
          "execution_count": 61
        }
      ]
    },
    {
      "cell_type": "code",
      "metadata": {
        "id": "v0PTqLGGxVQu",
        "colab_type": "code",
        "colab": {
          "base_uri": "https://localhost:8080/",
          "height": 51
        },
        "outputId": "cfd848e8-19ed-46f8-bc0a-4ba41cda4efa"
      },
      "source": [
        "print(norm.cdf(z_score))\n",
        "print(norm.ppf(1-(0.05/2)))"
      ],
      "execution_count": 64,
      "outputs": [
        {
          "output_type": "stream",
          "text": [
            "0.9050583127590245\n",
            "1.959963984540054\n"
          ],
          "name": "stdout"
        }
      ]
    },
    {
      "cell_type": "code",
      "metadata": {
        "id": "XuInrVl4ya9A",
        "colab_type": "code",
        "colab": {}
      },
      "source": [
        ""
      ],
      "execution_count": 0,
      "outputs": []
    }
  ]
}