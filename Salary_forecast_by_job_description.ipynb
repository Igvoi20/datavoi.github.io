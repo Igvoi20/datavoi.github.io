{
  "nbformat": 4,
  "nbformat_minor": 0,
  "metadata": {
    "colab": {
      "name": "Untitled8.ipynb",
      "provenance": [],
      "authorship_tag": "ABX9TyM8N+lhGVYWdSPwYI3xoCLm",
      "include_colab_link": true
    },
    "kernelspec": {
      "name": "python3",
      "display_name": "Python 3"
    }
  },
  "cells": [
    {
      "cell_type": "markdown",
      "metadata": {
        "id": "view-in-github",
        "colab_type": "text"
      },
      "source": [
        "<a href=\"https://colab.research.google.com/github/igorvojnyak/datavojnyak.github.io/blob/master/Salary_forecast_by_job_description.ipynb\" target=\"_parent\"><img src=\"https://colab.research.google.com/assets/colab-badge.svg\" alt=\"Open In Colab\"/></a>"
      ]
    },
    {
      "cell_type": "code",
      "metadata": {
        "id": "7wCp9wRu2JAF",
        "colab_type": "code",
        "colab": {}
      },
      "source": [
        "from sklearn.naive_bayes import MultinomialNB\n",
        "from sklearn.pipeline import Pipeline\n",
        "from sklearn.feature_extraction.text import TfidfTransformer\n",
        "import logging\n",
        "import pandas as pd\n",
        "import numpy as np\n",
        "from numpy import random\n",
        "import nltk\n",
        "from nltk.tokenize import word_tokenize\n",
        "from sklearn import datasets\n",
        "from sklearn.tree import DecisionTreeClassifier\n",
        "from sklearn.model_selection import train_test_split\n",
        "from sklearn.metrics import accuracy_score\n",
        "from sklearn.externals import joblib\n",
        "import gensim\n",
        "import nltk\n",
        "from sklearn.model_selection import train_test_split\n",
        "from sklearn.feature_extraction.text import CountVectorizer, TfidfVectorizer\n",
        "from sklearn.metrics import accuracy_score, confusion_matrix\n",
        "import matplotlib.pyplot as plt\n",
        "from nltk.corpus import stopwords\n",
        "import re\n",
        "from bs4 import BeautifulSoup\n",
        "from sklearn.linear_model import SGDClassifier\n",
        "from sklearn.ensemble import RandomForestClassifier\n",
        "from sklearn.linear_model import LogisticRegression\n",
        "from sklearn.naive_bayes import GaussianNB\n",
        "from sklearn.naive_bayes import GaussianNB\n",
        "from sklearn.svm import LinearSVC\n",
        "from nltk.stem.snowball import SnowballStemmer\n",
        "import numpy as np\n",
        "import pandas as pd\n",
        "import matplotlib.pyplot as plt\n",
        "import seaborn as sns\n",
        "sns.set_style('white')\n",
        "from sklearn.feature_extraction.text import TfidfVectorizer\n",
        "from sklearn.ensemble import RandomForestClassifier\n",
        "from sklearn.pipeline import Pipeline\n",
        "%matplotlib inline\n",
        "import spacy\n",
        "import pandas as pd\n",
        "import numpy as np\n",
        "from sklearn.cluster import KMeans\n",
        "import nltk\n",
        "from nltk.tokenize.toktok import ToktokTokenizer\n",
        "import re\n",
        "from bs4 import BeautifulSoup\n",
        "#from contractions import contractions_dict\n",
        "#import contractions\n",
        "import unicodedata\n",
        "import string\n",
        "from nltk.tokenize import word_tokenize\n",
        "from nltk.corpus import stopwords, wordnet\n",
        "from nltk.stem import WordNetLemmatizer\n",
        "import requests\n",
        "from bs4 import BeautifulSoup\n",
        "from sklearn.externals import joblib\n",
        "import json\n",
        "from string import punctuation\n",
        "from nltk.corpus import stopwords\n",
        "#stopwords.words('russian')\n",
        "import pymorphy2\n",
        "morph = pymorphy2.MorphAnalyzer()\n",
        "from pyaspeller import YandexSpeller\n",
        "import nltk\n",
        "import re\n",
        "from nltk.stem import WordNetLemmatizer \n",
        "import pymorphy2\n",
        "from nltk.corpus import stopwords\n",
        "#from stop_words import get_stop_words\n",
        "nltk.download('stopwords')\n",
        "nltk.download('punkt')\n",
        "import os \n",
        "import json\n",
        "import numpy as np\n",
        "import pandas as pd\n",
        "from sklearn.externals import joblib\n",
        "from sklearn.model_selection import train_test_split, GridSearchCV\n",
        "from sklearn.base import BaseEstimator, TransformerMixin\n",
        "from sklearn.ensemble import RandomForestClassifier\n",
        "\n",
        "from sklearn.pipeline import make_pipeline\n",
        "\n",
        "import warnings\n",
        "warnings.filterwarnings(\"ignore\")"
      ],
      "execution_count": null,
      "outputs": []
    },
    {
      "cell_type": "code",
      "metadata": {
        "id": "_HF34G0r2OyF",
        "colab_type": "code",
        "colab": {}
      },
      "source": [
        "from nltk.corpus import stopwords\n",
        "import nltk\n",
        "from stop_words import get_stop_words\n",
        "nltk.download('stopwords')\n",
        "nltk.download('punkt')"
      ],
      "execution_count": null,
      "outputs": []
    },
    {
      "cell_type": "code",
      "metadata": {
        "id": "nxMJ4v6G2RcP",
        "colab_type": "code",
        "colab": {}
      },
      "source": [
        "with open ('/content/drive/My Drive/vacs_train (1).csv', \"r\", encoding='utf-8') as file:\n",
        "        df = pd.read_csv(file, delimiter = \";\")\n",
        "        df.columns = ((df.columns.str).replace(\"^ \",\"\")).str.replace(\" $\",\"\")# избавляемся от пробелов     \n",
        "        # print(df.columns)"
      ],
      "execution_count": null,
      "outputs": []
    },
    {
      "cell_type": "code",
      "metadata": {
        "id": "UQGet6so2TRS",
        "colab_type": "code",
        "colab": {}
      },
      "source": [
        "\n",
        "df['description.lemm']=df['description.lemm'].apply(lambda x:' '.join([word for word in x.split() if word not in (stop_words)]))"
      ],
      "execution_count": null,
      "outputs": []
    },
    {
      "cell_type": "code",
      "metadata": {
        "id": "sUzwcn7J2VOV",
        "colab_type": "code",
        "colab": {}
      },
      "source": [
        "from rutermextract import TermExtractor\n",
        "term_extractor = TermExtractor()\n",
        "df['description.lemm']=df['description.lemm'].apply(lambda x:' '.join([word for word in x.split() if word not in (stop_words)]))\n",
        "df['skills_extracted']=df['description.lemm'].apply(lambda row:term_extractor(row, strings=True, nested=True))"
      ],
      "execution_count": null,
      "outputs": []
    },
    {
      "cell_type": "code",
      "metadata": {
        "id": "bHz-eeuV2Woq",
        "colab_type": "code",
        "colab": {}
      },
      "source": [
        "df['skills_extracted']=df['description.lemm'].apply(lambda row:term_extractor(row, strings=True, nested=True))"
      ],
      "execution_count": null,
      "outputs": []
    },
    {
      "cell_type": "code",
      "metadata": {
        "id": "5TqQwha42Z8g",
        "colab_type": "code",
        "colab": {}
      },
      "source": [
        "import pandas as pd\n",
        "from sklearn.feature_extraction.text import TfidfVectorizer\n",
        "vect = TfidfVectorizer(lowercase = False)\n"
      ],
      "execution_count": null,
      "outputs": []
    },
    {
      "cell_type": "code",
      "metadata": {
        "id": "Kpqps2y_2bJk",
        "colab_type": "code",
        "colab": {}
      },
      "source": [
        "df['skills_extracted'].apply(lambda x: ' '.join(x))"
      ],
      "execution_count": null,
      "outputs": []
    },
    {
      "cell_type": "code",
      "metadata": {
        "id": "nyXbIbMC2cL9",
        "colab_type": "code",
        "colab": {}
      },
      "source": [
        "df['skills_extracted'] = df['skills_extracted'].tolist()"
      ],
      "execution_count": null,
      "outputs": []
    },
    {
      "cell_type": "code",
      "metadata": {
        "id": "ekxGbO142dGC",
        "colab_type": "code",
        "colab": {}
      },
      "source": [
        "df['skills_extracted'].apply(lambda x:' '.join(map(str, x)))\n"
      ],
      "execution_count": null,
      "outputs": []
    },
    {
      "cell_type": "code",
      "metadata": {
        "id": "dOxbo61r2rlP",
        "colab_type": "code",
        "colab": {}
      },
      "source": [
        "text=[w for w in test['Пример текста']]\n",
        "changes = {change['word']: change['s'][0] for change in speller.spell(text)}\n",
        "for word, suggestion in changes.items():\n",
        "    text = [ item.replace(word, suggestion) for item in text]\n",
        "test['Пример текста'] = pd.DataFrame(text)"
      ],
      "execution_count": null,
      "outputs": []
    },
    {
      "cell_type": "code",
      "metadata": {
        "id": "y9mbCSbi2f2F",
        "colab_type": "code",
        "colab": {}
      },
      "source": [
        "enc = DictVectorizer()\n",
        "X_train_categ = enc.fit_transform(df[['specializations',\n",
        "'city']].to_dict('records'))"
      ],
      "execution_count": null,
      "outputs": []
    },
    {
      "cell_type": "code",
      "metadata": {
        "id": "36Mlh_bX23me",
        "colab_type": "code",
        "colab": {}
      },
      "source": [
        "X_train= df\n",
        "test_X = df_test\n",
        "y_train = df['salary_from'] \n",
        "test_y = df_test['salary_from']"
      ],
      "execution_count": null,
      "outputs": []
    },
    {
      "cell_type": "code",
      "metadata": {
        "id": "ZefnmzcJ2wmC",
        "colab_type": "code",
        "colab": {}
      },
      "source": [
        "from sklearn.linear_model import SGDClassifier\n",
        "sgd = Pipeline([('vect', CountVectorizer()),\n",
        "                ('tfidf', TfidfTransformer()),\n",
        "                ('clf', Ridge(alpha=1.0,fit_intercept=False, solver='lsqr')),])\n",
        "sgd.fit(X_train, y_train)\n",
        "y_pred = sgd.predict(test_X)\n",
        "\n",
        "print('accuracy %s' % accuracy_score(y_pred, test_y))"
      ],
      "execution_count": null,
      "outputs": []
    },
    {
      "cell_type": "code",
      "metadata": {
        "id": "Ikzle9WN2jFg",
        "colab_type": "code",
        "colab": {}
      },
      "source": [
        "from sklearn.linear_model import Ridge\n",
        "clf = Ridge(alpha=1.0,fit_intercept=False, solver='lsqr')\n",
        "clf.fit(df, df['salary_from'])"
      ],
      "execution_count": null,
      "outputs": []
    },
    {
      "cell_type": "code",
      "metadata": {
        "id": "GT-G1rPh2oC2",
        "colab_type": "code",
        "colab": {}
      },
      "source": [
        "x_prediction = clf.predict(test_vacancies)\n",
        "print(x_prediction)"
      ],
      "execution_count": null,
      "outputs": []
    }
  ]
}