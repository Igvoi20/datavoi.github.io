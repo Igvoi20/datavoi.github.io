{
  "nbformat": 4,
  "nbformat_minor": 0,
  "metadata": {
    "kernelspec": {
      "display_name": "Python 3",
      "language": "python",
      "name": "python3"
    },
    "language_info": {
      "codemirror_mode": {
        "name": "ipython",
        "version": 3
      },
      "file_extension": ".py",
      "mimetype": "text/x-python",
      "name": "python",
      "nbconvert_exporter": "python",
      "pygments_lexer": "ipython3",
      "version": "3.7.4"
    },
    "colab": {
      "name": "Optimize memory usage.ipynb",
      "provenance": [],
      "include_colab_link": true
    }
  },
  "cells": [
    {
      "cell_type": "markdown",
      "metadata": {
        "id": "view-in-github",
        "colab_type": "text"
      },
      "source": [
        "<a href=\"https://colab.research.google.com/github/igorvojnyak/datavojnyak.github.io/blob/master/Optimize_memory_usage.ipynb\" target=\"_parent\"><img src=\"https://colab.research.google.com/assets/colab-badge.svg\" alt=\"Open In Colab\"/></a>"
      ]
    },
    {
      "cell_type": "code",
      "metadata": {
        "id": "P3XbRkEbLpMw",
        "colab_type": "code",
        "colab": {}
      },
      "source": [
        "import pandas as pd\n",
        "import numpy as np"
      ],
      "execution_count": 0,
      "outputs": []
    },
    {
      "cell_type": "code",
      "metadata": {
        "id": "kBOYXarwLpM0",
        "colab_type": "code",
        "colab": {},
        "outputId": "b88bf643-d7d6-44f0-91f8-de3b305ba133"
      },
      "source": [
        "for type_ in [\"f2\", \"f4\"]:\n",
        "    print (np.finfo(type_))\n",
        "for type_ in [\"i1\", \"i2\", \"i4\"]:\n",
        "    print (np.iinfo(type_))"
      ],
      "execution_count": 0,
      "outputs": [
        {
          "output_type": "stream",
          "text": [
            "Machine parameters for float16\n",
            "---------------------------------------------------------------\n",
            "precision =   3   resolution = 1.00040e-03\n",
            "machep =    -10   eps =        9.76562e-04\n",
            "negep =     -11   epsneg =     4.88281e-04\n",
            "minexp =    -14   tiny =       6.10352e-05\n",
            "maxexp =     16   max =        6.55040e+04\n",
            "nexp =        5   min =        -max\n",
            "---------------------------------------------------------------\n",
            "\n",
            "Machine parameters for float32\n",
            "---------------------------------------------------------------\n",
            "precision =   6   resolution = 1.0000000e-06\n",
            "machep =    -23   eps =        1.1920929e-07\n",
            "negep =     -24   epsneg =     5.9604645e-08\n",
            "minexp =   -126   tiny =       1.1754944e-38\n",
            "maxexp =    128   max =        3.4028235e+38\n",
            "nexp =        8   min =        -max\n",
            "---------------------------------------------------------------\n",
            "\n",
            "Machine parameters for int8\n",
            "---------------------------------------------------------------\n",
            "min = -128\n",
            "max = 127\n",
            "---------------------------------------------------------------\n",
            "\n",
            "Machine parameters for int16\n",
            "---------------------------------------------------------------\n",
            "min = -32768\n",
            "max = 32767\n",
            "---------------------------------------------------------------\n",
            "\n",
            "Machine parameters for int32\n",
            "---------------------------------------------------------------\n",
            "min = -2147483648\n",
            "max = 2147483647\n",
            "---------------------------------------------------------------\n",
            "\n"
          ],
          "name": "stdout"
        }
      ]
    },
    {
      "cell_type": "code",
      "metadata": {
        "id": "dS3MBRB9LpM5",
        "colab_type": "code",
        "colab": {}
      },
      "source": [
        "buildings = pd.read_csv(\"http://video.ittensive.com/machine-learning/ashrae/building_metadata.csv.gz\")\n",
        "weather = pd.read_csv(\"http://video.ittensive.com/machine-learning/ashrae/weather_train.csv.gz\")\n",
        "energy = pd.read_csv(\"http://video.ittensive.com/machine-learning/ashrae/train.0.csv.gz\")"
      ],
      "execution_count": 0,
      "outputs": []
    },
    {
      "cell_type": "code",
      "metadata": {
        "id": "EXWzLMniLpM8",
        "colab_type": "code",
        "colab": {},
        "outputId": "c11ae6a9-153c-4b1a-8ccd-b77b7c982fbe"
      },
      "source": [
        "#memory usage\n",
        "print (\"Строения: \", buildings.memory_usage().sum() / 1024**2, \"Мб\")\n",
        "print (\"Погода: \", weather.memory_usage().sum() / 1024**2, \"Мб\")\n",
        "print (\"Энергопотребление: \", energy.memory_usage().sum() / 1024**2, \"Мб\")"
      ],
      "execution_count": 0,
      "outputs": [
        {
          "output_type": "stream",
          "text": [
            "Строения:  0.06640625 Мб\n",
            "Погода:  9.597526550292969 Мб\n",
            "Энергопотребление:  368.06983947753906 Мб\n"
          ],
          "name": "stdout"
        }
      ]
    },
    {
      "cell_type": "code",
      "metadata": {
        "id": "NjjRMM5LLpNA",
        "colab_type": "code",
        "colab": {}
      },
      "source": [
        "#The function of memory optimization\n",
        "def reduce_mem_usage (df):\n",
        "    start_mem = df.memory_usage().sum() / 1024**2    \n",
        "    for col in df.columns:\n",
        "        col_type = df[col].dtypes\n",
        "        if str(col_type)[:5] == \"float\":\n",
        "            c_min = df[col].min()\n",
        "            c_max = df[col].max()\n",
        "            if c_min > np.finfo(\"f2\").min and c_max < np.finfo(\"f2\").max:\n",
        "                df[col] = df[col].astype(np.float16)\n",
        "            elif c_min > np.finfo(\"f4\").min and c_max < np.finfo(\"f4\").max:\n",
        "                df[col] = df[col].astype(np.float32)\n",
        "            else:\n",
        "                df[col] = df[col].astype(np.float64)\n",
        "        elif str(col_type)[:3] == \"int\":\n",
        "            c_min = df[col].min()\n",
        "            c_max = df[col].max()\n",
        "            if c_min > np.iinfo(\"i1\").min and c_max < np.iinfo(\"i1\").max:\n",
        "                df[col] = df[col].astype(np.int8)\n",
        "            elif c_min > np.iinfo(\"i2\").min and c_max < np.iinfo(\"i2\").max:\n",
        "                df[col] = df[col].astype(np.int16)\n",
        "            elif c_min > np.iinfo(\"i4\").min and c_max < np.iinfo(\"i4\").max:\n",
        "                df[col] = df[col].astype(np.int32)\n",
        "            elif c_min > np.iinfo(\"i8\").min and c_max < np.iinfo(\"i8\").max:\n",
        "                df[col] = df[col].astype(np.int64)\n",
        "        elif col == \"timestamp\":\n",
        "            df[col] = pd.to_datetime(df[col])\n",
        "        elif str(col_type)[:8] != \"datetime\":\n",
        "            df[col] = df[col].astype(\"category\")\n",
        "    end_mem = df.memory_usage().sum() / 1024**2\n",
        "    print('Потребление памяти меньше на',\n",
        "          round(start_mem - end_mem, 2),\n",
        "          'Мб (минус',\n",
        "          round(100 * (start_mem - end_mem) / start_mem, 1),\n",
        "         '%)')\n",
        "    return df"
      ],
      "execution_count": 0,
      "outputs": []
    },
    {
      "cell_type": "code",
      "metadata": {
        "id": "u8LJu56MLpND",
        "colab_type": "code",
        "colab": {},
        "outputId": "21827649-669e-4a35-9e45-e2822bedcc93"
      },
      "source": [
        "#Optimization memory:\n",
        "buildings = reduce_mem_usage(buildings)\n",
        "print (buildings.info())"
      ],
      "execution_count": 0,
      "outputs": [
        {
          "output_type": "stream",
          "text": [
            "Потребление памяти меньше на 0.05 Мб (минус 73.8 %)\n",
            "<class 'pandas.core.frame.DataFrame'>\n",
            "RangeIndex: 1449 entries, 0 to 1448\n",
            "Data columns (total 6 columns):\n",
            "site_id        1449 non-null int8\n",
            "building_id    1449 non-null int16\n",
            "primary_use    1449 non-null category\n",
            "square_feet    1449 non-null int32\n",
            "year_built     675 non-null float16\n",
            "floor_count    355 non-null float16\n",
            "dtypes: category(1), float16(2), int16(1), int32(1), int8(1)\n",
            "memory usage: 17.8 KB\n",
            "None\n"
          ],
          "name": "stdout"
        }
      ]
    },
    {
      "cell_type": "code",
      "metadata": {
        "id": "eyTj5AADLpNH",
        "colab_type": "code",
        "colab": {},
        "outputId": "04e3bb10-d63a-42d6-b873-ccdb267c5358"
      },
      "source": [
        "weather = reduce_mem_usage(weather)\n",
        "print (weather.info())"
      ],
      "execution_count": 0,
      "outputs": [
        {
          "output_type": "stream",
          "text": [
            "Потребление памяти меньше на 6.53 Мб (минус 68.1 %)\n",
            "<class 'pandas.core.frame.DataFrame'>\n",
            "RangeIndex: 139773 entries, 0 to 139772\n",
            "Data columns (total 9 columns):\n",
            "site_id               139773 non-null int8\n",
            "timestamp             139773 non-null datetime64[ns]\n",
            "air_temperature       139718 non-null float16\n",
            "cloud_coverage        70600 non-null float16\n",
            "dew_temperature       139660 non-null float16\n",
            "precip_depth_1_hr     89484 non-null float16\n",
            "sea_level_pressure    129155 non-null float16\n",
            "wind_direction        133505 non-null float16\n",
            "wind_speed            139469 non-null float16\n",
            "dtypes: datetime64[ns](1), float16(7), int8(1)\n",
            "memory usage: 3.1 MB\n",
            "None\n"
          ],
          "name": "stdout"
        }
      ]
    },
    {
      "cell_type": "code",
      "metadata": {
        "id": "7UTNmTdmLpNK",
        "colab_type": "code",
        "colab": {},
        "outputId": "af532782-52e2-43cd-ebb8-1e6ceba0b56c"
      },
      "source": [
        "energy = reduce_mem_usage(energy)\n",
        "print (energy.info())"
      ],
      "execution_count": 0,
      "outputs": [
        {
          "output_type": "stream",
          "text": [
            "Потребление памяти меньше на 195.54 Мб (минус 53.1 %)\n",
            "<class 'pandas.core.frame.DataFrame'>\n",
            "RangeIndex: 12060910 entries, 0 to 12060909\n",
            "Data columns (total 4 columns):\n",
            "building_id      int16\n",
            "meter            int8\n",
            "timestamp        datetime64[ns]\n",
            "meter_reading    float32\n",
            "dtypes: datetime64[ns](1), float32(1), int16(1), int8(1)\n",
            "memory usage: 172.5 MB\n",
            "None\n"
          ],
          "name": "stdout"
        }
      ]
    },
    {
      "cell_type": "code",
      "metadata": {
        "id": "J2_VtmhOLpNN",
        "colab_type": "code",
        "colab": {},
        "outputId": "096cce17-8389-47bc-ccc0-5d6ad395802a"
      },
      "source": [
        "energy = pd.merge(left=energy, right=buildings, how=\"left\",\n",
        "                   left_on=\"building_id\", right_on=\"building_id\")\n",
        "energy = pd.merge(left=energy.set_index([\"timestamp\", \"site_id\"]),\n",
        "                  right=weather.set_index([\"timestamp\", \"site_id\"]),\n",
        "                  how=\"left\", left_index=True, right_index=True)\n",
        "energy.reset_index(inplace=True)\n",
        "energy = energy.drop(columns=[\"site_id\", \"meter\"], axis=1)\n",
        "print (energy.info())"
      ],
      "execution_count": 0,
      "outputs": [
        {
          "output_type": "stream",
          "text": [
            "<class 'pandas.core.frame.DataFrame'>\n",
            "RangeIndex: 12060910 entries, 0 to 12060909\n",
            "Data columns (total 14 columns):\n",
            "timestamp             datetime64[ns]\n",
            "building_id           int16\n",
            "meter_reading         float32\n",
            "primary_use           category\n",
            "square_feet           int32\n",
            "year_built            float16\n",
            "floor_count           float16\n",
            "air_temperature       float16\n",
            "cloud_coverage        float16\n",
            "dew_temperature       float16\n",
            "precip_depth_1_hr     float16\n",
            "sea_level_pressure    float16\n",
            "wind_direction        float16\n",
            "wind_speed            float16\n",
            "dtypes: category(1), datetime64[ns](1), float16(9), float32(1), int16(1), int32(1)\n",
            "memory usage: 425.6 MB\n",
            "None\n"
          ],
          "name": "stdout"
        }
      ]
    }
  ]
}