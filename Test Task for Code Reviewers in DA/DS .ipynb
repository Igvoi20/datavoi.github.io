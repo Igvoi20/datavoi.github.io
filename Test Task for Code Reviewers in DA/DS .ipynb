{
  "nbformat": 4,
  "nbformat_minor": 0,
  "metadata": {
    "colab": {
      "name": "Untitled16.ipynb",
      "provenance": [],
      "collapsed_sections": [],
      "authorship_tag": "ABX9TyMx9PdfiSWQZu5TtRqbwsWv",
      "include_colab_link": true
    },
    "kernelspec": {
      "name": "python3",
      "display_name": "Python 3"
    }
  },
  "cells": [
    {
      "cell_type": "markdown",
      "metadata": {
        "id": "view-in-github",
        "colab_type": "text"
      },
      "source": [
        "<a href=\"https://colab.research.google.com/github/igorvojnyak/datavojnyak.github.io/blob/master/Test%20Task%20for%20Code%20Reviewers%20in%20DA/DS%20.ipynb\" target=\"_parent\"><img src=\"https://colab.research.google.com/assets/colab-badge.svg\" alt=\"Open In Colab\"/></a>"
      ]
    },
    {
      "cell_type": "code",
      "metadata": {
        "id": "KKaMu3IBvGHu",
        "colab_type": "code",
        "colab": {}
      },
      "source": [
        "import numpy as np\n",
        "import pandas as pd"
      ],
      "execution_count": 15,
      "outputs": []
    },
    {
      "cell_type": "code",
      "metadata": {
        "id": "4qXGXS1n2Dm_",
        "colab_type": "code",
        "colab": {}
      },
      "source": [
        "event_data = pd.read_csv('/content/event_data.csv')\n",
        "games = pd.read_csv('/content/games.csv')\n",
        "movie_metadata = pd.read_csv('/content/movie_metadata.csv')"
      ],
      "execution_count": 17,
      "outputs": []
    },
    {
      "cell_type": "markdown",
      "metadata": {
        "id": "XYapjFYVsuG2",
        "colab_type": "text"
      },
      "source": [
        "Task 1. Working with data "
      ]
    },
    {
      "cell_type": "code",
      "metadata": {
        "id": "ouhgIxDC2fzj",
        "colab_type": "code",
        "colab": {
          "base_uri": "https://localhost:8080/",
          "height": 34
        },
        "outputId": "7af8bc9c-4698-456a-bc6d-964d0033a875"
      },
      "source": [
        "#The duration column contains data on the film length. How many missing values are there in this column? \n",
        "movie_metadata['duration'].isna().sum()"
      ],
      "execution_count": 19,
      "outputs": [
        {
          "output_type": "execute_result",
          "data": {
            "text/plain": [
              "15"
            ]
          },
          "metadata": {
            "tags": []
          },
          "execution_count": 19
        }
      ]
    },
    {
      "cell_type": "code",
      "metadata": {
        "id": "_4j9Rzop3tSH",
        "colab_type": "code",
        "colab": {
          "base_uri": "https://localhost:8080/",
          "height": 35
        },
        "outputId": "03e07b21-dcaf-4a3f-8480-4873b9540524"
      },
      "source": [
        "movie_metadata['duration'].median()"
      ],
      "execution_count": null,
      "outputs": [
        {
          "output_type": "execute_result",
          "data": {
            "text/plain": [
              "103.0"
            ]
          },
          "metadata": {
            "tags": []
          },
          "execution_count": 5
        }
      ]
    },
    {
      "cell_type": "code",
      "metadata": {
        "id": "TrK25Phh9kDD",
        "colab_type": "code",
        "colab": {}
      },
      "source": [
        "# missing values in the duration column with the median value for this column. \n",
        "movie_metadata['duration'].fillna(movie_metadata['duration'].median(),inplace = True)"
      ],
      "execution_count": 24,
      "outputs": []
    },
    {
      "cell_type": "code",
      "metadata": {
        "id": "7RuM4MTE93VK",
        "colab_type": "code",
        "colab": {
          "base_uri": "https://localhost:8080/",
          "height": 221
        },
        "outputId": "205cc5f2-7cd4-46c2-ca8c-b9c2505ebb51"
      },
      "source": [
        "movie_metadata['duration']"
      ],
      "execution_count": 25,
      "outputs": [
        {
          "output_type": "execute_result",
          "data": {
            "text/plain": [
              "0       178.0\n",
              "1       169.0\n",
              "2       148.0\n",
              "3       164.0\n",
              "4       103.0\n",
              "        ...  \n",
              "5038     87.0\n",
              "5039     43.0\n",
              "5040     76.0\n",
              "5041    100.0\n",
              "5042     90.0\n",
              "Name: duration, Length: 5043, dtype: float64"
            ]
          },
          "metadata": {
            "tags": []
          },
          "execution_count": 25
        }
      ]
    },
    {
      "cell_type": "code",
      "metadata": {
        "id": "Cwyns1BY96as",
        "colab_type": "code",
        "colab": {
          "base_uri": "https://localhost:8080/",
          "height": 34
        },
        "outputId": "1dcad5d8-52cf-4321-e394-9e6c711792cf"
      },
      "source": [
        "print('average film length', round(movie_metadata['duration'].mean(),2))"
      ],
      "execution_count": 20,
      "outputs": [
        {
          "output_type": "stream",
          "text": [
            "average film length 107.2\n"
          ],
          "name": "stdout"
        }
      ]
    },
    {
      "cell_type": "code",
      "metadata": {
        "id": "6pCizkfHUHfr",
        "colab_type": "code",
        "colab": {}
      },
      "source": [
        "# movie_duration_category column, which will contain three categories depending on the film length\n",
        "movie_metadata['movie_duration_category'] = movie_metadata['duration'].map(lambda x:'<90' if x<=90 else \\\n",
        "                                                                           ('90–120' if 90 < x <=120 else \\\n",
        "                                                                           ('>120' if x> 120 else \\\n",
        "                                                                            'No Category')))"
      ],
      "execution_count": 26,
      "outputs": []
    },
    {
      "cell_type": "code",
      "metadata": {
        "id": "g3mPFiDGRBK6",
        "colab_type": "code",
        "colab": {
          "base_uri": "https://localhost:8080/",
          "height": 419
        },
        "outputId": "11823128-f32f-4116-aabd-453cc2ff7e97"
      },
      "source": [
        "movie_metadata[['movie_duration_category','duration']]"
      ],
      "execution_count": 27,
      "outputs": [
        {
          "output_type": "execute_result",
          "data": {
            "text/html": [
              "<div>\n",
              "<style scoped>\n",
              "    .dataframe tbody tr th:only-of-type {\n",
              "        vertical-align: middle;\n",
              "    }\n",
              "\n",
              "    .dataframe tbody tr th {\n",
              "        vertical-align: top;\n",
              "    }\n",
              "\n",
              "    .dataframe thead th {\n",
              "        text-align: right;\n",
              "    }\n",
              "</style>\n",
              "<table border=\"1\" class=\"dataframe\">\n",
              "  <thead>\n",
              "    <tr style=\"text-align: right;\">\n",
              "      <th></th>\n",
              "      <th>movie_duration_category</th>\n",
              "      <th>duration</th>\n",
              "    </tr>\n",
              "  </thead>\n",
              "  <tbody>\n",
              "    <tr>\n",
              "      <th>0</th>\n",
              "      <td>&gt;120</td>\n",
              "      <td>178.0</td>\n",
              "    </tr>\n",
              "    <tr>\n",
              "      <th>1</th>\n",
              "      <td>&gt;120</td>\n",
              "      <td>169.0</td>\n",
              "    </tr>\n",
              "    <tr>\n",
              "      <th>2</th>\n",
              "      <td>&gt;120</td>\n",
              "      <td>148.0</td>\n",
              "    </tr>\n",
              "    <tr>\n",
              "      <th>3</th>\n",
              "      <td>&gt;120</td>\n",
              "      <td>164.0</td>\n",
              "    </tr>\n",
              "    <tr>\n",
              "      <th>4</th>\n",
              "      <td>90–120</td>\n",
              "      <td>103.0</td>\n",
              "    </tr>\n",
              "    <tr>\n",
              "      <th>...</th>\n",
              "      <td>...</td>\n",
              "      <td>...</td>\n",
              "    </tr>\n",
              "    <tr>\n",
              "      <th>5038</th>\n",
              "      <td>&lt;90</td>\n",
              "      <td>87.0</td>\n",
              "    </tr>\n",
              "    <tr>\n",
              "      <th>5039</th>\n",
              "      <td>&lt;90</td>\n",
              "      <td>43.0</td>\n",
              "    </tr>\n",
              "    <tr>\n",
              "      <th>5040</th>\n",
              "      <td>&lt;90</td>\n",
              "      <td>76.0</td>\n",
              "    </tr>\n",
              "    <tr>\n",
              "      <th>5041</th>\n",
              "      <td>90–120</td>\n",
              "      <td>100.0</td>\n",
              "    </tr>\n",
              "    <tr>\n",
              "      <th>5042</th>\n",
              "      <td>&lt;90</td>\n",
              "      <td>90.0</td>\n",
              "    </tr>\n",
              "  </tbody>\n",
              "</table>\n",
              "<p>5043 rows × 2 columns</p>\n",
              "</div>"
            ],
            "text/plain": [
              "     movie_duration_category  duration\n",
              "0                       >120     178.0\n",
              "1                       >120     169.0\n",
              "2                       >120     148.0\n",
              "3                       >120     164.0\n",
              "4                     90–120     103.0\n",
              "...                      ...       ...\n",
              "5038                     <90      87.0\n",
              "5039                     <90      43.0\n",
              "5040                     <90      76.0\n",
              "5041                  90–120     100.0\n",
              "5042                     <90      90.0\n",
              "\n",
              "[5043 rows x 2 columns]"
            ]
          },
          "metadata": {
            "tags": []
          },
          "execution_count": 27
        }
      ]
    },
    {
      "cell_type": "code",
      "metadata": {
        "id": "qedbLaFRatl9",
        "colab_type": "code",
        "colab": {
          "base_uri": "https://localhost:8080/",
          "height": 419
        },
        "outputId": "4846fc0c-309b-4e7a-a564-2aaf71f8e32e"
      },
      "source": [
        "# a summary table for films released after 2000 (inclusively), to list the numbers of films: \n",
        "df = pd.DataFrame(movie_metadata['movie_duration_category'], index =movie_metadata['title_year'].dropna(axis=0).astype(np.int64)).reset_index()  \n",
        "df"
      ],
      "execution_count": 28,
      "outputs": [
        {
          "output_type": "execute_result",
          "data": {
            "text/html": [
              "<div>\n",
              "<style scoped>\n",
              "    .dataframe tbody tr th:only-of-type {\n",
              "        vertical-align: middle;\n",
              "    }\n",
              "\n",
              "    .dataframe tbody tr th {\n",
              "        vertical-align: top;\n",
              "    }\n",
              "\n",
              "    .dataframe thead th {\n",
              "        text-align: right;\n",
              "    }\n",
              "</style>\n",
              "<table border=\"1\" class=\"dataframe\">\n",
              "  <thead>\n",
              "    <tr style=\"text-align: right;\">\n",
              "      <th></th>\n",
              "      <th>title_year</th>\n",
              "      <th>movie_duration_category</th>\n",
              "    </tr>\n",
              "  </thead>\n",
              "  <tbody>\n",
              "    <tr>\n",
              "      <th>0</th>\n",
              "      <td>2009</td>\n",
              "      <td>&lt;90</td>\n",
              "    </tr>\n",
              "    <tr>\n",
              "      <th>1</th>\n",
              "      <td>2007</td>\n",
              "      <td>&gt;120</td>\n",
              "    </tr>\n",
              "    <tr>\n",
              "      <th>2</th>\n",
              "      <td>2015</td>\n",
              "      <td>90–120</td>\n",
              "    </tr>\n",
              "    <tr>\n",
              "      <th>3</th>\n",
              "      <td>2012</td>\n",
              "      <td>&gt;120</td>\n",
              "    </tr>\n",
              "    <tr>\n",
              "      <th>4</th>\n",
              "      <td>2012</td>\n",
              "      <td>&gt;120</td>\n",
              "    </tr>\n",
              "    <tr>\n",
              "      <th>...</th>\n",
              "      <td>...</td>\n",
              "      <td>...</td>\n",
              "    </tr>\n",
              "    <tr>\n",
              "      <th>4930</th>\n",
              "      <td>2011</td>\n",
              "      <td>&gt;120</td>\n",
              "    </tr>\n",
              "    <tr>\n",
              "      <th>4931</th>\n",
              "      <td>2013</td>\n",
              "      <td>&gt;120</td>\n",
              "    </tr>\n",
              "    <tr>\n",
              "      <th>4932</th>\n",
              "      <td>2013</td>\n",
              "      <td>&gt;120</td>\n",
              "    </tr>\n",
              "    <tr>\n",
              "      <th>4933</th>\n",
              "      <td>2012</td>\n",
              "      <td>&gt;120</td>\n",
              "    </tr>\n",
              "    <tr>\n",
              "      <th>4934</th>\n",
              "      <td>2004</td>\n",
              "      <td>&gt;120</td>\n",
              "    </tr>\n",
              "  </tbody>\n",
              "</table>\n",
              "<p>4935 rows × 2 columns</p>\n",
              "</div>"
            ],
            "text/plain": [
              "      title_year movie_duration_category\n",
              "0           2009                     <90\n",
              "1           2007                    >120\n",
              "2           2015                  90–120\n",
              "3           2012                    >120\n",
              "4           2012                    >120\n",
              "...          ...                     ...\n",
              "4930        2011                    >120\n",
              "4931        2013                    >120\n",
              "4932        2013                    >120\n",
              "4933        2012                    >120\n",
              "4934        2004                    >120\n",
              "\n",
              "[4935 rows x 2 columns]"
            ]
          },
          "metadata": {
            "tags": []
          },
          "execution_count": 28
        }
      ]
    },
    {
      "cell_type": "code",
      "metadata": {
        "id": "xjYNZLTJ2icA",
        "colab_type": "code",
        "colab": {
          "base_uri": "https://localhost:8080/",
          "height": 35
        },
        "outputId": "04be2153-3624-49df-8d86-dd22e8f86a3e"
      },
      "source": [
        "print('films between 90 minutes and two hours in 2008 = ', df[(df.title_year == 2008) & (df.movie_duration_category == '90–120')].count()[\"title_year\"])"
      ],
      "execution_count": null,
      "outputs": [
        {
          "output_type": "stream",
          "text": [
            "films between 90 minutes and two hours in 2008 =  225\n"
          ],
          "name": "stdout"
        }
      ]
    },
    {
      "cell_type": "code",
      "metadata": {
        "id": "Gqex0O6kfoIt",
        "colab_type": "code",
        "colab": {}
      },
      "source": [
        "#a column called movie_plot_category, to contain four categories depending on the key words in the column\n",
        "movie_metadata['movie_plot_category']  = np.where(movie_metadata['plot_keywords'].str.contains(\"NaN\"), 'NaN',\n",
        "                                                np.where(movie_metadata['plot_keywords'].str.contains(\"love\"), 'love',\n",
        "                                                np.where(movie_metadata['plot_keywords'].str.contains(\"death\"), 'death',\n",
        "                                                np.where((movie_metadata['plot_keywords'].str.contains(\"love\") & (movie_metadata['plot_keywords'].str.contains(\"death\"))), 'love_and_death','other'))))"
      ],
      "execution_count": 29,
      "outputs": []
    },
    {
      "cell_type": "code",
      "metadata": {
        "id": "CsP4XNuhzXNT",
        "colab_type": "code",
        "colab": {
          "base_uri": "https://localhost:8080/",
          "height": 221
        },
        "outputId": "a85781c0-9e4f-417d-82ab-5fb4ae0b9f61"
      },
      "source": [
        "movie_metadata['plot_keywords']"
      ],
      "execution_count": 30,
      "outputs": [
        {
          "output_type": "execute_result",
          "data": {
            "text/plain": [
              "0                  avatar|future|marine|native|paraplegic\n",
              "1       goddess|marriage ceremony|marriage proposal|pi...\n",
              "2                     bomb|espionage|sequel|spy|terrorist\n",
              "3       deception|imprisonment|lawlessness|police offi...\n",
              "4                                                     NaN\n",
              "                              ...                        \n",
              "5038               fraud|postal worker|prison|theft|trial\n",
              "5039         cult|fbi|hideout|prison escape|serial killer\n",
              "5040                                                  NaN\n",
              "5041                                                  NaN\n",
              "5042    actress name in title|crush|date|four word tit...\n",
              "Name: plot_keywords, Length: 5043, dtype: object"
            ]
          },
          "metadata": {
            "tags": []
          },
          "execution_count": 30
        }
      ]
    },
    {
      "cell_type": "code",
      "metadata": {
        "id": "ITPwGK9Fr0JW",
        "colab_type": "code",
        "colab": {
          "base_uri": "https://localhost:8080/",
          "height": 884
        },
        "outputId": "39722d2c-577b-4a7a-9285-e4fc0c28ebe6"
      },
      "source": [
        "movie_metadata['movie_plot_category'].head(50)  "
      ],
      "execution_count": 31,
      "outputs": [
        {
          "output_type": "execute_result",
          "data": {
            "text/plain": [
              "0     other\n",
              "1     other\n",
              "2     other\n",
              "3     other\n",
              "4       NaN\n",
              "5     other\n",
              "6     other\n",
              "7     other\n",
              "8     other\n",
              "9      love\n",
              "10    other\n",
              "11    other\n",
              "12    other\n",
              "13    other\n",
              "14    other\n",
              "15    other\n",
              "16    other\n",
              "17    other\n",
              "18    other\n",
              "19    other\n",
              "20    other\n",
              "21    other\n",
              "22    other\n",
              "23    other\n",
              "24    other\n",
              "25    other\n",
              "26     love\n",
              "27    other\n",
              "28    other\n",
              "29    other\n",
              "30    other\n",
              "31    death\n",
              "32    other\n",
              "33    other\n",
              "34    other\n",
              "35    other\n",
              "36    other\n",
              "37    other\n",
              "38    other\n",
              "39    death\n",
              "40    other\n",
              "41    other\n",
              "42    other\n",
              "43    other\n",
              "44    death\n",
              "45    other\n",
              "46    other\n",
              "47    other\n",
              "48    other\n",
              "49    other\n",
              "Name: movie_plot_category, dtype: object"
            ]
          },
          "metadata": {
            "tags": []
          },
          "execution_count": 31
        }
      ]
    },
    {
      "cell_type": "code",
      "metadata": {
        "id": "EQISyBj0OzGx",
        "colab_type": "code",
        "colab": {
          "base_uri": "https://localhost:8080/",
          "height": 34
        },
        "outputId": "53fc27ec-a70d-400f-8771-9a0db37c3550"
      },
      "source": [
        "movie_metadata[movie_metadata.movie_plot_category == 'death'].count()[\"plot_keywords\"]"
      ],
      "execution_count": 32,
      "outputs": [
        {
          "output_type": "execute_result",
          "data": {
            "text/plain": [
              "172"
            ]
          },
          "metadata": {
            "tags": []
          },
          "execution_count": 32
        }
      ]
    },
    {
      "cell_type": "code",
      "metadata": {
        "id": "frtoQxslturu",
        "colab_type": "code",
        "colab": {
          "base_uri": "https://localhost:8080/",
          "height": 221
        },
        "outputId": "e6b7a144-aaa4-4c4c-a771-d80bc8cc952c"
      },
      "source": [
        "movie_metadata['imdb_score']"
      ],
      "execution_count": 33,
      "outputs": [
        {
          "output_type": "execute_result",
          "data": {
            "text/plain": [
              "0       7.9\n",
              "1       7.1\n",
              "2       6.8\n",
              "3       8.5\n",
              "4       7.1\n",
              "       ... \n",
              "5038    7.7\n",
              "5039    7.5\n",
              "5040    6.3\n",
              "5041    6.3\n",
              "5042    6.6\n",
              "Name: imdb_score, Length: 5043, dtype: float64"
            ]
          },
          "metadata": {
            "tags": []
          },
          "execution_count": 33
        }
      ]
    },
    {
      "cell_type": "code",
      "metadata": {
        "id": "VKdC-cJqZgmr",
        "colab_type": "code",
        "colab": {
          "base_uri": "https://localhost:8080/",
          "height": 119
        },
        "outputId": "aea003c0-ded1-4c08-a6b7-fc0e48f57554"
      },
      "source": [
        "#average rating of films depending on which movie_plot_category category they belong to\n",
        "group = movie_metadata.groupby('movie_plot_category')\n",
        "print(group['imdb_score'].agg(np.mean))"
      ],
      "execution_count": 288,
      "outputs": [
        {
          "output_type": "stream",
          "text": [
            "movie_plot_category\n",
            "NaN      6.092810\n",
            "death    6.535465\n",
            "love     6.576000\n",
            "other    6.443017\n",
            "Name: imdb_score, dtype: float64\n"
          ],
          "name": "stdout"
        }
      ]
    },
    {
      "cell_type": "code",
      "metadata": {
        "id": "ctszKj2OxUEs",
        "colab_type": "code",
        "colab": {}
      },
      "source": [
        "movie_metadata['budget'] = movie_metadata['budget'].str.replace('$', '')"
      ],
      "execution_count": 34,
      "outputs": []
    },
    {
      "cell_type": "code",
      "metadata": {
        "id": "xQJVAgA3P1KG",
        "colab_type": "code",
        "colab": {
          "base_uri": "https://localhost:8080/",
          "height": 221
        },
        "outputId": "872f64f0-f1cc-4e75-ddce-ad1e68e416ea"
      },
      "source": [
        "movie_metadata['budget']= movie_metadata['budget'].astype(float)\n",
        "movie_metadata['budget']"
      ],
      "execution_count": 35,
      "outputs": [
        {
          "output_type": "execute_result",
          "data": {
            "text/plain": [
              "0       237000000.0\n",
              "1       300000000.0\n",
              "2       245000000.0\n",
              "3       250000000.0\n",
              "4               0.0\n",
              "           ...     \n",
              "5038            0.0\n",
              "5039            0.0\n",
              "5040         1400.0\n",
              "5041            0.0\n",
              "5042         1100.0\n",
              "Name: budget, Length: 5043, dtype: float64"
            ]
          },
          "metadata": {
            "tags": []
          },
          "execution_count": 35
        }
      ]
    },
    {
      "cell_type": "code",
      "metadata": {
        "id": "lpiWPu-rziqe",
        "colab_type": "code",
        "colab": {
          "base_uri": "https://localhost:8080/",
          "height": 35
        },
        "outputId": "c2bf158a-afa4-460a-fb1d-5ff5dcb6cce4"
      },
      "source": [
        "# the median budget for all the films listed\n",
        "int(movie_metadata['budget'].median())"
      ],
      "execution_count": null,
      "outputs": [
        {
          "output_type": "execute_result",
          "data": {
            "text/plain": [
              "15000000"
            ]
          },
          "metadata": {
            "tags": []
          },
          "execution_count": 21
        }
      ]
    },
    {
      "cell_type": "code",
      "metadata": {
        "id": "yhFHwI9GP1F7",
        "colab_type": "code",
        "colab": {
          "base_uri": "https://localhost:8080/",
          "height": 35
        },
        "outputId": "ec55f838-8224-4878-e380-b60245b45f82"
      },
      "source": [
        "print(' median budget for all the films ', int(movie_metadata['budget'].median()))"
      ],
      "execution_count": null,
      "outputs": [
        {
          "output_type": "stream",
          "text": [
            " median budget for all the films  15000000\n"
          ],
          "name": "stdout"
        }
      ]
    },
    {
      "cell_type": "markdown",
      "metadata": {
        "id": "ZkU-uqMfzsHw",
        "colab_type": "text"
      },
      "source": [
        "Task 2. Problem solving "
      ]
    },
    {
      "cell_type": "code",
      "metadata": {
        "id": "inu4jd2ZvobE",
        "colab_type": "code",
        "colab": {
          "base_uri": "https://localhost:8080/",
          "height": 407
        },
        "outputId": "5bb8c875-d56c-4486-8e1a-3493001ccec0"
      },
      "source": [
        "event_data = pd.read_csv('/content/event_data.csv')\n",
        "event_data"
      ],
      "execution_count": null,
      "outputs": [
        {
          "output_type": "execute_result",
          "data": {
            "text/html": [
              "<div>\n",
              "<style scoped>\n",
              "    .dataframe tbody tr th:only-of-type {\n",
              "        vertical-align: middle;\n",
              "    }\n",
              "\n",
              "    .dataframe tbody tr th {\n",
              "        vertical-align: top;\n",
              "    }\n",
              "\n",
              "    .dataframe thead th {\n",
              "        text-align: right;\n",
              "    }\n",
              "</style>\n",
              "<table border=\"1\" class=\"dataframe\">\n",
              "  <thead>\n",
              "    <tr style=\"text-align: right;\">\n",
              "      <th></th>\n",
              "      <th>user_id</th>\n",
              "      <th>event_date</th>\n",
              "      <th>event_type</th>\n",
              "      <th>purchase_amount</th>\n",
              "    </tr>\n",
              "  </thead>\n",
              "  <tbody>\n",
              "    <tr>\n",
              "      <th>0</th>\n",
              "      <td>c40e6a</td>\n",
              "      <td>2019-07-29 00:02:15</td>\n",
              "      <td>registration</td>\n",
              "      <td>NaN</td>\n",
              "    </tr>\n",
              "    <tr>\n",
              "      <th>1</th>\n",
              "      <td>a2b682</td>\n",
              "      <td>2019-07-29 00:04:46</td>\n",
              "      <td>registration</td>\n",
              "      <td>NaN</td>\n",
              "    </tr>\n",
              "    <tr>\n",
              "      <th>2</th>\n",
              "      <td>9ac888</td>\n",
              "      <td>2019-07-29 00:13:22</td>\n",
              "      <td>registration</td>\n",
              "      <td>NaN</td>\n",
              "    </tr>\n",
              "    <tr>\n",
              "      <th>3</th>\n",
              "      <td>93ff22</td>\n",
              "      <td>2019-07-29 00:16:47</td>\n",
              "      <td>registration</td>\n",
              "      <td>NaN</td>\n",
              "    </tr>\n",
              "    <tr>\n",
              "      <th>4</th>\n",
              "      <td>65ef85</td>\n",
              "      <td>2019-07-29 00:19:23</td>\n",
              "      <td>registration</td>\n",
              "      <td>NaN</td>\n",
              "    </tr>\n",
              "    <tr>\n",
              "      <th>...</th>\n",
              "      <td>...</td>\n",
              "      <td>...</td>\n",
              "      <td>...</td>\n",
              "      <td>...</td>\n",
              "    </tr>\n",
              "    <tr>\n",
              "      <th>79737</th>\n",
              "      <td>930c23</td>\n",
              "      <td>2019-09-01 23:57:41</td>\n",
              "      <td>simple_event</td>\n",
              "      <td>NaN</td>\n",
              "    </tr>\n",
              "    <tr>\n",
              "      <th>79738</th>\n",
              "      <td>a84999</td>\n",
              "      <td>2019-09-01 23:57:50</td>\n",
              "      <td>simple_event</td>\n",
              "      <td>NaN</td>\n",
              "    </tr>\n",
              "    <tr>\n",
              "      <th>79739</th>\n",
              "      <td>175e4d</td>\n",
              "      <td>2019-09-01 23:59:40</td>\n",
              "      <td>simple_event</td>\n",
              "      <td>NaN</td>\n",
              "    </tr>\n",
              "    <tr>\n",
              "      <th>79740</th>\n",
              "      <td>1c2210</td>\n",
              "      <td>2019-09-01 23:59:51</td>\n",
              "      <td>simple_event</td>\n",
              "      <td>NaN</td>\n",
              "    </tr>\n",
              "    <tr>\n",
              "      <th>79741</th>\n",
              "      <td>d799dc</td>\n",
              "      <td>2019-09-01 23:59:54</td>\n",
              "      <td>simple_event</td>\n",
              "      <td>NaN</td>\n",
              "    </tr>\n",
              "  </tbody>\n",
              "</table>\n",
              "<p>79742 rows × 4 columns</p>\n",
              "</div>"
            ],
            "text/plain": [
              "      user_id           event_date    event_type  purchase_amount\n",
              "0      c40e6a  2019-07-29 00:02:15  registration              NaN\n",
              "1      a2b682  2019-07-29 00:04:46  registration              NaN\n",
              "2      9ac888  2019-07-29 00:13:22  registration              NaN\n",
              "3      93ff22  2019-07-29 00:16:47  registration              NaN\n",
              "4      65ef85  2019-07-29 00:19:23  registration              NaN\n",
              "...       ...                  ...           ...              ...\n",
              "79737  930c23  2019-09-01 23:57:41  simple_event              NaN\n",
              "79738  a84999  2019-09-01 23:57:50  simple_event              NaN\n",
              "79739  175e4d  2019-09-01 23:59:40  simple_event              NaN\n",
              "79740  1c2210  2019-09-01 23:59:51  simple_event              NaN\n",
              "79741  d799dc  2019-09-01 23:59:54  simple_event              NaN\n",
              "\n",
              "[79742 rows x 4 columns]"
            ]
          },
          "metadata": {
            "tags": []
          },
          "execution_count": 23
        }
      ]
    },
    {
      "cell_type": "code",
      "metadata": {
        "id": "meaush9x5SUJ",
        "colab_type": "code",
        "colab": {}
      },
      "source": [
        "event_data['event_date']= pd.to_datetime(event_data['event_date'])"
      ],
      "execution_count": 36,
      "outputs": []
    },
    {
      "cell_type": "code",
      "metadata": {
        "id": "9f8T-ncxvoYE",
        "colab_type": "code",
        "colab": {}
      },
      "source": [
        "#Highlight user cohorts based on the week of registration in the application\n",
        "event_data['order_month'] = event_data['event_date'].dt.to_period('W')\n",
        "event_data['cohort'] = event_data.groupby('user_id')['event_date'] \\\n",
        "                 .transform('min') \\\n",
        "                 .dt.to_period('W') "
      ],
      "execution_count": 38,
      "outputs": []
    },
    {
      "cell_type": "code",
      "metadata": {
        "id": "GMnALvVtgMvj",
        "colab_type": "code",
        "colab": {
          "base_uri": "https://localhost:8080/",
          "height": 221
        },
        "outputId": "075ff41e-57f0-47ed-d879-3b9b6f21b344"
      },
      "source": [
        "event_data['cohort']"
      ],
      "execution_count": 39,
      "outputs": [
        {
          "output_type": "execute_result",
          "data": {
            "text/plain": [
              "0        2019-07-29/2019-08-04\n",
              "1        2019-07-29/2019-08-04\n",
              "2        2019-07-29/2019-08-04\n",
              "3        2019-07-29/2019-08-04\n",
              "4        2019-07-29/2019-08-04\n",
              "                 ...          \n",
              "79737    2019-08-05/2019-08-11\n",
              "79738    2019-08-12/2019-08-18\n",
              "79739    2019-08-05/2019-08-11\n",
              "79740    2019-08-12/2019-08-18\n",
              "79741    2019-08-26/2019-09-01\n",
              "Name: cohort, Length: 79742, dtype: period[W-SUN]"
            ]
          },
          "metadata": {
            "tags": []
          },
          "execution_count": 39
        }
      ]
    },
    {
      "cell_type": "code",
      "metadata": {
        "id": "7s1s0Zt0Oz5U",
        "colab_type": "code",
        "colab": {}
      },
      "source": [
        " cohorot=event_data['cohort'].dt.week"
      ],
      "execution_count": 40,
      "outputs": []
    },
    {
      "cell_type": "code",
      "metadata": {
        "id": "VQ7kUBNBvoVo",
        "colab_type": "code",
        "colab": {
          "base_uri": "https://localhost:8080/",
          "height": 238
        },
        "outputId": "50ea07e7-c2e9-43e3-a404-ae29afa7d7b4"
      },
      "source": [
        "print(' cohorts based on the week \\n',event_data['cohort'].dt.week)"
      ],
      "execution_count": 41,
      "outputs": [
        {
          "output_type": "stream",
          "text": [
            " cohorts based on the week \n",
            " 0        31\n",
            "1        31\n",
            "2        31\n",
            "3        31\n",
            "4        31\n",
            "         ..\n",
            "79737    32\n",
            "79738    33\n",
            "79739    32\n",
            "79740    33\n",
            "79741    35\n",
            "Name: cohort, Length: 79742, dtype: int64\n"
          ],
          "name": "stdout"
        }
      ]
    },
    {
      "cell_type": "code",
      "metadata": {
        "id": "T-ntw4936tXZ",
        "colab_type": "code",
        "colab": {
          "base_uri": "https://localhost:8080/",
          "height": 34
        },
        "outputId": "865e23ab-929d-4ed6-f3ab-79bc4bf03217"
      },
      "source": [
        "# unique users in the cohort with ID 33\n",
        "(event_data['cohort'].dt.week == 33).sum()"
      ],
      "execution_count": 42,
      "outputs": [
        {
          "output_type": "execute_result",
          "data": {
            "text/plain": [
              "18967"
            ]
          },
          "metadata": {
            "tags": []
          },
          "execution_count": 42
        }
      ]
    },
    {
      "cell_type": "code",
      "metadata": {
        "id": "VNDOGp2JI-ze",
        "colab_type": "code",
        "colab": {}
      },
      "source": [
        "#For each event, highlight the indicator lifetime - the weekly lifetime of the cohort. The lifetime indicator is calculated based on the serial number of the week in which the event is committed, relative to the week of registration. \n",
        "grouped = event_data.groupby(['cohort', 'order_month'])\n",
        "cohorts = grouped.agg({'user_id': pd.Series.nunique,\n",
        "                       'event_type': pd.Series.nunique,\n",
        "                       'purchase_amount': np.sum})"
      ],
      "execution_count": 43,
      "outputs": []
    },
    {
      "cell_type": "code",
      "metadata": {
        "id": "70AeMmH3Kst0",
        "colab_type": "code",
        "colab": {
          "base_uri": "https://localhost:8080/",
          "height": 390
        },
        "outputId": "038fbdeb-645c-4963-a554-67263011289b"
      },
      "source": [
        "def cohort_period(event_data):\n",
        "    event_data['Cohort_lifetime'] = np.arange(len(event_data)) + 1\n",
        "    return event_data\n",
        "\n",
        "cohorts = cohorts.groupby(level=0).apply(cohort_period)\n",
        "cohorts.head(10)"
      ],
      "execution_count": 44,
      "outputs": [
        {
          "output_type": "execute_result",
          "data": {
            "text/html": [
              "<div>\n",
              "<style scoped>\n",
              "    .dataframe tbody tr th:only-of-type {\n",
              "        vertical-align: middle;\n",
              "    }\n",
              "\n",
              "    .dataframe tbody tr th {\n",
              "        vertical-align: top;\n",
              "    }\n",
              "\n",
              "    .dataframe thead th {\n",
              "        text-align: right;\n",
              "    }\n",
              "</style>\n",
              "<table border=\"1\" class=\"dataframe\">\n",
              "  <thead>\n",
              "    <tr style=\"text-align: right;\">\n",
              "      <th></th>\n",
              "      <th></th>\n",
              "      <th>user_id</th>\n",
              "      <th>event_type</th>\n",
              "      <th>purchase_amount</th>\n",
              "      <th>Cohort_lifetime</th>\n",
              "    </tr>\n",
              "    <tr>\n",
              "      <th>cohort</th>\n",
              "      <th>order_month</th>\n",
              "      <th></th>\n",
              "      <th></th>\n",
              "      <th></th>\n",
              "      <th></th>\n",
              "    </tr>\n",
              "  </thead>\n",
              "  <tbody>\n",
              "    <tr>\n",
              "      <th rowspan=\"5\" valign=\"top\">2019-07-29/2019-08-04</th>\n",
              "      <th>2019-07-29/2019-08-04</th>\n",
              "      <td>1975</td>\n",
              "      <td>3</td>\n",
              "      <td>8890.0</td>\n",
              "      <td>1</td>\n",
              "    </tr>\n",
              "    <tr>\n",
              "      <th>2019-08-05/2019-08-11</th>\n",
              "      <td>1832</td>\n",
              "      <td>2</td>\n",
              "      <td>20540.0</td>\n",
              "      <td>2</td>\n",
              "    </tr>\n",
              "    <tr>\n",
              "      <th>2019-08-12/2019-08-18</th>\n",
              "      <td>1243</td>\n",
              "      <td>2</td>\n",
              "      <td>12210.0</td>\n",
              "      <td>3</td>\n",
              "    </tr>\n",
              "    <tr>\n",
              "      <th>2019-08-19/2019-08-25</th>\n",
              "      <td>705</td>\n",
              "      <td>2</td>\n",
              "      <td>6120.0</td>\n",
              "      <td>4</td>\n",
              "    </tr>\n",
              "    <tr>\n",
              "      <th>2019-08-26/2019-09-01</th>\n",
              "      <td>297</td>\n",
              "      <td>2</td>\n",
              "      <td>2010.0</td>\n",
              "      <td>5</td>\n",
              "    </tr>\n",
              "    <tr>\n",
              "      <th rowspan=\"4\" valign=\"top\">2019-08-05/2019-08-11</th>\n",
              "      <th>2019-08-05/2019-08-11</th>\n",
              "      <td>1952</td>\n",
              "      <td>3</td>\n",
              "      <td>10850.0</td>\n",
              "      <td>1</td>\n",
              "    </tr>\n",
              "    <tr>\n",
              "      <th>2019-08-12/2019-08-18</th>\n",
              "      <td>1814</td>\n",
              "      <td>2</td>\n",
              "      <td>21050.0</td>\n",
              "      <td>2</td>\n",
              "    </tr>\n",
              "    <tr>\n",
              "      <th>2019-08-19/2019-08-25</th>\n",
              "      <td>1265</td>\n",
              "      <td>2</td>\n",
              "      <td>12600.0</td>\n",
              "      <td>3</td>\n",
              "    </tr>\n",
              "    <tr>\n",
              "      <th>2019-08-26/2019-09-01</th>\n",
              "      <td>705</td>\n",
              "      <td>2</td>\n",
              "      <td>6260.0</td>\n",
              "      <td>4</td>\n",
              "    </tr>\n",
              "    <tr>\n",
              "      <th>2019-08-12/2019-08-18</th>\n",
              "      <th>2019-08-12/2019-08-18</th>\n",
              "      <td>2045</td>\n",
              "      <td>3</td>\n",
              "      <td>9790.0</td>\n",
              "      <td>1</td>\n",
              "    </tr>\n",
              "  </tbody>\n",
              "</table>\n",
              "</div>"
            ],
            "text/plain": [
              "                                             user_id  ...  Cohort_lifetime\n",
              "cohort                order_month                     ...                 \n",
              "2019-07-29/2019-08-04 2019-07-29/2019-08-04     1975  ...                1\n",
              "                      2019-08-05/2019-08-11     1832  ...                2\n",
              "                      2019-08-12/2019-08-18     1243  ...                3\n",
              "                      2019-08-19/2019-08-25      705  ...                4\n",
              "                      2019-08-26/2019-09-01      297  ...                5\n",
              "2019-08-05/2019-08-11 2019-08-05/2019-08-11     1952  ...                1\n",
              "                      2019-08-12/2019-08-18     1814  ...                2\n",
              "                      2019-08-19/2019-08-25     1265  ...                3\n",
              "                      2019-08-26/2019-09-01      705  ...                4\n",
              "2019-08-12/2019-08-18 2019-08-12/2019-08-18     2045  ...                1\n",
              "\n",
              "[10 rows x 4 columns]"
            ]
          },
          "metadata": {
            "tags": []
          },
          "execution_count": 44
        }
      ]
    },
    {
      "cell_type": "code",
      "metadata": {
        "id": "asza9XLqMawb",
        "colab_type": "code",
        "colab": {
          "base_uri": "https://localhost:8080/",
          "height": 136
        },
        "outputId": "e36cf699-35af-4b5d-b103-11be977e43ae"
      },
      "source": [
        "cohorts.reset_index(inplace=True)\n",
        "cohorts.set_index(['cohort', 'Cohort_lifetime'], inplace=True)\n",
        "cohort_group_size = cohorts['user_id'].groupby(level=0).first()\n",
        "cohort_group_size.head()"
      ],
      "execution_count": 45,
      "outputs": [
        {
          "output_type": "execute_result",
          "data": {
            "text/plain": [
              "cohort\n",
              "2019-07-29/2019-08-04    1975\n",
              "2019-08-05/2019-08-11    1952\n",
              "2019-08-12/2019-08-18    2045\n",
              "2019-08-19/2019-08-25    1974\n",
              "2019-08-26/2019-09-01    2050\n",
              "Freq: W-SUN, Name: user_id, dtype: int64"
            ]
          },
          "metadata": {
            "tags": []
          },
          "execution_count": 45
        }
      ]
    },
    {
      "cell_type": "code",
      "metadata": {
        "id": "9TAxnGtAMa67",
        "colab_type": "code",
        "colab": {
          "base_uri": "https://localhost:8080/",
          "height": 245
        },
        "outputId": "bdc1c758-fa34-4ac9-aa98-bc6338e85ca5"
      },
      "source": [
        "#e Retention Rate for cohorts depending on lifetime\n",
        "retention_rate = cohorts['user_id'].unstack(0).divide(cohort_group_size, axis=1)\n",
        "retention_rate"
      ],
      "execution_count": null,
      "outputs": [
        {
          "output_type": "execute_result",
          "data": {
            "text/html": [
              "<div>\n",
              "<style scoped>\n",
              "    .dataframe tbody tr th:only-of-type {\n",
              "        vertical-align: middle;\n",
              "    }\n",
              "\n",
              "    .dataframe tbody tr th {\n",
              "        vertical-align: top;\n",
              "    }\n",
              "\n",
              "    .dataframe thead th {\n",
              "        text-align: right;\n",
              "    }\n",
              "</style>\n",
              "<table border=\"1\" class=\"dataframe\">\n",
              "  <thead>\n",
              "    <tr style=\"text-align: right;\">\n",
              "      <th>cohort</th>\n",
              "      <th>2019-07-29/2019-08-04</th>\n",
              "      <th>2019-08-05/2019-08-11</th>\n",
              "      <th>2019-08-12/2019-08-18</th>\n",
              "      <th>2019-08-19/2019-08-25</th>\n",
              "      <th>2019-08-26/2019-09-01</th>\n",
              "    </tr>\n",
              "    <tr>\n",
              "      <th>Cohort_lifetime</th>\n",
              "      <th></th>\n",
              "      <th></th>\n",
              "      <th></th>\n",
              "      <th></th>\n",
              "      <th></th>\n",
              "    </tr>\n",
              "  </thead>\n",
              "  <tbody>\n",
              "    <tr>\n",
              "      <th>1</th>\n",
              "      <td>1.000000</td>\n",
              "      <td>1.000000</td>\n",
              "      <td>1.000000</td>\n",
              "      <td>1.000000</td>\n",
              "      <td>1.0</td>\n",
              "    </tr>\n",
              "    <tr>\n",
              "      <th>2</th>\n",
              "      <td>0.927595</td>\n",
              "      <td>0.929303</td>\n",
              "      <td>0.924205</td>\n",
              "      <td>0.929078</td>\n",
              "      <td>NaN</td>\n",
              "    </tr>\n",
              "    <tr>\n",
              "      <th>3</th>\n",
              "      <td>0.629367</td>\n",
              "      <td>0.648053</td>\n",
              "      <td>0.661125</td>\n",
              "      <td>NaN</td>\n",
              "      <td>NaN</td>\n",
              "    </tr>\n",
              "    <tr>\n",
              "      <th>4</th>\n",
              "      <td>0.356962</td>\n",
              "      <td>0.361168</td>\n",
              "      <td>NaN</td>\n",
              "      <td>NaN</td>\n",
              "      <td>NaN</td>\n",
              "    </tr>\n",
              "    <tr>\n",
              "      <th>5</th>\n",
              "      <td>0.150380</td>\n",
              "      <td>NaN</td>\n",
              "      <td>NaN</td>\n",
              "      <td>NaN</td>\n",
              "      <td>NaN</td>\n",
              "    </tr>\n",
              "  </tbody>\n",
              "</table>\n",
              "</div>"
            ],
            "text/plain": [
              "cohort           2019-07-29/2019-08-04  ...  2019-08-26/2019-09-01\n",
              "Cohort_lifetime                         ...                       \n",
              "1                             1.000000  ...                    1.0\n",
              "2                             0.927595  ...                    NaN\n",
              "3                             0.629367  ...                    NaN\n",
              "4                             0.356962  ...                    NaN\n",
              "5                             0.150380  ...                    NaN\n",
              "\n",
              "[5 rows x 5 columns]"
            ]
          },
          "metadata": {
            "tags": []
          },
          "execution_count": 40
        }
      ]
    },
    {
      "cell_type": "code",
      "metadata": {
        "id": "m6Ks4jFnnTNn",
        "colab_type": "code",
        "colab": {
          "base_uri": "https://localhost:8080/",
          "height": 419
        },
        "outputId": "aa9143d3-a3dc-4fa9-e82e-01976cc1e6d9"
      },
      "source": [
        "pur=event_data.groupby(['user_id', 'order_month'])['purchase_amount'].sum().astype(int).reset_index()\n",
        "pur"
      ],
      "execution_count": 46,
      "outputs": [
        {
          "output_type": "execute_result",
          "data": {
            "text/html": [
              "<div>\n",
              "<style scoped>\n",
              "    .dataframe tbody tr th:only-of-type {\n",
              "        vertical-align: middle;\n",
              "    }\n",
              "\n",
              "    .dataframe tbody tr th {\n",
              "        vertical-align: top;\n",
              "    }\n",
              "\n",
              "    .dataframe thead th {\n",
              "        text-align: right;\n",
              "    }\n",
              "</style>\n",
              "<table border=\"1\" class=\"dataframe\">\n",
              "  <thead>\n",
              "    <tr style=\"text-align: right;\">\n",
              "      <th></th>\n",
              "      <th>user_id</th>\n",
              "      <th>order_month</th>\n",
              "      <th>purchase_amount</th>\n",
              "    </tr>\n",
              "  </thead>\n",
              "  <tbody>\n",
              "    <tr>\n",
              "      <th>0</th>\n",
              "      <td>00049f</td>\n",
              "      <td>2019-08-12/2019-08-18</td>\n",
              "      <td>10</td>\n",
              "    </tr>\n",
              "    <tr>\n",
              "      <th>1</th>\n",
              "      <td>00049f</td>\n",
              "      <td>2019-08-19/2019-08-25</td>\n",
              "      <td>0</td>\n",
              "    </tr>\n",
              "    <tr>\n",
              "      <th>2</th>\n",
              "      <td>00049f</td>\n",
              "      <td>2019-08-26/2019-09-01</td>\n",
              "      <td>0</td>\n",
              "    </tr>\n",
              "    <tr>\n",
              "      <th>3</th>\n",
              "      <td>0005f9</td>\n",
              "      <td>2019-08-26/2019-09-01</td>\n",
              "      <td>0</td>\n",
              "    </tr>\n",
              "    <tr>\n",
              "      <th>4</th>\n",
              "      <td>00082c</td>\n",
              "      <td>2019-07-29/2019-08-04</td>\n",
              "      <td>0</td>\n",
              "    </tr>\n",
              "    <tr>\n",
              "      <th>...</th>\n",
              "      <td>...</td>\n",
              "      <td>...</td>\n",
              "      <td>...</td>\n",
              "    </tr>\n",
              "    <tr>\n",
              "      <th>22928</th>\n",
              "      <td>fff22e</td>\n",
              "      <td>2019-08-26/2019-09-01</td>\n",
              "      <td>0</td>\n",
              "    </tr>\n",
              "    <tr>\n",
              "      <th>22929</th>\n",
              "      <td>fff4aa</td>\n",
              "      <td>2019-08-05/2019-08-11</td>\n",
              "      <td>0</td>\n",
              "    </tr>\n",
              "    <tr>\n",
              "      <th>22930</th>\n",
              "      <td>fff4aa</td>\n",
              "      <td>2019-08-12/2019-08-18</td>\n",
              "      <td>0</td>\n",
              "    </tr>\n",
              "    <tr>\n",
              "      <th>22931</th>\n",
              "      <td>fff4aa</td>\n",
              "      <td>2019-08-19/2019-08-25</td>\n",
              "      <td>20</td>\n",
              "    </tr>\n",
              "    <tr>\n",
              "      <th>22932</th>\n",
              "      <td>fff4aa</td>\n",
              "      <td>2019-08-26/2019-09-01</td>\n",
              "      <td>0</td>\n",
              "    </tr>\n",
              "  </tbody>\n",
              "</table>\n",
              "<p>22933 rows × 3 columns</p>\n",
              "</div>"
            ],
            "text/plain": [
              "      user_id            order_month  purchase_amount\n",
              "0      00049f  2019-08-12/2019-08-18               10\n",
              "1      00049f  2019-08-19/2019-08-25                0\n",
              "2      00049f  2019-08-26/2019-09-01                0\n",
              "3      0005f9  2019-08-26/2019-09-01                0\n",
              "4      00082c  2019-07-29/2019-08-04                0\n",
              "...       ...                    ...              ...\n",
              "22928  fff22e  2019-08-26/2019-09-01                0\n",
              "22929  fff4aa  2019-08-05/2019-08-11                0\n",
              "22930  fff4aa  2019-08-12/2019-08-18                0\n",
              "22931  fff4aa  2019-08-19/2019-08-25               20\n",
              "22932  fff4aa  2019-08-26/2019-09-01                0\n",
              "\n",
              "[22933 rows x 3 columns]"
            ]
          },
          "metadata": {
            "tags": []
          },
          "execution_count": 46
        }
      ]
    },
    {
      "cell_type": "code",
      "metadata": {
        "id": "AnTdGWxeoxSu",
        "colab_type": "code",
        "colab": {
          "base_uri": "https://localhost:8080/",
          "height": 436
        },
        "outputId": "47a64fca-3b34-4d2b-c665-2e478423f868"
      },
      "source": [
        "tx_retention = pd.crosstab(pur['user_id'], pur['order_month']).reset_index()\n",
        "tx_retention"
      ],
      "execution_count": 47,
      "outputs": [
        {
          "output_type": "execute_result",
          "data": {
            "text/html": [
              "<div>\n",
              "<style scoped>\n",
              "    .dataframe tbody tr th:only-of-type {\n",
              "        vertical-align: middle;\n",
              "    }\n",
              "\n",
              "    .dataframe tbody tr th {\n",
              "        vertical-align: top;\n",
              "    }\n",
              "\n",
              "    .dataframe thead th {\n",
              "        text-align: right;\n",
              "    }\n",
              "</style>\n",
              "<table border=\"1\" class=\"dataframe\">\n",
              "  <thead>\n",
              "    <tr style=\"text-align: right;\">\n",
              "      <th>order_month</th>\n",
              "      <th>user_id</th>\n",
              "      <th>2019-07-29/2019-08-04</th>\n",
              "      <th>2019-08-05/2019-08-11</th>\n",
              "      <th>2019-08-12/2019-08-18</th>\n",
              "      <th>2019-08-19/2019-08-25</th>\n",
              "      <th>2019-08-26/2019-09-01</th>\n",
              "    </tr>\n",
              "  </thead>\n",
              "  <tbody>\n",
              "    <tr>\n",
              "      <th>0</th>\n",
              "      <td>00049f</td>\n",
              "      <td>0</td>\n",
              "      <td>0</td>\n",
              "      <td>1</td>\n",
              "      <td>1</td>\n",
              "      <td>1</td>\n",
              "    </tr>\n",
              "    <tr>\n",
              "      <th>1</th>\n",
              "      <td>0005f9</td>\n",
              "      <td>0</td>\n",
              "      <td>0</td>\n",
              "      <td>0</td>\n",
              "      <td>0</td>\n",
              "      <td>1</td>\n",
              "    </tr>\n",
              "    <tr>\n",
              "      <th>2</th>\n",
              "      <td>00082c</td>\n",
              "      <td>1</td>\n",
              "      <td>1</td>\n",
              "      <td>1</td>\n",
              "      <td>1</td>\n",
              "      <td>0</td>\n",
              "    </tr>\n",
              "    <tr>\n",
              "      <th>3</th>\n",
              "      <td>000ff1</td>\n",
              "      <td>0</td>\n",
              "      <td>0</td>\n",
              "      <td>0</td>\n",
              "      <td>0</td>\n",
              "      <td>1</td>\n",
              "    </tr>\n",
              "    <tr>\n",
              "      <th>4</th>\n",
              "      <td>001d5d</td>\n",
              "      <td>0</td>\n",
              "      <td>0</td>\n",
              "      <td>0</td>\n",
              "      <td>1</td>\n",
              "      <td>1</td>\n",
              "    </tr>\n",
              "    <tr>\n",
              "      <th>...</th>\n",
              "      <td>...</td>\n",
              "      <td>...</td>\n",
              "      <td>...</td>\n",
              "      <td>...</td>\n",
              "      <td>...</td>\n",
              "      <td>...</td>\n",
              "    </tr>\n",
              "    <tr>\n",
              "      <th>9991</th>\n",
              "      <td>ffe1a7</td>\n",
              "      <td>0</td>\n",
              "      <td>1</td>\n",
              "      <td>0</td>\n",
              "      <td>0</td>\n",
              "      <td>0</td>\n",
              "    </tr>\n",
              "    <tr>\n",
              "      <th>9992</th>\n",
              "      <td>ffe60a</td>\n",
              "      <td>0</td>\n",
              "      <td>0</td>\n",
              "      <td>0</td>\n",
              "      <td>0</td>\n",
              "      <td>1</td>\n",
              "    </tr>\n",
              "    <tr>\n",
              "      <th>9993</th>\n",
              "      <td>fff039</td>\n",
              "      <td>0</td>\n",
              "      <td>0</td>\n",
              "      <td>0</td>\n",
              "      <td>0</td>\n",
              "      <td>1</td>\n",
              "    </tr>\n",
              "    <tr>\n",
              "      <th>9994</th>\n",
              "      <td>fff22e</td>\n",
              "      <td>0</td>\n",
              "      <td>0</td>\n",
              "      <td>1</td>\n",
              "      <td>1</td>\n",
              "      <td>1</td>\n",
              "    </tr>\n",
              "    <tr>\n",
              "      <th>9995</th>\n",
              "      <td>fff4aa</td>\n",
              "      <td>0</td>\n",
              "      <td>1</td>\n",
              "      <td>1</td>\n",
              "      <td>1</td>\n",
              "      <td>1</td>\n",
              "    </tr>\n",
              "  </tbody>\n",
              "</table>\n",
              "<p>9996 rows × 6 columns</p>\n",
              "</div>"
            ],
            "text/plain": [
              "order_month user_id  ...  2019-08-26/2019-09-01\n",
              "0            00049f  ...                      1\n",
              "1            0005f9  ...                      1\n",
              "2            00082c  ...                      0\n",
              "3            000ff1  ...                      1\n",
              "4            001d5d  ...                      1\n",
              "...             ...  ...                    ...\n",
              "9991         ffe1a7  ...                      0\n",
              "9992         ffe60a  ...                      1\n",
              "9993         fff039  ...                      1\n",
              "9994         fff22e  ...                      1\n",
              "9995         fff4aa  ...                      1\n",
              "\n",
              "[9996 rows x 6 columns]"
            ]
          },
          "metadata": {
            "tags": []
          },
          "execution_count": 47
        }
      ]
    },
    {
      "cell_type": "markdown",
      "metadata": {
        "id": "n5x_mLoK-f-0",
        "colab_type": "text"
      },
      "source": [
        "Task 3. Solve the problem (optional) "
      ]
    },
    {
      "cell_type": "code",
      "metadata": {
        "id": "NlXRwgrN-cPj",
        "colab_type": "code",
        "colab": {}
      },
      "source": [
        "games = pd.read_csv('/content/games.csv')"
      ],
      "execution_count": null,
      "outputs": []
    },
    {
      "cell_type": "code",
      "metadata": {
        "id": "XO1MlTIm-cMu",
        "colab_type": "code",
        "colab": {
          "base_uri": "https://localhost:8080/",
          "height": 407
        },
        "outputId": "73504ada-0344-461e-dfbb-bb9d6a3ac138"
      },
      "source": [
        "games=games[games['Year_of_Release']>2000]\n",
        "games"
      ],
      "execution_count": null,
      "outputs": [
        {
          "output_type": "execute_result",
          "data": {
            "text/html": [
              "<div>\n",
              "<style scoped>\n",
              "    .dataframe tbody tr th:only-of-type {\n",
              "        vertical-align: middle;\n",
              "    }\n",
              "\n",
              "    .dataframe tbody tr th {\n",
              "        vertical-align: top;\n",
              "    }\n",
              "\n",
              "    .dataframe thead th {\n",
              "        text-align: right;\n",
              "    }\n",
              "</style>\n",
              "<table border=\"1\" class=\"dataframe\">\n",
              "  <thead>\n",
              "    <tr style=\"text-align: right;\">\n",
              "      <th></th>\n",
              "      <th>Name</th>\n",
              "      <th>Platform</th>\n",
              "      <th>Year_of_Release</th>\n",
              "      <th>Genre</th>\n",
              "      <th>Critic_Score</th>\n",
              "      <th>User_Score</th>\n",
              "      <th>Rating</th>\n",
              "    </tr>\n",
              "  </thead>\n",
              "  <tbody>\n",
              "    <tr>\n",
              "      <th>0</th>\n",
              "      <td>Wii Sports</td>\n",
              "      <td>Wii</td>\n",
              "      <td>2006.0</td>\n",
              "      <td>Sports</td>\n",
              "      <td>76.0</td>\n",
              "      <td>8</td>\n",
              "      <td>E</td>\n",
              "    </tr>\n",
              "    <tr>\n",
              "      <th>2</th>\n",
              "      <td>Mario Kart Wii</td>\n",
              "      <td>Wii</td>\n",
              "      <td>2008.0</td>\n",
              "      <td>Racing</td>\n",
              "      <td>82.0</td>\n",
              "      <td>8.3</td>\n",
              "      <td>E</td>\n",
              "    </tr>\n",
              "    <tr>\n",
              "      <th>3</th>\n",
              "      <td>Wii Sports Resort</td>\n",
              "      <td>Wii</td>\n",
              "      <td>2009.0</td>\n",
              "      <td>Sports</td>\n",
              "      <td>80.0</td>\n",
              "      <td>8</td>\n",
              "      <td>E</td>\n",
              "    </tr>\n",
              "    <tr>\n",
              "      <th>6</th>\n",
              "      <td>New Super Mario Bros.</td>\n",
              "      <td>DS</td>\n",
              "      <td>2006.0</td>\n",
              "      <td>Platform</td>\n",
              "      <td>89.0</td>\n",
              "      <td>8.5</td>\n",
              "      <td>E</td>\n",
              "    </tr>\n",
              "    <tr>\n",
              "      <th>7</th>\n",
              "      <td>Wii Play</td>\n",
              "      <td>Wii</td>\n",
              "      <td>2006.0</td>\n",
              "      <td>Misc</td>\n",
              "      <td>58.0</td>\n",
              "      <td>6.6</td>\n",
              "      <td>E</td>\n",
              "    </tr>\n",
              "    <tr>\n",
              "      <th>...</th>\n",
              "      <td>...</td>\n",
              "      <td>...</td>\n",
              "      <td>...</td>\n",
              "      <td>...</td>\n",
              "      <td>...</td>\n",
              "      <td>...</td>\n",
              "      <td>...</td>\n",
              "    </tr>\n",
              "    <tr>\n",
              "      <th>16699</th>\n",
              "      <td>Planet Monsters</td>\n",
              "      <td>GBA</td>\n",
              "      <td>2001.0</td>\n",
              "      <td>Action</td>\n",
              "      <td>67.0</td>\n",
              "      <td>tbd</td>\n",
              "      <td>E</td>\n",
              "    </tr>\n",
              "    <tr>\n",
              "      <th>16700</th>\n",
              "      <td>Breach</td>\n",
              "      <td>PC</td>\n",
              "      <td>2011.0</td>\n",
              "      <td>Shooter</td>\n",
              "      <td>61.0</td>\n",
              "      <td>5.8</td>\n",
              "      <td>T</td>\n",
              "    </tr>\n",
              "    <tr>\n",
              "      <th>16701</th>\n",
              "      <td>Bust-A-Move 3000</td>\n",
              "      <td>GC</td>\n",
              "      <td>2003.0</td>\n",
              "      <td>Puzzle</td>\n",
              "      <td>53.0</td>\n",
              "      <td>tbd</td>\n",
              "      <td>E</td>\n",
              "    </tr>\n",
              "    <tr>\n",
              "      <th>16702</th>\n",
              "      <td>Mega Brain Boost</td>\n",
              "      <td>DS</td>\n",
              "      <td>2008.0</td>\n",
              "      <td>Puzzle</td>\n",
              "      <td>48.0</td>\n",
              "      <td>tbd</td>\n",
              "      <td>E</td>\n",
              "    </tr>\n",
              "    <tr>\n",
              "      <th>16706</th>\n",
              "      <td>STORM: Frontline Nation</td>\n",
              "      <td>PC</td>\n",
              "      <td>2011.0</td>\n",
              "      <td>Strategy</td>\n",
              "      <td>60.0</td>\n",
              "      <td>7.2</td>\n",
              "      <td>E10+</td>\n",
              "    </tr>\n",
              "  </tbody>\n",
              "</table>\n",
              "<p>7651 rows × 7 columns</p>\n",
              "</div>"
            ],
            "text/plain": [
              "                          Name Platform  ...  User_Score Rating\n",
              "0                   Wii Sports      Wii  ...           8      E\n",
              "2               Mario Kart Wii      Wii  ...         8.3      E\n",
              "3            Wii Sports Resort      Wii  ...           8      E\n",
              "6        New Super Mario Bros.       DS  ...         8.5      E\n",
              "7                     Wii Play      Wii  ...         6.6      E\n",
              "...                        ...      ...  ...         ...    ...\n",
              "16699          Planet Monsters      GBA  ...         tbd      E\n",
              "16700                   Breach       PC  ...         5.8      T\n",
              "16701         Bust-A-Move 3000       GC  ...         tbd      E\n",
              "16702         Mega Brain Boost       DS  ...         tbd      E\n",
              "16706  STORM: Frontline Nation       PC  ...         7.2   E10+\n",
              "\n",
              "[7651 rows x 7 columns]"
            ]
          },
          "metadata": {
            "tags": []
          },
          "execution_count": 61
        }
      ]
    },
    {
      "cell_type": "markdown",
      "metadata": {
        "id": "tvRA1KAMJZre",
        "colab_type": "text"
      },
      "source": [
        "Task 4.  "
      ]
    },
    {
      "cell_type": "code",
      "metadata": {
        "id": "DzQ9JDOcIt9X",
        "colab_type": "code",
        "colab": {}
      },
      "source": [
        "E(X) = 0.5\n",
        "Var(X) = 2 \n",
        " \n",
        "E(Y) = 7\n",
        "Var(Y) = 3.5 \n",
        " \n",
        "cov(X, Y) = -0.8 "
      ],
      "execution_count": null,
      "outputs": []
    },
    {
      "cell_type": "code",
      "metadata": {
        "id": "IM8FQRdCMwNf",
        "colab_type": "code",
        "colab": {}
      },
      "source": [
        "#the variance of the random variable Z = 2X - 3Y \n",
        "Var(2X-3Y)=4Var(X)+9Var(Y)-2*2*3Cov(X,Y) = 16+110.25+9.6=135.85"
      ],
      "execution_count": null,
      "outputs": []
    },
    {
      "cell_type": "markdown",
      "metadata": {
        "id": "hv74Zz2LZSwV",
        "colab_type": "text"
      },
      "source": [
        "Task 5.  \n",
        " "
      ]
    },
    {
      "cell_type": "code",
      "metadata": {
        "id": "RD6_tVxgcxTL",
        "colab_type": "code",
        "colab": {
          "base_uri": "https://localhost:8080/",
          "height": 34
        },
        "outputId": "73fdba13-695e-4c02-d53c-1f712a53ed03"
      },
      "source": [
        "summation_error = 0\n",
        "difference = 0.5 \n",
        "squared_difference = difference**2  \n",
        "summation_error = summation_error + squared_difference  \n",
        "MSE = summation/400 \n",
        "print(\"The Mean Square Error for model is: \" , MSE)"
      ],
      "execution_count": 49,
      "outputs": [
        {
          "output_type": "stream",
          "text": [
            "The Mean Square Error for model is:  0.0036\n"
          ],
          "name": "stdout"
        }
      ]
    },
    {
      "cell_type": "code",
      "metadata": {
        "id": "5h2n8WY9XVQn",
        "colab_type": "code",
        "colab": {
          "base_uri": "https://localhost:8080/",
          "height": 34
        },
        "outputId": "1119c038-c410-4c5b-b07a-d66fbb342bbf"
      },
      "source": [
        "summation_error = 0\n",
        "difference = 0.7 \n",
        "squared_difference = difference**2  \n",
        "summation_error = summation_error + squared_difference  \n",
        "MSE = summation_error/100 \n",
        "print(\"The Mean Square Error for model is: \" , MSE)"
      ],
      "execution_count": 50,
      "outputs": [
        {
          "output_type": "stream",
          "text": [
            "The Mean Square Error for model is:  0.004899999999999999\n"
          ],
          "name": "stdout"
        }
      ]
    },
    {
      "cell_type": "code",
      "metadata": {
        "id": "medAr016dFXu",
        "colab_type": "code",
        "colab": {
          "base_uri": "https://localhost:8080/",
          "height": 34
        },
        "outputId": "67d86d9a-268e-483d-a77a-4dde6d0339ce"
      },
      "source": [
        "summation_error = 0\n",
        "difference = 1.2\n",
        "squared_difference = difference**2  \n",
        "summation_error = summation_error + squared_difference  \n",
        "MSE = summation_error/500\n",
        "print(\"The Mean Square Error for Omer's model is: \" , MSE)"
      ],
      "execution_count": 52,
      "outputs": [
        {
          "output_type": "stream",
          "text": [
            "The Mean Square Error for Omer's model is:  0.0028799999999999997\n"
          ],
          "name": "stdout"
        }
      ]
    },
    {
      "cell_type": "code",
      "metadata": {
        "id": "s5HYZ8WldcnG",
        "colab_type": "code",
        "colab": {
          "base_uri": "https://localhost:8080/",
          "height": 34
        },
        "outputId": "f4884e1f-8354-4b0a-dd39-c86001542bab"
      },
      "source": [
        "\n",
        "accumulated_error = (1.2)**2\n",
        "mae_error = (1.0 / (2*500)) * accumulated_error\n",
        "    \n",
        "print(\"The Mean Square Error for his  Limor's  model is: \",mae_error)"
      ],
      "execution_count": 54,
      "outputs": [
        {
          "output_type": "stream",
          "text": [
            "The Mean Square Error for his  Limor's  model is:  0.0014399999999999999\n"
          ],
          "name": "stdout"
        }
      ]
    },
    {
      "cell_type": "code",
      "metadata": {
        "id": "SOLttMr1C7pJ",
        "colab_type": "code",
        "colab": {}
      },
      "source": [
        ""
      ],
      "execution_count": null,
      "outputs": []
    }
  ]
}