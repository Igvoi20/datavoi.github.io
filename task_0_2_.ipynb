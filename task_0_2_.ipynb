{
  "nbformat": 4,
  "nbformat_minor": 0,
  "metadata": {
    "kernelspec": {
      "display_name": "Python 3",
      "language": "python",
      "name": "python3"
    },
    "language_info": {
      "codemirror_mode": {
        "name": "ipython",
        "version": 3
      },
      "file_extension": ".py",
      "mimetype": "text/x-python",
      "name": "python",
      "nbconvert_exporter": "python",
      "pygments_lexer": "ipython3",
      "version": "3.7.8"
    },
    "colab": {
      "name": "task 0.2 (1).ipynb",
      "provenance": [],
      "collapsed_sections": [],
      "include_colab_link": true
    }
  },
  "cells": [
    {
      "cell_type": "markdown",
      "metadata": {
        "id": "view-in-github",
        "colab_type": "text"
      },
      "source": [
        "<a href=\"https://colab.research.google.com/github/igorvojnyak/datavojnyak.github.io/blob/master/task_0_2_.ipynb\" target=\"_parent\"><img src=\"https://colab.research.google.com/assets/colab-badge.svg\" alt=\"Open In Colab\"/></a>"
      ]
    },
    {
      "cell_type": "markdown",
      "metadata": {
        "id": "hNHhHQXtAk0w"
      },
      "source": [
        "Файл db.db - это файл базы данных sqlite. В базе собрана статистика относительно проведенных рекламных кампаний.\n",
        "В базе есть две таблички **spent** и **payments**.\n",
        "\n",
        "\n",
        "В табличке **spent** собраны данные о рекламных расходах и последующих событиях вплоть до инсталла в разбивке по дате, стране и операционной системе.\n",
        "Описание полей из таблицы **spent**:\n",
        "\n",
        "\n",
        "* date -  дата когда был потрачен бюджет (spend);\n",
        "* os - операционная система устройства;\n",
        "* country - страна просмотра рекламы или установки приложения(если она произошла);\n",
        "* spend\t- деньги потраченные на рекламу;\n",
        "* impressions - количество просмотров рекламного объявления;\n",
        "* clicks - количество кликов на рекламу;\n",
        "* installs - количество установок приложения (размер когорты).\n",
        "\n",
        "\n",
        "В табличке **payments** собраны данные о действиях когорт пользователей после инсталла (с 1 по 28 день после инсталла). Как и в таблице spent, когорта определяется тремя признаками: **date, country, os**. Данные собираются из трекинговой системы и записываются в таблицу в начале каждого дня. До тех пор, пока ts - date < 29 days.\n",
        "Описание полей из таблицы **payments**:\n",
        "* date - дата установки приложения\n",
        "* ts - Момент сбора данных из трекинговой системы. Пример: строку со значениями [2020-06-11\t2020-07-22 08:05:22.070317\tios\tFR\t8\t3\t33.77820] можно интерпретировать как \"в период с 2020-06-11 по 2020-07-22 08:05:22.070317, 3 пользователя из франции с операционной системой ios, установившие приложение 11 июня, совершили 8 покупок на общую сумму 33.78\".\n",
        "* os - операционная система устройства;\n",
        "* country - страна установки;\n",
        "* purchases - количество совершенных покупок в приложении;\n",
        "* unique_purchases - количество уникальных пользователей совершивших покупку.\n",
        "* app_revenue - деньги полученные приложением за покупку\n",
        "\n",
        "\n",
        "### Задача 1\n",
        "Написать запрос который возвращает самые актуальные данные (наблюдения с максимальным ts) для каждой когорты. По актуальным наблюдениям посчитайте ARPPU (AVERAGE REVENUE PER PAYING USER) по каждой платформе отдельно. Запишите два получившихся числа в файл res1.txt через пробел (cначала показатель android потом ios).\n",
        "\n",
        "### Задача 2\n",
        "Задача рекламной кампании - окупаться в течение определенного периода времени. Рассмотрим окупаемость кампании через 28 дней после инсталла. Сравним, как изменилась окупаемость по платформам в июле по сравнению с июнем. Для этого найдем информацию о платежах на где (ts - date) равняется 28 дням. Данные о расходах можно взять из таблицы spent.\n",
        "Посчитайте помесячно roas_28d = revenue_28d / spend для каждой платформы (на той части данных на которой это возможно сделать). В файл ответа res2.txt запишите коэффициент роста (темп роста) roas_28d android и ios через пробел.\n",
        "\n",
        "\n",
        "### Задача 2.1 (со звездочкой)\n",
        "Дайте прогноз roas_28d на июль месяц. Точность не так важна как выбранная вами методология. Не тратьте слишком много времени на это задание)\n",
        "\n",
        "\n",
        "### Задача 3\n",
        "Представьте, что сегодня 2020-08-16 и вам нужно дать рекоммендации отделу по закупке трафика.\n",
        "Проанализировав данные, скажите:\n",
        "* какая динамика наблюдается в целом? (рекомендуем построить воронку конверсий от impression до конверсии в покупку)\n",
        "* какие сегменты имеют хорошие показатели и могут масштабироваться;\n",
        "* какие сегменты находятся в серой зоне и **что можно сделать** для улучшения их перфоманса;\n",
        "* какие сегменты скорее всего безнадежны и на них не стоит тратить бюджеты.\n",
        "\n",
        "Исходите из предположения о том, что норма roas_28d = 1.2\n",
        "\n",
        "\n",
        "**Решение тестового задания должно содержать Jupyter Notebook c решением, текстовые файлы res1.txt, res2.txt**"
      ]
    },
    {
      "cell_type": "markdown",
      "metadata": {
        "id": "dNWIDHSN-f1c"
      },
      "source": [
        ""
      ]
    },
    {
      "cell_type": "code",
      "metadata": {
        "id": "Ej3CAlJkI8VR"
      },
      "source": [
        "import sqlite3\n",
        "import pandas as pd"
      ],
      "execution_count": null,
      "outputs": []
    },
    {
      "cell_type": "code",
      "metadata": {
        "id": "iuqU6vv1ZlUt"
      },
      "source": [
        "import pandas as pd  \n",
        "import numpy as np  \n",
        "import matplotlib.pyplot as plt  \n",
        "import seaborn as seabornInstance \n",
        "from sklearn.model_selection import train_test_split \n",
        "from sklearn.linear_model import LinearRegression\n",
        "from sklearn import metrics\n",
        "%matplotlib inline"
      ],
      "execution_count": null,
      "outputs": []
    },
    {
      "cell_type": "code",
      "metadata": {
        "id": "CA84Hnw8I8KN"
      },
      "source": [
        "conn = sqlite3.connect('/content/drive/My Drive/db.db')"
      ],
      "execution_count": null,
      "outputs": []
    },
    {
      "cell_type": "code",
      "metadata": {
        "id": "UXK4NW6FQ0nD",
        "outputId": "69c1391e-d905-439f-b4ad-7764dbd103f8",
        "colab": {
          "base_uri": "https://localhost:8080/",
          "height": 419
        }
      },
      "source": [
        "spent = pd.read_sql_query(\"SELECT * from spent;\", conn)\n",
        "spent"
      ],
      "execution_count": null,
      "outputs": [
        {
          "output_type": "execute_result",
          "data": {
            "text/html": [
              "<div>\n",
              "<style scoped>\n",
              "    .dataframe tbody tr th:only-of-type {\n",
              "        vertical-align: middle;\n",
              "    }\n",
              "\n",
              "    .dataframe tbody tr th {\n",
              "        vertical-align: top;\n",
              "    }\n",
              "\n",
              "    .dataframe thead th {\n",
              "        text-align: right;\n",
              "    }\n",
              "</style>\n",
              "<table border=\"1\" class=\"dataframe\">\n",
              "  <thead>\n",
              "    <tr style=\"text-align: right;\">\n",
              "      <th></th>\n",
              "      <th>date</th>\n",
              "      <th>os</th>\n",
              "      <th>country</th>\n",
              "      <th>spend</th>\n",
              "      <th>impressions</th>\n",
              "      <th>clicks</th>\n",
              "      <th>installs</th>\n",
              "    </tr>\n",
              "  </thead>\n",
              "  <tbody>\n",
              "    <tr>\n",
              "      <th>0</th>\n",
              "      <td>2020-06-01</td>\n",
              "      <td>android</td>\n",
              "      <td>AD</td>\n",
              "      <td>0.02</td>\n",
              "      <td>32</td>\n",
              "      <td>2</td>\n",
              "      <td>2</td>\n",
              "    </tr>\n",
              "    <tr>\n",
              "      <th>1</th>\n",
              "      <td>2020-06-01</td>\n",
              "      <td>android</td>\n",
              "      <td>AE</td>\n",
              "      <td>2.73</td>\n",
              "      <td>1167</td>\n",
              "      <td>19</td>\n",
              "      <td>8</td>\n",
              "    </tr>\n",
              "    <tr>\n",
              "      <th>2</th>\n",
              "      <td>2020-06-01</td>\n",
              "      <td>android</td>\n",
              "      <td>AF</td>\n",
              "      <td>0.07</td>\n",
              "      <td>110</td>\n",
              "      <td>4</td>\n",
              "      <td>0</td>\n",
              "    </tr>\n",
              "    <tr>\n",
              "      <th>3</th>\n",
              "      <td>2020-06-01</td>\n",
              "      <td>android</td>\n",
              "      <td>AG</td>\n",
              "      <td>0.04</td>\n",
              "      <td>26</td>\n",
              "      <td>0</td>\n",
              "      <td>0</td>\n",
              "    </tr>\n",
              "    <tr>\n",
              "      <th>4</th>\n",
              "      <td>2020-06-01</td>\n",
              "      <td>android</td>\n",
              "      <td>AL</td>\n",
              "      <td>0.13</td>\n",
              "      <td>70</td>\n",
              "      <td>1</td>\n",
              "      <td>1</td>\n",
              "    </tr>\n",
              "    <tr>\n",
              "      <th>...</th>\n",
              "      <td>...</td>\n",
              "      <td>...</td>\n",
              "      <td>...</td>\n",
              "      <td>...</td>\n",
              "      <td>...</td>\n",
              "      <td>...</td>\n",
              "      <td>...</td>\n",
              "    </tr>\n",
              "    <tr>\n",
              "      <th>11817</th>\n",
              "      <td>2020-08-15</td>\n",
              "      <td>ios</td>\n",
              "      <td>VN</td>\n",
              "      <td>2.02</td>\n",
              "      <td>495</td>\n",
              "      <td>14</td>\n",
              "      <td>1</td>\n",
              "    </tr>\n",
              "    <tr>\n",
              "      <th>11818</th>\n",
              "      <td>2020-08-15</td>\n",
              "      <td>ios</td>\n",
              "      <td>XK</td>\n",
              "      <td>0.14</td>\n",
              "      <td>44</td>\n",
              "      <td>3</td>\n",
              "      <td>0</td>\n",
              "    </tr>\n",
              "    <tr>\n",
              "      <th>11819</th>\n",
              "      <td>2020-08-15</td>\n",
              "      <td>ios</td>\n",
              "      <td>ZA</td>\n",
              "      <td>0.44</td>\n",
              "      <td>83</td>\n",
              "      <td>1</td>\n",
              "      <td>0</td>\n",
              "    </tr>\n",
              "    <tr>\n",
              "      <th>11820</th>\n",
              "      <td>2020-08-15</td>\n",
              "      <td>ios</td>\n",
              "      <td>ZM</td>\n",
              "      <td>0.03</td>\n",
              "      <td>6</td>\n",
              "      <td>0</td>\n",
              "      <td>0</td>\n",
              "    </tr>\n",
              "    <tr>\n",
              "      <th>11821</th>\n",
              "      <td>2020-08-15</td>\n",
              "      <td>ios</td>\n",
              "      <td>ZW</td>\n",
              "      <td>0.01</td>\n",
              "      <td>6</td>\n",
              "      <td>1</td>\n",
              "      <td>1</td>\n",
              "    </tr>\n",
              "  </tbody>\n",
              "</table>\n",
              "<p>11822 rows × 7 columns</p>\n",
              "</div>"
            ],
            "text/plain": [
              "             date       os country  spend  impressions  clicks  installs\n",
              "0      2020-06-01  android      AD   0.02           32       2         2\n",
              "1      2020-06-01  android      AE   2.73         1167      19         8\n",
              "2      2020-06-01  android      AF   0.07          110       4         0\n",
              "3      2020-06-01  android      AG   0.04           26       0         0\n",
              "4      2020-06-01  android      AL   0.13           70       1         1\n",
              "...           ...      ...     ...    ...          ...     ...       ...\n",
              "11817  2020-08-15      ios      VN   2.02          495      14         1\n",
              "11818  2020-08-15      ios      XK   0.14           44       3         0\n",
              "11819  2020-08-15      ios      ZA   0.44           83       1         0\n",
              "11820  2020-08-15      ios      ZM   0.03            6       0         0\n",
              "11821  2020-08-15      ios      ZW   0.01            6       1         1\n",
              "\n",
              "[11822 rows x 7 columns]"
            ]
          },
          "metadata": {
            "tags": []
          },
          "execution_count": 5
        }
      ]
    },
    {
      "cell_type": "code",
      "metadata": {
        "id": "zjSbpfcURC3W",
        "outputId": "3f8c54b0-871d-4903-d5e7-6d9d504515f9",
        "colab": {
          "base_uri": "https://localhost:8080/",
          "height": 419
        }
      },
      "source": [
        "payments = pd.read_sql_query(\"SELECT * from payments;\", conn)\n",
        "payments"
      ],
      "execution_count": null,
      "outputs": [
        {
          "output_type": "execute_result",
          "data": {
            "text/html": [
              "<div>\n",
              "<style scoped>\n",
              "    .dataframe tbody tr th:only-of-type {\n",
              "        vertical-align: middle;\n",
              "    }\n",
              "\n",
              "    .dataframe tbody tr th {\n",
              "        vertical-align: top;\n",
              "    }\n",
              "\n",
              "    .dataframe thead th {\n",
              "        text-align: right;\n",
              "    }\n",
              "</style>\n",
              "<table border=\"1\" class=\"dataframe\">\n",
              "  <thead>\n",
              "    <tr style=\"text-align: right;\">\n",
              "      <th></th>\n",
              "      <th>date</th>\n",
              "      <th>ts</th>\n",
              "      <th>os</th>\n",
              "      <th>country</th>\n",
              "      <th>purchases</th>\n",
              "      <th>unique_purchases</th>\n",
              "      <th>app_revenue</th>\n",
              "    </tr>\n",
              "  </thead>\n",
              "  <tbody>\n",
              "    <tr>\n",
              "      <th>0</th>\n",
              "      <td>2020-08-04</td>\n",
              "      <td>2020-08-14 04:04:06.608152</td>\n",
              "      <td>ios</td>\n",
              "      <td>US</td>\n",
              "      <td>3</td>\n",
              "      <td>2</td>\n",
              "      <td>9.97000</td>\n",
              "    </tr>\n",
              "    <tr>\n",
              "      <th>1</th>\n",
              "      <td>2020-07-28</td>\n",
              "      <td>2020-07-29 04:03:56.516653</td>\n",
              "      <td>ios</td>\n",
              "      <td>NL</td>\n",
              "      <td>0</td>\n",
              "      <td>0</td>\n",
              "      <td>0.00000</td>\n",
              "    </tr>\n",
              "    <tr>\n",
              "      <th>2</th>\n",
              "      <td>2020-06-14</td>\n",
              "      <td>2020-07-09 04:02:08.915834</td>\n",
              "      <td>ios</td>\n",
              "      <td>SA</td>\n",
              "      <td>8</td>\n",
              "      <td>2</td>\n",
              "      <td>33.80310</td>\n",
              "    </tr>\n",
              "    <tr>\n",
              "      <th>3</th>\n",
              "      <td>2020-06-10</td>\n",
              "      <td>2020-06-13 04:05:36.297502</td>\n",
              "      <td>android</td>\n",
              "      <td>IQ</td>\n",
              "      <td>0</td>\n",
              "      <td>0</td>\n",
              "      <td>0.00000</td>\n",
              "    </tr>\n",
              "    <tr>\n",
              "      <th>4</th>\n",
              "      <td>2020-06-14</td>\n",
              "      <td>2020-06-28 04:04:59.576784</td>\n",
              "      <td>android</td>\n",
              "      <td>LB</td>\n",
              "      <td>0</td>\n",
              "      <td>0</td>\n",
              "      <td>0.00000</td>\n",
              "    </tr>\n",
              "    <tr>\n",
              "      <th>...</th>\n",
              "      <td>...</td>\n",
              "      <td>...</td>\n",
              "      <td>...</td>\n",
              "      <td>...</td>\n",
              "      <td>...</td>\n",
              "      <td>...</td>\n",
              "      <td>...</td>\n",
              "    </tr>\n",
              "    <tr>\n",
              "      <th>122936</th>\n",
              "      <td>2020-07-15</td>\n",
              "      <td>2020-07-30 04:03:56.181009</td>\n",
              "      <td>ios</td>\n",
              "      <td>BG</td>\n",
              "      <td>0</td>\n",
              "      <td>0</td>\n",
              "      <td>0.00000</td>\n",
              "    </tr>\n",
              "    <tr>\n",
              "      <th>122937</th>\n",
              "      <td>2020-07-20</td>\n",
              "      <td>2020-08-11 04:04:04.930876</td>\n",
              "      <td>android</td>\n",
              "      <td>SA</td>\n",
              "      <td>0</td>\n",
              "      <td>0</td>\n",
              "      <td>0.00000</td>\n",
              "    </tr>\n",
              "    <tr>\n",
              "      <th>122938</th>\n",
              "      <td>2020-07-09</td>\n",
              "      <td>2020-07-31 04:03:58.571797</td>\n",
              "      <td>android</td>\n",
              "      <td>KZ</td>\n",
              "      <td>0</td>\n",
              "      <td>0</td>\n",
              "      <td>0.00000</td>\n",
              "    </tr>\n",
              "    <tr>\n",
              "      <th>122939</th>\n",
              "      <td>2020-07-09</td>\n",
              "      <td>2020-08-01 04:04:08.334394</td>\n",
              "      <td>android</td>\n",
              "      <td>BR</td>\n",
              "      <td>2</td>\n",
              "      <td>1</td>\n",
              "      <td>8.61275</td>\n",
              "    </tr>\n",
              "    <tr>\n",
              "      <th>122940</th>\n",
              "      <td>2020-06-28</td>\n",
              "      <td>2020-07-09 04:02:08.915834</td>\n",
              "      <td>android</td>\n",
              "      <td>AR</td>\n",
              "      <td>0</td>\n",
              "      <td>0</td>\n",
              "      <td>0.00000</td>\n",
              "    </tr>\n",
              "  </tbody>\n",
              "</table>\n",
              "<p>122941 rows × 7 columns</p>\n",
              "</div>"
            ],
            "text/plain": [
              "              date                          ts  ... unique_purchases app_revenue\n",
              "0       2020-08-04  2020-08-14 04:04:06.608152  ...                2     9.97000\n",
              "1       2020-07-28  2020-07-29 04:03:56.516653  ...                0     0.00000\n",
              "2       2020-06-14  2020-07-09 04:02:08.915834  ...                2    33.80310\n",
              "3       2020-06-10  2020-06-13 04:05:36.297502  ...                0     0.00000\n",
              "4       2020-06-14  2020-06-28 04:04:59.576784  ...                0     0.00000\n",
              "...            ...                         ...  ...              ...         ...\n",
              "122936  2020-07-15  2020-07-30 04:03:56.181009  ...                0     0.00000\n",
              "122937  2020-07-20  2020-08-11 04:04:04.930876  ...                0     0.00000\n",
              "122938  2020-07-09  2020-07-31 04:03:58.571797  ...                0     0.00000\n",
              "122939  2020-07-09  2020-08-01 04:04:08.334394  ...                1     8.61275\n",
              "122940  2020-06-28  2020-07-09 04:02:08.915834  ...                0     0.00000\n",
              "\n",
              "[122941 rows x 7 columns]"
            ]
          },
          "metadata": {
            "tags": []
          },
          "execution_count": 48
        }
      ]
    },
    {
      "cell_type": "markdown",
      "metadata": {
        "id": "400HSP_9lCFN"
      },
      "source": [
        "Задание 1"
      ]
    },
    {
      "cell_type": "code",
      "metadata": {
        "id": "Yos6R_W58war",
        "outputId": "03505fa2-5212-4d84-9f28-ec8e5069f433",
        "colab": {
          "base_uri": "https://localhost:8080/",
          "height": 80
        }
      },
      "source": [
        "df_android = pd.read_sql_query(\"select sum(app_revenue)/count(distinct os) as result_android from (select *, max(ts) from payments  group by date, country, os order by max(ts)) where os='android';\", conn)\n",
        "df_android"
      ],
      "execution_count": 181,
      "outputs": [
        {
          "output_type": "execute_result",
          "data": {
            "text/html": [
              "<div>\n",
              "<style scoped>\n",
              "    .dataframe tbody tr th:only-of-type {\n",
              "        vertical-align: middle;\n",
              "    }\n",
              "\n",
              "    .dataframe tbody tr th {\n",
              "        vertical-align: top;\n",
              "    }\n",
              "\n",
              "    .dataframe thead th {\n",
              "        text-align: right;\n",
              "    }\n",
              "</style>\n",
              "<table border=\"1\" class=\"dataframe\">\n",
              "  <thead>\n",
              "    <tr style=\"text-align: right;\">\n",
              "      <th></th>\n",
              "      <th>result_android</th>\n",
              "    </tr>\n",
              "  </thead>\n",
              "  <tbody>\n",
              "    <tr>\n",
              "      <th>0</th>\n",
              "      <td>29463.589265</td>\n",
              "    </tr>\n",
              "  </tbody>\n",
              "</table>\n",
              "</div>"
            ],
            "text/plain": [
              "   result_android\n",
              "0    29463.589265"
            ]
          },
          "metadata": {
            "tags": []
          },
          "execution_count": 181
        }
      ]
    },
    {
      "cell_type": "code",
      "metadata": {
        "id": "aIKdt6BXMFPi",
        "outputId": "36ace483-139f-460c-fc0c-4d8fff7ef1f4",
        "colab": {
          "base_uri": "https://localhost:8080/",
          "height": 80
        }
      },
      "source": [
        "df_ios = pd.read_sql_query(\"select sum(app_revenue)/count(distinct os) as results_ios from (select *, max(ts) from payments  group by date, country, os order by max(ts)) where os='ios';\", conn)\n",
        "df_ios"
      ],
      "execution_count": 182,
      "outputs": [
        {
          "output_type": "execute_result",
          "data": {
            "text/html": [
              "<div>\n",
              "<style scoped>\n",
              "    .dataframe tbody tr th:only-of-type {\n",
              "        vertical-align: middle;\n",
              "    }\n",
              "\n",
              "    .dataframe tbody tr th {\n",
              "        vertical-align: top;\n",
              "    }\n",
              "\n",
              "    .dataframe thead th {\n",
              "        text-align: right;\n",
              "    }\n",
              "</style>\n",
              "<table border=\"1\" class=\"dataframe\">\n",
              "  <thead>\n",
              "    <tr style=\"text-align: right;\">\n",
              "      <th></th>\n",
              "      <th>results_ios</th>\n",
              "    </tr>\n",
              "  </thead>\n",
              "  <tbody>\n",
              "    <tr>\n",
              "      <th>0</th>\n",
              "      <td>37882.479279</td>\n",
              "    </tr>\n",
              "  </tbody>\n",
              "</table>\n",
              "</div>"
            ],
            "text/plain": [
              "    results_ios\n",
              "0  37882.479279"
            ]
          },
          "metadata": {
            "tags": []
          },
          "execution_count": 182
        }
      ]
    },
    {
      "cell_type": "code",
      "metadata": {
        "id": "n86y0BI6h7aU"
      },
      "source": [
        "data = pd.concat([df_ios,df_android])\n",
        "data.to_csv('res1.txt', header=False, index=False,sep='\\t')"
      ],
      "execution_count": null,
      "outputs": []
    },
    {
      "cell_type": "markdown",
      "metadata": {
        "id": "JWhn-DKhlWmI"
      },
      "source": [
        "задание 2"
      ]
    },
    {
      "cell_type": "code",
      "metadata": {
        "id": "wYXLfEpJjFYi",
        "outputId": "93e836cb-a0c7-4d1f-c3cd-e2ac018b093b",
        "colab": {
          "base_uri": "https://localhost:8080/",
          "height": 419
        }
      },
      "source": [
        "roas_28d_android_july= pd.read_sql_query(\"select (spend/app_revenue) roas_28d,platform ,month, spend, date_28, days,app_revenue from (select strftime('%m', date) as month, payments.date as date_28,os as platform,payments.app_revenue, julianday(ts)-julianday(date) as days from  payments where days>=28 and platform='android'),spent where julianday(date_28)= julianday(spent.date) and month='07' ;\", conn)\n",
        "roas_28d_android_july"
      ],
      "execution_count": 197,
      "outputs": [
        {
          "output_type": "execute_result",
          "data": {
            "text/html": [
              "<div>\n",
              "<style scoped>\n",
              "    .dataframe tbody tr th:only-of-type {\n",
              "        vertical-align: middle;\n",
              "    }\n",
              "\n",
              "    .dataframe tbody tr th {\n",
              "        vertical-align: top;\n",
              "    }\n",
              "\n",
              "    .dataframe thead th {\n",
              "        text-align: right;\n",
              "    }\n",
              "</style>\n",
              "<table border=\"1\" class=\"dataframe\">\n",
              "  <thead>\n",
              "    <tr style=\"text-align: right;\">\n",
              "      <th></th>\n",
              "      <th>roas_28d</th>\n",
              "      <th>platform</th>\n",
              "      <th>month</th>\n",
              "      <th>spend</th>\n",
              "      <th>date_28</th>\n",
              "      <th>days</th>\n",
              "      <th>app_revenue</th>\n",
              "    </tr>\n",
              "  </thead>\n",
              "  <tbody>\n",
              "    <tr>\n",
              "      <th>0</th>\n",
              "      <td>0.217732</td>\n",
              "      <td>android</td>\n",
              "      <td>07</td>\n",
              "      <td>65.67</td>\n",
              "      <td>2020-07-08</td>\n",
              "      <td>28.169491</td>\n",
              "      <td>301.61000</td>\n",
              "    </tr>\n",
              "    <tr>\n",
              "      <th>1</th>\n",
              "      <td>0.216472</td>\n",
              "      <td>android</td>\n",
              "      <td>07</td>\n",
              "      <td>65.29</td>\n",
              "      <td>2020-07-08</td>\n",
              "      <td>28.169491</td>\n",
              "      <td>301.61000</td>\n",
              "    </tr>\n",
              "    <tr>\n",
              "      <th>2</th>\n",
              "      <td>NaN</td>\n",
              "      <td>android</td>\n",
              "      <td>07</td>\n",
              "      <td>0.01</td>\n",
              "      <td>2020-07-09</td>\n",
              "      <td>28.169515</td>\n",
              "      <td>0.00000</td>\n",
              "    </tr>\n",
              "    <tr>\n",
              "      <th>3</th>\n",
              "      <td>NaN</td>\n",
              "      <td>android</td>\n",
              "      <td>07</td>\n",
              "      <td>0.01</td>\n",
              "      <td>2020-07-09</td>\n",
              "      <td>28.169515</td>\n",
              "      <td>0.00000</td>\n",
              "    </tr>\n",
              "    <tr>\n",
              "      <th>4</th>\n",
              "      <td>NaN</td>\n",
              "      <td>android</td>\n",
              "      <td>07</td>\n",
              "      <td>0.01</td>\n",
              "      <td>2020-07-09</td>\n",
              "      <td>28.169515</td>\n",
              "      <td>0.00000</td>\n",
              "    </tr>\n",
              "    <tr>\n",
              "      <th>...</th>\n",
              "      <td>...</td>\n",
              "      <td>...</td>\n",
              "      <td>...</td>\n",
              "      <td>...</td>\n",
              "      <td>...</td>\n",
              "      <td>...</td>\n",
              "      <td>...</td>\n",
              "    </tr>\n",
              "    <tr>\n",
              "      <th>62568</th>\n",
              "      <td>0.229779</td>\n",
              "      <td>android</td>\n",
              "      <td>07</td>\n",
              "      <td>0.52</td>\n",
              "      <td>2020-07-18</td>\n",
              "      <td>28.168305</td>\n",
              "      <td>2.26304</td>\n",
              "    </tr>\n",
              "    <tr>\n",
              "      <th>62569</th>\n",
              "      <td>0.094280</td>\n",
              "      <td>android</td>\n",
              "      <td>07</td>\n",
              "      <td>0.52</td>\n",
              "      <td>2020-07-18</td>\n",
              "      <td>28.168305</td>\n",
              "      <td>5.51546</td>\n",
              "    </tr>\n",
              "    <tr>\n",
              "      <th>62570</th>\n",
              "      <td>0.031646</td>\n",
              "      <td>android</td>\n",
              "      <td>07</td>\n",
              "      <td>0.52</td>\n",
              "      <td>2020-07-18</td>\n",
              "      <td>28.168305</td>\n",
              "      <td>16.43200</td>\n",
              "    </tr>\n",
              "    <tr>\n",
              "      <th>62571</th>\n",
              "      <td>0.007855</td>\n",
              "      <td>android</td>\n",
              "      <td>07</td>\n",
              "      <td>0.52</td>\n",
              "      <td>2020-07-18</td>\n",
              "      <td>28.168305</td>\n",
              "      <td>66.20070</td>\n",
              "    </tr>\n",
              "    <tr>\n",
              "      <th>62572</th>\n",
              "      <td>0.001124</td>\n",
              "      <td>android</td>\n",
              "      <td>07</td>\n",
              "      <td>0.52</td>\n",
              "      <td>2020-07-18</td>\n",
              "      <td>28.168305</td>\n",
              "      <td>462.76000</td>\n",
              "    </tr>\n",
              "  </tbody>\n",
              "</table>\n",
              "<p>62573 rows × 7 columns</p>\n",
              "</div>"
            ],
            "text/plain": [
              "       roas_28d platform month  spend     date_28       days  app_revenue\n",
              "0      0.217732  android    07  65.67  2020-07-08  28.169491    301.61000\n",
              "1      0.216472  android    07  65.29  2020-07-08  28.169491    301.61000\n",
              "2           NaN  android    07   0.01  2020-07-09  28.169515      0.00000\n",
              "3           NaN  android    07   0.01  2020-07-09  28.169515      0.00000\n",
              "4           NaN  android    07   0.01  2020-07-09  28.169515      0.00000\n",
              "...         ...      ...   ...    ...         ...        ...          ...\n",
              "62568  0.229779  android    07   0.52  2020-07-18  28.168305      2.26304\n",
              "62569  0.094280  android    07   0.52  2020-07-18  28.168305      5.51546\n",
              "62570  0.031646  android    07   0.52  2020-07-18  28.168305     16.43200\n",
              "62571  0.007855  android    07   0.52  2020-07-18  28.168305     66.20070\n",
              "62572  0.001124  android    07   0.52  2020-07-18  28.168305    462.76000\n",
              "\n",
              "[62573 rows x 7 columns]"
            ]
          },
          "metadata": {
            "tags": []
          },
          "execution_count": 197
        }
      ]
    },
    {
      "cell_type": "code",
      "metadata": {
        "id": "Vcz4pHIFRXPy",
        "outputId": "3a00ffc5-c954-4749-806b-e8b051005281",
        "colab": {
          "base_uri": "https://localhost:8080/",
          "height": 419
        }
      },
      "source": [
        "roas_28d_android_july= pd.read_sql_query(\"select (spend/app_revenue) roas_28d,platform ,month, spend, date_28, days,app_revenue from (select strftime('%m', date) as month, payments.date as date_28,os as platform,payments.app_revenue, julianday(ts)-julianday(date) as days from  payments where days>=28 and platform='android'),spent where julianday(date_28)= julianday(spent.date) and month='07' ;\", conn)\n",
        "#roas_28d_android_july\n",
        "roas_28d_android_june= pd.read_sql_query(\"select (spend/app_revenue) roas_28d,platform ,month, spend, date_28, days,app_revenue from (select strftime('%m', date) as month, payments.date as date_28,os as platform,payments.app_revenue, julianday(ts)-julianday(date) as days from  payments where days>=28 and platform='android'),spent where julianday(date_28)= julianday(spent.date) and month='06' ;\", conn)\n",
        "roas_28d_android_june"
      ],
      "execution_count": null,
      "outputs": [
        {
          "output_type": "execute_result",
          "data": {
            "text/html": [
              "<div>\n",
              "<style scoped>\n",
              "    .dataframe tbody tr th:only-of-type {\n",
              "        vertical-align: middle;\n",
              "    }\n",
              "\n",
              "    .dataframe tbody tr th {\n",
              "        vertical-align: top;\n",
              "    }\n",
              "\n",
              "    .dataframe thead th {\n",
              "        text-align: right;\n",
              "    }\n",
              "</style>\n",
              "<table border=\"1\" class=\"dataframe\">\n",
              "  <thead>\n",
              "    <tr style=\"text-align: right;\">\n",
              "      <th></th>\n",
              "      <th>roas_28d</th>\n",
              "      <th>platform</th>\n",
              "      <th>month</th>\n",
              "      <th>spend</th>\n",
              "      <th>date_28</th>\n",
              "      <th>days</th>\n",
              "      <th>app_revenue</th>\n",
              "    </tr>\n",
              "  </thead>\n",
              "  <tbody>\n",
              "    <tr>\n",
              "      <th>0</th>\n",
              "      <td>NaN</td>\n",
              "      <td>android</td>\n",
              "      <td>06</td>\n",
              "      <td>0.02</td>\n",
              "      <td>2020-06-01</td>\n",
              "      <td>28.170311</td>\n",
              "      <td>0.0000</td>\n",
              "    </tr>\n",
              "    <tr>\n",
              "      <th>1</th>\n",
              "      <td>NaN</td>\n",
              "      <td>android</td>\n",
              "      <td>06</td>\n",
              "      <td>0.02</td>\n",
              "      <td>2020-06-01</td>\n",
              "      <td>28.170311</td>\n",
              "      <td>0.0000</td>\n",
              "    </tr>\n",
              "    <tr>\n",
              "      <th>2</th>\n",
              "      <td>NaN</td>\n",
              "      <td>android</td>\n",
              "      <td>06</td>\n",
              "      <td>0.02</td>\n",
              "      <td>2020-06-01</td>\n",
              "      <td>28.170311</td>\n",
              "      <td>0.0000</td>\n",
              "    </tr>\n",
              "    <tr>\n",
              "      <th>3</th>\n",
              "      <td>NaN</td>\n",
              "      <td>android</td>\n",
              "      <td>06</td>\n",
              "      <td>0.02</td>\n",
              "      <td>2020-06-01</td>\n",
              "      <td>28.170311</td>\n",
              "      <td>0.0000</td>\n",
              "    </tr>\n",
              "    <tr>\n",
              "      <th>4</th>\n",
              "      <td>NaN</td>\n",
              "      <td>android</td>\n",
              "      <td>06</td>\n",
              "      <td>0.02</td>\n",
              "      <td>2020-06-01</td>\n",
              "      <td>28.170311</td>\n",
              "      <td>0.0000</td>\n",
              "    </tr>\n",
              "    <tr>\n",
              "      <th>...</th>\n",
              "      <td>...</td>\n",
              "      <td>...</td>\n",
              "      <td>...</td>\n",
              "      <td>...</td>\n",
              "      <td>...</td>\n",
              "      <td>...</td>\n",
              "      <td>...</td>\n",
              "    </tr>\n",
              "    <tr>\n",
              "      <th>496103</th>\n",
              "      <td>NaN</td>\n",
              "      <td>android</td>\n",
              "      <td>06</td>\n",
              "      <td>0.01</td>\n",
              "      <td>2020-06-25</td>\n",
              "      <td>28.169418</td>\n",
              "      <td>0.0000</td>\n",
              "    </tr>\n",
              "    <tr>\n",
              "      <th>496104</th>\n",
              "      <td>NaN</td>\n",
              "      <td>android</td>\n",
              "      <td>06</td>\n",
              "      <td>0.01</td>\n",
              "      <td>2020-06-25</td>\n",
              "      <td>28.169418</td>\n",
              "      <td>0.0000</td>\n",
              "    </tr>\n",
              "    <tr>\n",
              "      <th>496105</th>\n",
              "      <td>NaN</td>\n",
              "      <td>android</td>\n",
              "      <td>06</td>\n",
              "      <td>0.01</td>\n",
              "      <td>2020-06-25</td>\n",
              "      <td>28.169418</td>\n",
              "      <td>0.0000</td>\n",
              "    </tr>\n",
              "    <tr>\n",
              "      <th>496106</th>\n",
              "      <td>0.000780</td>\n",
              "      <td>android</td>\n",
              "      <td>06</td>\n",
              "      <td>0.01</td>\n",
              "      <td>2020-06-25</td>\n",
              "      <td>28.169418</td>\n",
              "      <td>12.8191</td>\n",
              "    </tr>\n",
              "    <tr>\n",
              "      <th>496107</th>\n",
              "      <td>0.000211</td>\n",
              "      <td>android</td>\n",
              "      <td>06</td>\n",
              "      <td>0.01</td>\n",
              "      <td>2020-06-25</td>\n",
              "      <td>28.169418</td>\n",
              "      <td>47.4319</td>\n",
              "    </tr>\n",
              "  </tbody>\n",
              "</table>\n",
              "<p>496108 rows × 7 columns</p>\n",
              "</div>"
            ],
            "text/plain": [
              "        roas_28d platform month  spend     date_28       days  app_revenue\n",
              "0            NaN  android    06   0.02  2020-06-01  28.170311       0.0000\n",
              "1            NaN  android    06   0.02  2020-06-01  28.170311       0.0000\n",
              "2            NaN  android    06   0.02  2020-06-01  28.170311       0.0000\n",
              "3            NaN  android    06   0.02  2020-06-01  28.170311       0.0000\n",
              "4            NaN  android    06   0.02  2020-06-01  28.170311       0.0000\n",
              "...          ...      ...   ...    ...         ...        ...          ...\n",
              "496103       NaN  android    06   0.01  2020-06-25  28.169418       0.0000\n",
              "496104       NaN  android    06   0.01  2020-06-25  28.169418       0.0000\n",
              "496105       NaN  android    06   0.01  2020-06-25  28.169418       0.0000\n",
              "496106  0.000780  android    06   0.01  2020-06-25  28.169418      12.8191\n",
              "496107  0.000211  android    06   0.01  2020-06-25  28.169418      47.4319\n",
              "\n",
              "[496108 rows x 7 columns]"
            ]
          },
          "metadata": {
            "tags": []
          },
          "execution_count": 56
        }
      ]
    },
    {
      "cell_type": "code",
      "metadata": {
        "id": "ZGBJ6nMw_wX6",
        "outputId": "62f6cb1c-a248-4488-d216-187df328c86b",
        "colab": {
          "base_uri": "https://localhost:8080/",
          "height": 286
        }
      },
      "source": [
        "print(roas_28d_android_june['roas_28d'].mean())\n",
        "roas_28d_android_june['roas_28d'].plot()\n",
        "plt.show()"
      ],
      "execution_count": null,
      "outputs": [
        {
          "output_type": "stream",
          "text": [
            "2.5887100654410076\n"
          ],
          "name": "stdout"
        },
        {
          "output_type": "display_data",
          "data": {
            "image/png": "[encoded data removed]",
            "text/plain": [
              "<Figure size 432x288 with 1 Axes>"
            ]
          },
          "metadata": {
            "tags": [],
            "needs_background": "light"
          }
        }
      ]
    },
    {
      "cell_type": "code",
      "metadata": {
        "id": "3MeV8lt8_2rV",
        "outputId": "9efe043f-9722-4152-ecd1-f59e5e4a0757",
        "colab": {
          "base_uri": "https://localhost:8080/",
          "height": 282
        }
      },
      "source": [
        "print(roas_28d_android_july['roas_28d'].mean())\n",
        "roas_28d_android_july['roas_28d'].plot()\n",
        "plt.show()"
      ],
      "execution_count": null,
      "outputs": [
        {
          "output_type": "stream",
          "text": [
            "1.9538882284847792\n"
          ],
          "name": "stdout"
        },
        {
          "output_type": "display_data",
          "data": {
            "image/png": "[encoded data removed]",
            "text/plain": [
              "<Figure size 432x288 with 1 Axes>"
            ]
          },
          "metadata": {
            "tags": [],
            "needs_background": "light"
          }
        }
      ]
    },
    {
      "cell_type": "code",
      "metadata": {
        "id": "vVB7wunkfajq"
      },
      "source": [
        "roas_28d_ios_july= pd.read_sql_query(\"select (spend/app_revenue) roas_28d , spend,platform,month, date_28, days,app_revenue from (select strftime('%m', date) as month, payments.date as date_28,os as platform,payments.app_revenue, julianday(ts)-julianday(date) as days from  payments where days>=28 and platform='ios'),spent where julianday(date_28)= julianday(spent.date) and month='07' ;\", conn)\n",
        "#roas_28d_ios_july\n",
        "roas_28d_ios_june= pd.read_sql_query(\"select (spend/app_revenue) roas_28d , spend,platform, month, date_28, days,app_revenue from (select strftime('%m', date) as month, payments.date as date_28,os as platform,payments.app_revenue, julianday(ts)-julianday(date) as days from  payments where days>=28 and platform='ios'),spent where julianday(date_28)= julianday(spent.date) and month='06'  ;\", conn)\n",
        "#roas_28d_ios_june"
      ],
      "execution_count": null,
      "outputs": []
    },
    {
      "cell_type": "code",
      "metadata": {
        "id": "V1IHPWxVg9CU",
        "outputId": "fe51c3d2-7ad2-476a-ea79-2138b0695fe8",
        "colab": {
          "base_uri": "https://localhost:8080/",
          "height": 282
        }
      },
      "source": [
        "print(roas_28d_ios_june['roas_28d'].mean())\n",
        "roas_28d_ios_june['roas_28d'].plot()\n",
        "plt.show()"
      ],
      "execution_count": null,
      "outputs": [
        {
          "output_type": "stream",
          "text": [
            "2.259822535390841\n"
          ],
          "name": "stdout"
        },
        {
          "output_type": "display_data",
          "data": {
            "image/png": "[encoded data removed]",
            "text/plain": [
              "<Figure size 432x288 with 1 Axes>"
            ]
          },
          "metadata": {
            "tags": [],
            "needs_background": "light"
          }
        }
      ]
    },
    {
      "cell_type": "code",
      "metadata": {
        "id": "LAz5S-CeniiI",
        "outputId": "0daaea97-c7d0-4d85-c793-7159c7213e5a",
        "colab": {
          "base_uri": "https://localhost:8080/",
          "height": 282
        }
      },
      "source": [
        "print(roas_28d_ios_july['roas_28d'].mean())\n",
        "roas_28d_ios_july['roas_28d'].plot()\n",
        "plt.show()"
      ],
      "execution_count": null,
      "outputs": [
        {
          "output_type": "stream",
          "text": [
            "1.2867043443530515\n"
          ],
          "name": "stdout"
        },
        {
          "output_type": "display_data",
          "data": {
            "image/png": "[encoded data removed]",
            "text/plain": [
              "<Figure size 432x288 with 1 Axes>"
            ]
          },
          "metadata": {
            "tags": [],
            "needs_background": "light"
          }
        }
      ]
    },
    {
      "cell_type": "code",
      "metadata": {
        "id": "yZ4zzdSVjmte"
      },
      "source": [
        "f = open(\"res2.txt\", \"a\")\n",
        "f.write(str(roas_28d_android_july['roas_28d'].mean()))\n",
        "f.write(\" \")\n",
        "f.write(str(roas_28d_ios_july['roas_28d'].mean()))\n",
        "f.close()"
      ],
      "execution_count": 201,
      "outputs": []
    },
    {
      "cell_type": "code",
      "metadata": {
        "id": "O1vZj4dPQY5l"
      },
      "source": [
        "#res2= pd.read_sql_query(\"select date,platej,os, app_revenue from (select date,os,payments.app_revenue, julianday(ts)-julianday(date) as platej from  payments where platej>=28);\", conn)\n"
      ],
      "execution_count": 196,
      "outputs": []
    },
    {
      "cell_type": "markdown",
      "metadata": {
        "id": "BckKumZ8lm0D"
      },
      "source": [
        "задание 2.1"
      ]
    },
    {
      "cell_type": "code",
      "metadata": {
        "id": "uH23IPTzJsjc",
        "outputId": "3de4f002-400c-4d37-fd2d-bb396ff10da0",
        "colab": {
          "base_uri": "https://localhost:8080/",
          "height": 34
        }
      },
      "source": [
        "from google.colab import drive\n",
        "drive.mount('/content/drive')"
      ],
      "execution_count": null,
      "outputs": [
        {
          "output_type": "stream",
          "text": [
            "Mounted at /content/drive\n"
          ],
          "name": "stdout"
        }
      ]
    },
    {
      "cell_type": "code",
      "metadata": {
        "id": "MnaRREwZVnv1"
      },
      "source": [
        "roas_28d_june= pd.read_sql_query(\"select (spend/app_revenue) roas_28d ,month, spend, date_28, days,app_revenue from (select strftime('%m', date) as month, payments.date as date_28,os as platform,payments.app_revenue, julianday(ts)-julianday(date) as days from  payments where days>=28 ),spent where julianday(date_28)= julianday(spent.date) and month='06' ;\", conn)\n",
        "roas_28d_july= pd.read_sql_query(\"select (spend/app_revenue) roas_28d ,month, spend, date_28, days,app_revenue from (select strftime('%m', date) as month, payments.date as date_28,os as platform,payments.app_revenue, julianday(ts)-julianday(date) as days from  payments where days>=28 ),spent where julianday(date_28)= julianday(spent.date) and month='07' ;\", conn)"
      ],
      "execution_count": null,
      "outputs": []
    },
    {
      "cell_type": "code",
      "metadata": {
        "id": "su_o745IppJ4",
        "outputId": "6552cbfc-8009-47d9-d1ba-fc62498c0331",
        "colab": {
          "base_uri": "https://localhost:8080/",
          "height": 269
        }
      },
      "source": [
        "roas_28d_june['roas_28d'].plot()\n",
        "plt.show()"
      ],
      "execution_count": null,
      "outputs": [
        {
          "output_type": "display_data",
          "data": {
            "image/png": "[encoded data removed]",
            "text/plain": [
              "<Figure size 432x288 with 1 Axes>"
            ]
          },
          "metadata": {
            "tags": [],
            "needs_background": "light"
          }
        }
      ]
    },
    {
      "cell_type": "code",
      "metadata": {
        "id": "7BnTW_rCub7J",
        "outputId": "e21d4550-ff95-40d4-d41d-44a3a33d3355",
        "colab": {
          "base_uri": "https://localhost:8080/",
          "height": 34
        }
      },
      "source": [
        "roas_28d_june.shape"
      ],
      "execution_count": null,
      "outputs": [
        {
          "output_type": "execute_result",
          "data": {
            "text/plain": [
              "(807833, 7)"
            ]
          },
          "metadata": {
            "tags": []
          },
          "execution_count": 64
        }
      ]
    },
    {
      "cell_type": "code",
      "metadata": {
        "id": "z2cuDbD5yXNf"
      },
      "source": [
        "roas_28d_june = roas_28d_june.fillna(0)\n",
        "roas_28d_july = roas_28d_july.fillna(0)"
      ],
      "execution_count": null,
      "outputs": []
    },
    {
      "cell_type": "code",
      "metadata": {
        "id": "F931oD2V2WYK",
        "outputId": "6501548c-df59-461e-9158-e3906d18df83",
        "colab": {
          "base_uri": "https://localhost:8080/",
          "height": 34
        }
      },
      "source": [
        "from sklearn.model_selection import train_test_split\n",
        "train, test = roas_28d_july[['spend','app_revenue']], roas_28d_july[['roas_28d']]\n",
        "X_train, X_test, y_train, y_test = train_test_split(train, test, test_size=0.3, random_state=0)\n",
        "from sklearn.linear_model import LinearRegression\n",
        "regressor = LinearRegression()\n",
        "regressor.fit(X_train, y_train)"
      ],
      "execution_count": null,
      "outputs": [
        {
          "output_type": "execute_result",
          "data": {
            "text/plain": [
              "LinearRegression(copy_X=True, fit_intercept=True, n_jobs=None, normalize=False)"
            ]
          },
          "metadata": {
            "tags": []
          },
          "execution_count": 90
        }
      ]
    },
    {
      "cell_type": "code",
      "metadata": {
        "id": "TyzY_9ds2zOj",
        "outputId": "377fb898-a4ba-4162-fa2b-bdaf5e9cc793",
        "colab": {
          "base_uri": "https://localhost:8080/",
          "height": 34
        }
      },
      "source": [
        "y_pred = regressor.predict(X_test)\n",
        "print('Linear Regression R squared\": %.4f' % regressor.score(X_test, y_test))"
      ],
      "execution_count": null,
      "outputs": [
        {
          "output_type": "stream",
          "text": [
            "Linear Regression R squared\": 0.0541\n"
          ],
          "name": "stdout"
        }
      ]
    },
    {
      "cell_type": "code",
      "metadata": {
        "id": "9krovfXd2-S_",
        "outputId": "884816ea-5d2c-4e3f-bd56-8a675ef042b0",
        "colab": {
          "base_uri": "https://localhost:8080/",
          "height": 34
        }
      },
      "source": [
        "import numpy as np\n",
        "from sklearn.metrics import mean_squared_error\n",
        "lin_mse = mean_squared_error(y_pred, y_test)\n",
        "lin_rmse = np.sqrt(lin_mse)\n",
        "print('Linear Regression RMSE: %.4f' % lin_rmse)"
      ],
      "execution_count": null,
      "outputs": [
        {
          "output_type": "stream",
          "text": [
            "Linear Regression RMSE: 6.4747\n"
          ],
          "name": "stdout"
        }
      ]
    },
    {
      "cell_type": "code",
      "metadata": {
        "id": "mYX4VTaZlwPq"
      },
      "source": [
        ""
      ],
      "execution_count": null,
      "outputs": []
    },
    {
      "cell_type": "markdown",
      "metadata": {
        "id": "nPTbHsLFl7fh"
      },
      "source": [
        "Задание 3"
      ]
    },
    {
      "cell_type": "code",
      "metadata": {
        "id": "03ZSdPpGJ9ct",
        "outputId": "a884ec19-746e-4e5e-dd24-7766f32561d2",
        "colab": {
          "base_uri": "https://localhost:8080/",
          "height": 296
        }
      },
      "source": [
        "# df = pd.read_sql_query(\"select country, sum(purchases) as sum  from payments where os='ios'  group by country order by purchases desc;\", conn)\n",
        "# df.plot(kind='line',x='country',y='sum')"
      ],
      "execution_count": null,
      "outputs": [
        {
          "output_type": "execute_result",
          "data": {
            "text/plain": [
              "<matplotlib.axes._subplots.AxesSubplot at 0x7f18e162efd0>"
            ]
          },
          "metadata": {
            "tags": []
          },
          "execution_count": 152
        },
        {
          "output_type": "display_data",
          "data": {
            "image/png": "[encoded data removed]",
            "text/plain": [
              "<Figure size 432x288 with 1 Axes>"
            ]
          },
          "metadata": {
            "tags": [],
            "needs_background": "light"
          }
        }
      ]
    },
    {
      "cell_type": "code",
      "metadata": {
        "id": "5I6SavGxVha6",
        "outputId": "1c360561-590d-4721-8f70-231e12e9e34b",
        "colab": {
          "base_uri": "https://localhost:8080/",
          "height": 80
        }
      },
      "source": [
        "# df = pd.read_sql_query(\"select sum(purchases) as sum  from payments where os='android'  ;\", conn)\n",
        "# df"
      ],
      "execution_count": 165,
      "outputs": [
        {
          "output_type": "execute_result",
          "data": {
            "text/html": [
              "<div>\n",
              "<style scoped>\n",
              "    .dataframe tbody tr th:only-of-type {\n",
              "        vertical-align: middle;\n",
              "    }\n",
              "\n",
              "    .dataframe tbody tr th {\n",
              "        vertical-align: top;\n",
              "    }\n",
              "\n",
              "    .dataframe thead th {\n",
              "        text-align: right;\n",
              "    }\n",
              "</style>\n",
              "<table border=\"1\" class=\"dataframe\">\n",
              "  <thead>\n",
              "    <tr style=\"text-align: right;\">\n",
              "      <th></th>\n",
              "      <th>sum</th>\n",
              "    </tr>\n",
              "  </thead>\n",
              "  <tbody>\n",
              "    <tr>\n",
              "      <th>0</th>\n",
              "      <td>182766</td>\n",
              "    </tr>\n",
              "  </tbody>\n",
              "</table>\n",
              "</div>"
            ],
            "text/plain": [
              "      sum\n",
              "0  182766"
            ]
          },
          "metadata": {
            "tags": []
          },
          "execution_count": 165
        }
      ]
    },
    {
      "cell_type": "code",
      "metadata": {
        "id": "B1_djWyaVRvN",
        "outputId": "2d831168-c599-4220-d268-dcb3dc78e701",
        "colab": {
          "base_uri": "https://localhost:8080/",
          "height": 80
        }
      },
      "source": [
        "# df = pd.read_sql_query(\"select sum(installs) as sum from spent where os='android';\", conn)\n",
        "# df"
      ],
      "execution_count": 166,
      "outputs": [
        {
          "output_type": "execute_result",
          "data": {
            "text/html": [
              "<div>\n",
              "<style scoped>\n",
              "    .dataframe tbody tr th:only-of-type {\n",
              "        vertical-align: middle;\n",
              "    }\n",
              "\n",
              "    .dataframe tbody tr th {\n",
              "        vertical-align: top;\n",
              "    }\n",
              "\n",
              "    .dataframe thead th {\n",
              "        text-align: right;\n",
              "    }\n",
              "</style>\n",
              "<table border=\"1\" class=\"dataframe\">\n",
              "  <thead>\n",
              "    <tr style=\"text-align: right;\">\n",
              "      <th></th>\n",
              "      <th>sum</th>\n",
              "    </tr>\n",
              "  </thead>\n",
              "  <tbody>\n",
              "    <tr>\n",
              "      <th>0</th>\n",
              "      <td>66178</td>\n",
              "    </tr>\n",
              "  </tbody>\n",
              "</table>\n",
              "</div>"
            ],
            "text/plain": [
              "     sum\n",
              "0  66178"
            ]
          },
          "metadata": {
            "tags": []
          },
          "execution_count": 166
        }
      ]
    },
    {
      "cell_type": "code",
      "metadata": {
        "id": "mZCgEwJBJcxL",
        "outputId": "f3881d91-fa9c-4823-bd91-6cbfe0bd6ca8",
        "colab": {
          "base_uri": "https://localhost:8080/",
          "height": 296
        }
      },
      "source": [
        "# df = pd.read_sql_query(\"select country, sum(installs) as sum from spent where os='ios'  group by country order by installs desc ;\", conn)\n",
        "# df.plot(kind='line',x='country',y='sum')"
      ],
      "execution_count": null,
      "outputs": [
        {
          "output_type": "execute_result",
          "data": {
            "text/plain": [
              "<matplotlib.axes._subplots.AxesSubplot at 0x7f190d5cd2e8>"
            ]
          },
          "metadata": {
            "tags": []
          },
          "execution_count": 146
        },
        {
          "output_type": "display_data",
          "data": {
            "image/png": "[encoded data removed]",
            "text/plain": [
              "<Figure size 432x288 with 1 Axes>"
            ]
          },
          "metadata": {
            "tags": [],
            "needs_background": "light"
          }
        }
      ]
    },
    {
      "cell_type": "code",
      "metadata": {
        "id": "mPL05X4-Jum0",
        "outputId": "439f082b-7c60-4eac-acd4-77618a0f37c3",
        "colab": {
          "base_uri": "https://localhost:8080/",
          "height": 296
        }
      },
      "source": [
        "# df = pd.read_sql_query(\"select country, sum(purchases) as sum  from payments where os='android'  group by country order by purchases desc ;\", conn)\n",
        "# df.plot(kind='line',x='country',y='sum')"
      ],
      "execution_count": null,
      "outputs": [
        {
          "output_type": "execute_result",
          "data": {
            "text/plain": [
              "<matplotlib.axes._subplots.AxesSubplot at 0x7f190e567278>"
            ]
          },
          "metadata": {
            "tags": []
          },
          "execution_count": 151
        },
        {
          "output_type": "display_data",
          "data": {
            "image/png": "[encoded data removed]",
            "text/plain": [
              "<Figure size 432x288 with 1 Axes>"
            ]
          },
          "metadata": {
            "tags": [],
            "needs_background": "light"
          }
        }
      ]
    },
    {
      "cell_type": "code",
      "metadata": {
        "id": "9UoGsqc8ECqM",
        "outputId": "f14efd7e-2124-4f66-f5ed-385c269efa5d",
        "colab": {
          "base_uri": "https://localhost:8080/",
          "height": 296
        }
      },
      "source": [
        "# df = pd.read_sql_query(\"select country, sum(installs) as sum from spent where os='android'  group by country order by installs desc ;\", conn)\n",
        "# df.plot(kind='line',x='country',y='sum')"
      ],
      "execution_count": null,
      "outputs": [
        {
          "output_type": "execute_result",
          "data": {
            "text/plain": [
              "<matplotlib.axes._subplots.AxesSubplot at 0x7f190c545e48>"
            ]
          },
          "metadata": {
            "tags": []
          },
          "execution_count": 141
        },
        {
          "output_type": "display_data",
          "data": {
            "image/png": "[encoded data removed]",
            "text/plain": [
              "<Figure size 432x288 with 1 Axes>"
            ]
          },
          "metadata": {
            "tags": [],
            "needs_background": "light"
          }
        }
      ]
    },
    {
      "cell_type": "markdown",
      "metadata": {
        "id": "8vNeQ4X1mMAR"
      },
      "source": [
        "Задание 3"
      ]
    },
    {
      "cell_type": "markdown",
      "metadata": {
        "id": "wZj0tbST-hyk"
      },
      "source": [
        "\n",
        "В целом наблюдается положительная динамика Исходите из предположения о том, что норма roas_28d = 1.2, показатели показывают, в среднем roas_28d показывает значения 1.9538 для android и 1.28670 для ios,  воронку конверсий от impression до конверсии в покупку примерно 2% \n",
        "Сегменты  аудитории android имеют хорошие показатели,   monthly average purchases хороший учитывая затраты на пользователя, странах NL,CO, TN, PY, BR AE BH, процент пользователей делают покупки около 36%. В серой зоне страны где мало используют ios, это MY, SG, GR.. показатели purshase низкие и количество install также низкие, процент пользователей делают покупки около 17%, думаю для увеличиния обьема трафика, можно увеличить ставки, расширять закупки на новый страны, можно увеличит количество инсталов.\n",
        "Пологаю сегменты которые имеют количество inastalls меньше 1000, не будут иметь потребность в продукте, в основном это страны мало пользующие ios устройствами это MT,TO,GM.. общие количества installs меньше<1000\n",
        "\n"
      ]
    },
    {
      "cell_type": "code",
      "metadata": {
        "id": "O2UsJapKessn"
      },
      "source": [
        ""
      ],
      "execution_count": null,
      "outputs": []
    }
  ]
}