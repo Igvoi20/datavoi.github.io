{
  "nbformat": 4,
  "nbformat_minor": 0,
  "metadata": {
    "kernelspec": {
      "name": "python3",
      "display_name": "Python 3"
    },
    "language_info": {
      "codemirror_mode": {
        "name": "ipython",
        "version": 3
      },
      "file_extension": ".py",
      "mimetype": "text/x-python",
      "name": "python",
      "nbconvert_exporter": "python",
      "pygments_lexer": "ipython3",
      "version": "3.7.4"
    },
    "colab": {
      "name": "Data_Sc_Project1.ipynb",
      "provenance": [],
      "toc_visible": true,
      "include_colab_link": true
    }
  },
  "cells": [
    {
      "cell_type": "markdown",
      "metadata": {
        "id": "view-in-github",
        "colab_type": "text"
      },
      "source": [
        "<a href=\"https://colab.research.google.com/github/igorvojnyak/datavojnyak.github.io/blob/master/Data_Sc_Project1.ipynb\" target=\"_parent\"><img src=\"https://colab.research.google.com/assets/colab-badge.svg\" alt=\"Open In Colab\"/></a>"
      ]
    },
    {
      "cell_type": "code",
      "metadata": {
        "id": "Ukr3E42oPmPt",
        "colab_type": "code",
        "colab": {}
      },
      "source": [
        "import matplotlib\n",
        "import pandas as pd\n",
        "import matplotlib.pyplot as plt\n",
        "import seaborn as sns\n",
        "import statsmodels.api as sm\n",
        "%matplotlib inline\n",
        "from sklearn.model_selection import train_test_split\n",
        "from sklearn.feature_selection import RFE\n",
        "from sklearn.linear_model import RidgeCV, LassoCV, Ridge, Lasso\n",
        "from sklearn.linear_model import LinearRegression\n",
        "from sklearn.ensemble import RandomForestRegressor, GradientBoostingRegressor\n",
        "from sklearn.svm import SVR\n",
        "from sklearn.metrics import mean_absolute_error\n",
        "from sklearn.linear_model import Lasso\n",
        "from sklearn.linear_model import LinearRegression\n",
        "from sklearn.linear_model import Ridge\n",
        "from sklearn.linear_model import ElasticNet\n",
        "from sklearn.neighbors import KNeighborsRegressor\n",
        "from sklearn.svm import SVR\n",
        "from sklearn.ensemble import RandomForestRegressor\n",
        "from sklearn.ensemble import GradientBoostingRegressor\n",
        "from sklearn.ensemble import AdaBoostRegressor\n",
        "from sklearn.tree import DecisionTreeRegressor\n",
        "from xgboost import XGBRegressor\n",
        "from sklearn.neighbors import KNeighborsRegressor\n",
        "from sklearn.linear_model import LogisticRegression\n",
        "#from sklearn.impute import KNNImputer\n",
        "from sklearn.model_selection import cross_val_score\n",
        "from sklearn.preprocessing import StandardScaler\n",
        "from sklearn import preprocessing\n",
        "import scipy.stats as st\n",
        "from sklearn.preprocessing import MinMaxScaler\n",
        "from sklearn.pipeline import Pipeline\n",
        "from sklearn.impute import SimpleImputer\n",
        "from sklearn.feature_selection import RFE\n",
        "from sklearn.model_selection import RandomizedSearchCV\n",
        "from sklearn.linear_model import LogisticRegression\n",
        "from sklearn.feature_selection import SelectKBest\n",
        "from sklearn.feature_selection import chi2\n",
        "from datetime import date, timedelta\n",
        "from sklearn.impute import SimpleImputer\n",
        "from sklearn.model_selection import GridSearchCV\n",
        "from sklearn.metrics import mean_squared_log_error\n",
        "from sklearn.metrics import mean_squared_error\n",
        "import numpy as np\n",
        "import pandas as pd "
      ],
      "execution_count": 0,
      "outputs": []
    },
    {
      "cell_type": "code",
      "metadata": {
        "id": "KYdy9VTvPmPy",
        "colab_type": "code",
        "colab": {}
      },
      "source": [
        "# Read in data into a dataframe\n",
        "train_features = pd.read_csv(\"train_priceSale.csv\",comment='#')"
      ],
      "execution_count": 0,
      "outputs": []
    },
    {
      "cell_type": "code",
      "metadata": {
        "id": "SXG7dd6SPmP5",
        "colab_type": "code",
        "colab": {
          "base_uri": "https://localhost:8080/",
          "height": 1000
        },
        "outputId": "e9d60e7a-8264-4276-c07d-b588976eb02f"
      },
      "source": [
        "# Display dataframe\n",
        "train_features.info()"
      ],
      "execution_count": 3,
      "outputs": [
        {
          "output_type": "stream",
          "text": [
            "<class 'pandas.core.frame.DataFrame'>\n",
            "RangeIndex: 1460 entries, 0 to 1459\n",
            "Data columns (total 81 columns):\n",
            "Id               1460 non-null int64\n",
            "MSSubClass       1460 non-null int64\n",
            "MSZoning         1460 non-null object\n",
            "LotFrontage      1201 non-null float64\n",
            "LotArea          1460 non-null int64\n",
            "Street           1460 non-null object\n",
            "Alley            91 non-null object\n",
            "LotShape         1460 non-null object\n",
            "LandContour      1460 non-null object\n",
            "Utilities        1460 non-null object\n",
            "LotConfig        1460 non-null object\n",
            "LandSlope        1460 non-null object\n",
            "Neighborhood     1460 non-null object\n",
            "Condition1       1460 non-null object\n",
            "Condition2       1460 non-null object\n",
            "BldgType         1460 non-null object\n",
            "HouseStyle       1460 non-null object\n",
            "OverallQual      1460 non-null int64\n",
            "OverallCond      1460 non-null int64\n",
            "YearBuilt        1460 non-null int64\n",
            "YearRemodAdd     1460 non-null int64\n",
            "RoofStyle        1460 non-null object\n",
            "RoofMatl         1460 non-null object\n",
            "Exterior1st      1460 non-null object\n",
            "Exterior2nd      1460 non-null object\n",
            "MasVnrType       1452 non-null object\n",
            "MasVnrArea       1452 non-null float64\n",
            "ExterQual        1460 non-null object\n",
            "ExterCond        1460 non-null object\n",
            "Foundation       1460 non-null object\n",
            "BsmtQual         1423 non-null object\n",
            "BsmtCond         1423 non-null object\n",
            "BsmtExposure     1422 non-null object\n",
            "BsmtFinType1     1423 non-null object\n",
            "BsmtFinSF1       1460 non-null int64\n",
            "BsmtFinType2     1422 non-null object\n",
            "BsmtFinSF2       1460 non-null int64\n",
            "BsmtUnfSF        1460 non-null int64\n",
            "TotalBsmtSF      1460 non-null int64\n",
            "Heating          1460 non-null object\n",
            "HeatingQC        1460 non-null object\n",
            "CentralAir       1460 non-null object\n",
            "Electrical       1459 non-null object\n",
            "1stFlrSF         1460 non-null int64\n",
            "2ndFlrSF         1460 non-null int64\n",
            "LowQualFinSF     1460 non-null int64\n",
            "GrLivArea        1460 non-null int64\n",
            "BsmtFullBath     1460 non-null int64\n",
            "BsmtHalfBath     1460 non-null int64\n",
            "FullBath         1460 non-null int64\n",
            "HalfBath         1460 non-null int64\n",
            "BedroomAbvGr     1460 non-null int64\n",
            "KitchenAbvGr     1460 non-null int64\n",
            "KitchenQual      1460 non-null object\n",
            "TotRmsAbvGrd     1460 non-null int64\n",
            "Functional       1460 non-null object\n",
            "Fireplaces       1460 non-null int64\n",
            "FireplaceQu      770 non-null object\n",
            "GarageType       1379 non-null object\n",
            "GarageYrBlt      1379 non-null float64\n",
            "GarageFinish     1379 non-null object\n",
            "GarageCars       1460 non-null int64\n",
            "GarageArea       1460 non-null int64\n",
            "GarageQual       1379 non-null object\n",
            "GarageCond       1379 non-null object\n",
            "PavedDrive       1460 non-null object\n",
            "WoodDeckSF       1460 non-null int64\n",
            "OpenPorchSF      1460 non-null int64\n",
            "EnclosedPorch    1460 non-null int64\n",
            "3SsnPorch        1460 non-null int64\n",
            "ScreenPorch      1460 non-null int64\n",
            "PoolArea         1460 non-null int64\n",
            "PoolQC           7 non-null object\n",
            "Fence            281 non-null object\n",
            "MiscFeature      54 non-null object\n",
            "MiscVal          1460 non-null int64\n",
            "MoSold           1460 non-null int64\n",
            "YrSold           1460 non-null int64\n",
            "SaleType         1460 non-null object\n",
            "SaleCondition    1460 non-null object\n",
            "SalePrice        1460 non-null int64\n",
            "dtypes: float64(3), int64(35), object(43)\n",
            "memory usage: 924.0+ KB\n"
          ],
          "name": "stdout"
        }
      ]
    },
    {
      "cell_type": "code",
      "metadata": {
        "id": "46X4Dz76PmP9",
        "colab_type": "code",
        "colab": {}
      },
      "source": [
        "# Replace all occurrences of Not Available with numpy not a number\n",
        "train_features = train_features.replace({'Not Available': np.nan})"
      ],
      "execution_count": 0,
      "outputs": []
    },
    {
      "cell_type": "code",
      "metadata": {
        "id": "y8UcJ-DLPmQA",
        "colab_type": "code",
        "colab": {}
      },
      "source": [
        "# Function to calculate missing values by column\n",
        "def missing_values_table(df):\n",
        "        # Total missing values\n",
        "        mis_val = df.isnull().sum()\n",
        "        \n",
        "        # Percentage of missing values\n",
        "        mis_val_percent = 100 * df.isnull().sum() / len(df)\n",
        "        \n",
        "        # Make a table with the results\n",
        "        mis_val_table = pd.concat([mis_val, mis_val_percent], axis=1)\n",
        "        \n",
        "        # Rename the columns\n",
        "        mis_val_table_ren_columns = mis_val_table.rename(\n",
        "        columns = {0 : 'Missing Values', 1 : '% of Total Values'})\n",
        "        \n",
        "        # Sort the table by percentage of missing descending\n",
        "        mis_val_table_ren_columns = mis_val_table_ren_columns[\n",
        "            mis_val_table_ren_columns.iloc[:,1] != 0].sort_values(\n",
        "        '% of Total Values', ascending=False).round(1)\n",
        "        \n",
        "        # Print some summary information\n",
        "        print (\"Your selected dataframe has \" + str(df.shape[1]) + \" columns.\\n\"      \n",
        "            \"There are \" + str(mis_val_table_ren_columns.shape[0]) +\n",
        "              \" columns that have missing values %.\")\n",
        "        \n",
        "        # Return the dataframe with missing information\n",
        "        return mis_val_table_ren_columns"
      ],
      "execution_count": 0,
      "outputs": []
    },
    {
      "cell_type": "code",
      "metadata": {
        "id": "uaGTq6AiPmQE",
        "colab_type": "code",
        "colab": {
          "base_uri": "https://localhost:8080/",
          "height": 544
        },
        "outputId": "b8db6ea9-511a-4531-f690-6a9cb14026c0"
      },
      "source": [
        "missing_values_table(train_features).head(15)"
      ],
      "execution_count": 6,
      "outputs": [
        {
          "output_type": "stream",
          "text": [
            "Your selected dataframe has 81 columns.\n",
            "There are 19 columns that have missing values %.\n"
          ],
          "name": "stdout"
        },
        {
          "output_type": "execute_result",
          "data": {
            "text/html": [
              "<div>\n",
              "<style scoped>\n",
              "    .dataframe tbody tr th:only-of-type {\n",
              "        vertical-align: middle;\n",
              "    }\n",
              "\n",
              "    .dataframe tbody tr th {\n",
              "        vertical-align: top;\n",
              "    }\n",
              "\n",
              "    .dataframe thead th {\n",
              "        text-align: right;\n",
              "    }\n",
              "</style>\n",
              "<table border=\"1\" class=\"dataframe\">\n",
              "  <thead>\n",
              "    <tr style=\"text-align: right;\">\n",
              "      <th></th>\n",
              "      <th>Missing Values</th>\n",
              "      <th>% of Total Values</th>\n",
              "    </tr>\n",
              "  </thead>\n",
              "  <tbody>\n",
              "    <tr>\n",
              "      <th>PoolQC</th>\n",
              "      <td>1453</td>\n",
              "      <td>99.5</td>\n",
              "    </tr>\n",
              "    <tr>\n",
              "      <th>MiscFeature</th>\n",
              "      <td>1406</td>\n",
              "      <td>96.3</td>\n",
              "    </tr>\n",
              "    <tr>\n",
              "      <th>Alley</th>\n",
              "      <td>1369</td>\n",
              "      <td>93.8</td>\n",
              "    </tr>\n",
              "    <tr>\n",
              "      <th>Fence</th>\n",
              "      <td>1179</td>\n",
              "      <td>80.8</td>\n",
              "    </tr>\n",
              "    <tr>\n",
              "      <th>FireplaceQu</th>\n",
              "      <td>690</td>\n",
              "      <td>47.3</td>\n",
              "    </tr>\n",
              "    <tr>\n",
              "      <th>LotFrontage</th>\n",
              "      <td>259</td>\n",
              "      <td>17.7</td>\n",
              "    </tr>\n",
              "    <tr>\n",
              "      <th>GarageType</th>\n",
              "      <td>81</td>\n",
              "      <td>5.5</td>\n",
              "    </tr>\n",
              "    <tr>\n",
              "      <th>GarageYrBlt</th>\n",
              "      <td>81</td>\n",
              "      <td>5.5</td>\n",
              "    </tr>\n",
              "    <tr>\n",
              "      <th>GarageFinish</th>\n",
              "      <td>81</td>\n",
              "      <td>5.5</td>\n",
              "    </tr>\n",
              "    <tr>\n",
              "      <th>GarageQual</th>\n",
              "      <td>81</td>\n",
              "      <td>5.5</td>\n",
              "    </tr>\n",
              "    <tr>\n",
              "      <th>GarageCond</th>\n",
              "      <td>81</td>\n",
              "      <td>5.5</td>\n",
              "    </tr>\n",
              "    <tr>\n",
              "      <th>BsmtExposure</th>\n",
              "      <td>38</td>\n",
              "      <td>2.6</td>\n",
              "    </tr>\n",
              "    <tr>\n",
              "      <th>BsmtFinType2</th>\n",
              "      <td>38</td>\n",
              "      <td>2.6</td>\n",
              "    </tr>\n",
              "    <tr>\n",
              "      <th>BsmtFinType1</th>\n",
              "      <td>37</td>\n",
              "      <td>2.5</td>\n",
              "    </tr>\n",
              "    <tr>\n",
              "      <th>BsmtCond</th>\n",
              "      <td>37</td>\n",
              "      <td>2.5</td>\n",
              "    </tr>\n",
              "  </tbody>\n",
              "</table>\n",
              "</div>"
            ],
            "text/plain": [
              "              Missing Values  % of Total Values\n",
              "PoolQC                  1453               99.5\n",
              "MiscFeature             1406               96.3\n",
              "Alley                   1369               93.8\n",
              "Fence                   1179               80.8\n",
              "FireplaceQu              690               47.3\n",
              "LotFrontage              259               17.7\n",
              "GarageType                81                5.5\n",
              "GarageYrBlt               81                5.5\n",
              "GarageFinish              81                5.5\n",
              "GarageQual                81                5.5\n",
              "GarageCond                81                5.5\n",
              "BsmtExposure              38                2.6\n",
              "BsmtFinType2              38                2.6\n",
              "BsmtFinType1              37                2.5\n",
              "BsmtCond                  37                2.5"
            ]
          },
          "metadata": {
            "tags": []
          },
          "execution_count": 6
        }
      ]
    },
    {
      "cell_type": "code",
      "metadata": {
        "id": "75Psn3hfPmQH",
        "colab_type": "code",
        "colab": {
          "base_uri": "https://localhost:8080/",
          "height": 69
        },
        "outputId": "241722cb-ab04-4d4a-b522-80ff58e1cbea"
      },
      "source": [
        "# # Get the columns with > 60% missing\n",
        "missing_df = missing_values_table(train_features.drop(columns='SalePrice', axis=1));\n",
        "missing_columns = list(missing_df[missing_df['% of Total Values'] > 60].index)\n",
        "print('We will remove %d columns.' % len(missing_columns))"
      ],
      "execution_count": 7,
      "outputs": [
        {
          "output_type": "stream",
          "text": [
            "Your selected dataframe has 80 columns.\n",
            "There are 19 columns that have missing values %.\n",
            "We will remove 5 columns.\n"
          ],
          "name": "stdout"
        }
      ]
    },
    {
      "cell_type": "code",
      "metadata": {
        "id": "gMRNepUCPmQK",
        "colab_type": "code",
        "colab": {}
      },
      "source": [
        "# Drop the columns with > 60% missing\n",
        "train_features = train_features.drop(columns = list(missing_columns))"
      ],
      "execution_count": 0,
      "outputs": []
    },
    {
      "cell_type": "code",
      "metadata": {
        "id": "5_BlJ6eFPmQN",
        "colab_type": "code",
        "colab": {
          "base_uri": "https://localhost:8080/",
          "height": 312
        },
        "outputId": "fffd768a-d5c8-42a2-e40b-78891bcfadf9"
      },
      "source": [
        "train_features.columns"
      ],
      "execution_count": 9,
      "outputs": [
        {
          "output_type": "execute_result",
          "data": {
            "text/plain": [
              "Index(['Id', 'MSSubClass', 'MSZoning', 'LotFrontage', 'LotArea', 'Street',\n",
              "       'LotShape', 'LandContour', 'Utilities', 'LotConfig', 'LandSlope',\n",
              "       'Neighborhood', 'Condition1', 'Condition2', 'BldgType', 'HouseStyle',\n",
              "       'OverallQual', 'OverallCond', 'YearBuilt', 'YearRemodAdd', 'RoofStyle',\n",
              "       'RoofMatl', 'Exterior1st', 'Exterior2nd', 'MasVnrType', 'MasVnrArea',\n",
              "       'ExterQual', 'ExterCond', 'Foundation', 'BsmtQual', 'BsmtCond',\n",
              "       'BsmtExposure', 'BsmtFinType1', 'BsmtFinSF1', 'BsmtFinType2',\n",
              "       'BsmtFinSF2', 'BsmtUnfSF', 'TotalBsmtSF', 'Heating', 'HeatingQC',\n",
              "       'CentralAir', 'Electrical', '1stFlrSF', '2ndFlrSF', 'LowQualFinSF',\n",
              "       'GrLivArea', 'BsmtFullBath', 'BsmtHalfBath', 'FullBath', 'HalfBath',\n",
              "       'BedroomAbvGr', 'KitchenAbvGr', 'KitchenQual', 'TotRmsAbvGrd',\n",
              "       'Functional', 'Fireplaces', 'GarageType', 'GarageYrBlt', 'GarageFinish',\n",
              "       'GarageCars', 'GarageArea', 'GarageQual', 'GarageCond', 'PavedDrive',\n",
              "       'WoodDeckSF', 'OpenPorchSF', 'EnclosedPorch', '3SsnPorch',\n",
              "       'ScreenPorch', 'PoolArea', 'MiscVal', 'MoSold', 'YrSold', 'SaleType',\n",
              "       'SaleCondition', 'SalePrice'],\n",
              "      dtype='object')"
            ]
          },
          "metadata": {
            "tags": []
          },
          "execution_count": 9
        }
      ]
    },
    {
      "cell_type": "code",
      "metadata": {
        "id": "icThoQM1PmQS",
        "colab_type": "code",
        "colab": {
          "base_uri": "https://localhost:8080/",
          "height": 898
        },
        "outputId": "12fba110-56e2-4622-dbea-ece80e018963"
      },
      "source": [
        "#Dealing with outliers\n",
        "fig = plt.figure(figsize=(15,15))\n",
        "ax1 = plt.subplot2grid((3,2),(0,0))\n",
        "plt.scatter(x=train_features['GrLivArea'], y=train_features['SalePrice'], color=('yellowgreen'), alpha=0.5)\n",
        "plt.axvline(x=4600, color='r', linestyle='-')\n",
        "plt.title('Ground living Area- Price scatter plot', fontsize=15, weight='bold' )\n",
        "\n",
        "ax1 = plt.subplot2grid((3,2),(0,1))\n",
        "plt.scatter(x=train_features['TotalBsmtSF'], y=train_features['SalePrice'], color=('red'),alpha=0.5)\n",
        "plt.axvline(x=5900, color='r', linestyle='-')\n",
        "plt.title('Basement Area - Price scatter plot', fontsize=15, weight='bold' )\n",
        "\n",
        "ax1 = plt.subplot2grid((3,2),(1,0))\n",
        "plt.scatter(x=train_features['1stFlrSF'], y=train_features['SalePrice'], color=('deepskyblue'),alpha=0.5)\n",
        "plt.axvline(x=4000, color='r', linestyle='-')\n",
        "plt.title('First floor Area - Price scatter plot', fontsize=15, weight='bold' )\n",
        "\n",
        "ax1 = plt.subplot2grid((3,2),(1,1))\n",
        "plt.scatter(x=train_features['MasVnrArea'], y=train_features['SalePrice'], color=('gold'),alpha=0.9)\n",
        "plt.axvline(x=1500, color='r', linestyle='-')\n",
        "plt.title('Masonry veneer Area - Price scatter plot', fontsize=15, weight='bold' )\n",
        "\n",
        "ax1 = plt.subplot2grid((3,2),(2,0))\n",
        "plt.scatter(x=train_features['GarageArea'], y=train_features['SalePrice'], color=('orchid'),alpha=0.5)\n",
        "plt.axvline(x=1230, color='r', linestyle='-')\n",
        "plt.title('Garage Area - Price scatter plot', fontsize=15, weight='bold' )\n",
        "\n",
        "ax1 = plt.subplot2grid((3,2),(2,1))\n",
        "plt.scatter(x=train_features['TotRmsAbvGrd'], y=train_features['SalePrice'], color=('tan'),alpha=0.9)\n",
        "plt.axvline(x=13, color='r', linestyle='-')\n",
        "plt.title('TotRmsAbvGrd - Price scatter plot', fontsize=15, weight='bold' )"
      ],
      "execution_count": 10,
      "outputs": [
        {
          "output_type": "execute_result",
          "data": {
            "text/plain": [
              "Text(0.5, 1.0, 'TotRmsAbvGrd - Price scatter plot')"
            ]
          },
          "metadata": {
            "tags": []
          },
          "execution_count": 10
        },
        {
          "output_type": "display_data",
          "data": {
            "image/png": "[encoded data removed]",
            "text/plain": [
              "<Figure size 1080x1080 with 6 Axes>"
            ]
          },
          "metadata": {
            "tags": []
          }
        }
      ]
    },
    {
      "cell_type": "code",
      "metadata": {
        "id": "M3LmVFmyPmQV",
        "colab_type": "code",
        "colab": {}
      },
      "source": [
        "# Calculate first and third quartile\n",
        "Q1 = train_features.quantile(0.25)\n",
        "Q3 = train_features.quantile(0.75)\n",
        "IQR = Q3 - Q1\n",
        "# Remove outliers\n",
        "train_features = train_features[(train_features[:] > (Q1-3*IQR)) &\n",
        "                                (train_features[(train_features[:] < (Q3+3*IQR))])]"
      ],
      "execution_count": 0,
      "outputs": []
    },
    {
      "cell_type": "code",
      "metadata": {
        "id": "C25t9wVePmQY",
        "colab_type": "code",
        "colab": {
          "base_uri": "https://localhost:8080/",
          "height": 173
        },
        "outputId": "31c3aedf-e4f6-4000-d728-4dd31a08ef9e"
      },
      "source": [
        "train_features['SalePrice'].describe()"
      ],
      "execution_count": 12,
      "outputs": [
        {
          "output_type": "execute_result",
          "data": {
            "text/plain": [
              "count      1448.000000\n",
              "mean     177657.070442\n",
              "std       70678.078392\n",
              "min       34900.000000\n",
              "25%      129900.000000\n",
              "50%      162000.000000\n",
              "75%      212925.000000\n",
              "max      465000.000000\n",
              "Name: SalePrice, dtype: float64"
            ]
          },
          "metadata": {
            "tags": []
          },
          "execution_count": 12
        }
      ]
    },
    {
      "cell_type": "code",
      "metadata": {
        "id": "vIvHlCfiPmQb",
        "colab_type": "code",
        "colab": {}
      },
      "source": [
        "numeric_subset = train_features.select_dtypes('number')\n",
        "categorical_subset = train_features[['MSZoning', 'Street', 'LotShape', 'LandContour', 'Utilities',\n",
        "       'LotConfig', 'LandSlope', 'Neighborhood', 'Condition1', 'Condition2',\n",
        "       'BldgType', 'HouseStyle', 'RoofStyle', 'RoofMatl', 'Exterior1st',\n",
        "       'Exterior2nd', 'MasVnrType', 'ExterQual', 'ExterCond', 'Foundation',\n",
        "       'BsmtQual', 'BsmtCond', 'BsmtExposure', 'BsmtFinType1', 'BsmtFinType2',\n",
        "       'Heating', 'HeatingQC', 'CentralAir', 'Electrical', 'KitchenQual',\n",
        "       'Functional', 'GarageType', 'GarageFinish', 'GarageQual', 'GarageCond',\n",
        "       'PavedDrive', 'SaleType', 'SaleCondition']]\n",
        "categorical_subset = pd.get_dummies(categorical_subset)\n",
        "features = pd.concat([numeric_subset, categorical_subset], axis = 1)"
      ],
      "execution_count": 0,
      "outputs": []
    },
    {
      "cell_type": "code",
      "metadata": {
        "id": "eiK8MrExPmQe",
        "colab_type": "code",
        "colab": {}
      },
      "source": [
        "# select only numeric features\n",
        "num=features.select_dtypes(exclude='object')"
      ],
      "execution_count": 0,
      "outputs": []
    },
    {
      "cell_type": "code",
      "metadata": {
        "id": "wkLs-bioPmQh",
        "colab_type": "code",
        "colab": {
          "base_uri": "https://localhost:8080/",
          "height": 678
        },
        "outputId": "70b412e4-b2d9-4d3a-dd87-d1a93709e9bf"
      },
      "source": [
        "# correlations between features\n",
        "transformed_corr = num.corr()\n",
        "plt.figure(figsize=(12,10))\n",
        "sns.heatmap(transformed_corr)"
      ],
      "execution_count": 15,
      "outputs": [
        {
          "output_type": "execute_result",
          "data": {
            "text/plain": [
              "<matplotlib.axes._subplots.AxesSubplot at 0x7f569194f278>"
            ]
          },
          "metadata": {
            "tags": []
          },
          "execution_count": 15
        },
        {
          "output_type": "display_data",
          "data": {
            "image/png": "[encoded data removed]",
            "text/plain": [
              "<Figure size 864x720 with 2 Axes>"
            ]
          },
          "metadata": {
            "tags": []
          }
        }
      ]
    },
    {
      "cell_type": "code",
      "metadata": {
        "id": "OFNY28A5PmQl",
        "colab_type": "code",
        "colab": {}
      },
      "source": [
        "corr_matrix =(features.drop(columns = ['SalePrice'])).corr().abs()\n",
        "# Select upper triangle of correlation matrix\n",
        "upper = corr_matrix.where(np.triu(np.ones(corr_matrix.shape), k=1).astype(np.bool))\n",
        "\n",
        "# Find index of feature columns with correlation greater than 0.6\n",
        "to_drop = [column for column in upper.columns if any(upper[column] > 0.6)]"
      ],
      "execution_count": 0,
      "outputs": []
    },
    {
      "cell_type": "code",
      "metadata": {
        "id": "wVqwFsQiPmQn",
        "colab_type": "code",
        "colab": {
          "base_uri": "https://localhost:8080/",
          "height": 208
        },
        "outputId": "c5721a10-40c5-4369-a25c-87ee323ade7d"
      },
      "source": [
        "to_drop"
      ],
      "execution_count": 17,
      "outputs": [
        {
          "output_type": "execute_result",
          "data": {
            "text/plain": [
              "['LotArea',\n",
              " 'YearBuilt',\n",
              " 'YearRemodAdd',\n",
              " '1stFlrSF',\n",
              " '2ndFlrSF',\n",
              " 'GrLivArea',\n",
              " 'FullBath',\n",
              " 'TotRmsAbvGrd',\n",
              " 'GarageYrBlt',\n",
              " 'GarageCars',\n",
              " 'GarageArea']"
            ]
          },
          "metadata": {
            "tags": []
          },
          "execution_count": 17
        }
      ]
    },
    {
      "cell_type": "code",
      "metadata": {
        "id": "SpR4mYIRPmQq",
        "colab_type": "code",
        "colab": {
          "base_uri": "https://localhost:8080/",
          "height": 34
        },
        "outputId": "8c65fafb-0707-4f08-b41a-a3460b6ce763"
      },
      "source": [
        "# removing columns with correlation greater than 0.6\n",
        "features=features.drop(features[to_drop], axis=1)\n",
        "features.shape"
      ],
      "execution_count": 18,
      "outputs": [
        {
          "output_type": "execute_result",
          "data": {
            "text/plain": [
              "(1460, 27)"
            ]
          },
          "metadata": {
            "tags": []
          },
          "execution_count": 18
        }
      ]
    },
    {
      "cell_type": "code",
      "metadata": {
        "id": "wfphFKExPmQt",
        "colab_type": "code",
        "colab": {
          "base_uri": "https://localhost:8080/",
          "height": 294
        },
        "outputId": "a33bfee9-60f9-4536-ac9d-620fa8f422cd"
      },
      "source": [
        "# Distribution of SalePrice\n",
        "target = (features['SalePrice'].fillna(method = 'ffill'))\n",
        "plt.figure()\n",
        "sns.distplot(target)\n",
        "plt.title('Distribution of SalePrice')\n",
        "plt.show()"
      ],
      "execution_count": 19,
      "outputs": [
        {
          "output_type": "display_data",
          "data": {
            "image/png": "[encoded data removed]",
            "text/plain": [
              "<Figure size 432x288 with 1 Axes>"
            ]
          },
          "metadata": {
            "tags": []
          }
        }
      ]
    },
    {
      "cell_type": "code",
      "metadata": {
        "id": "XJh2FjEfPmQw",
        "colab_type": "code",
        "colab": {}
      },
      "source": [
        "# log transformation SalePrice\n",
        "features['SalePrice'] = np.log1p(features['SalePrice'])\n",
        "features = features.rename(columns={'SalePrice': 'SalePrice_log'})"
      ],
      "execution_count": 0,
      "outputs": []
    },
    {
      "cell_type": "code",
      "metadata": {
        "scrolled": true,
        "id": "pr9H5_aYPmQ1",
        "colab_type": "code",
        "colab": {
          "base_uri": "https://localhost:8080/",
          "height": 296
        },
        "outputId": "618db4a2-609e-4265-b6e3-83da13bf8551"
      },
      "source": [
        "# skew and Distribution log transformation SalePrice\n",
        "target = (features['SalePrice_log'].fillna(method = 'ffill'))\n",
        "plt.figure()\n",
        "sns.distplot(target)\n",
        "plt.title('Distribution of SalePrice_log')\n",
        "plt.show()"
      ],
      "execution_count": 21,
      "outputs": [
        {
          "output_type": "display_data",
          "data": {
            "image/png": "[encoded data removed]",
            "text/plain": [
              "<Figure size 432x288 with 1 Axes>"
            ]
          },
          "metadata": {
            "tags": []
          }
        }
      ]
    },
    {
      "cell_type": "code",
      "metadata": {
        "id": "NidTIwTgPmQ4",
        "colab_type": "code",
        "colab": {
          "base_uri": "https://localhost:8080/",
          "height": 34
        },
        "outputId": "c57878c7-98fc-4248-a9fb-f1ed14212595"
      },
      "source": [
        "print('median_house_value has a skew of ' + str(target.skew().round(decimals=2)) + \n",
        "      ' while the log-transformed improves the skew to ' + \n",
        "      str(np.log(target).skew().round(decimals=2)))"
      ],
      "execution_count": 22,
      "outputs": [
        {
          "output_type": "stream",
          "text": [
            "median_house_value has a skew of -0.06 while the log-transformed improves the skew to -0.18\n"
          ],
          "name": "stdout"
        }
      ]
    },
    {
      "cell_type": "code",
      "metadata": {
        "id": "Itv-YCyzPmQ7",
        "colab_type": "code",
        "colab": {}
      },
      "source": [
        "#Split into training and testing sets\n",
        "X = features.drop(columns='SalePrice_log', axis=1)\n",
        "\n",
        "# Create target object and call it y\n",
        "y =pd.DataFrame(features['SalePrice_log'].fillna(method = 'ffill'))\n",
        "\n",
        "# One-hot-encoding to transform all categorical data\n",
        "X = pd.get_dummies(X)\n",
        "\n",
        "# Split into validation and training data\n",
        "train_X, val_X, train_y, val_y = train_test_split(X, y, random_state=1)"
      ],
      "execution_count": 0,
      "outputs": []
    },
    {
      "cell_type": "code",
      "metadata": {
        "id": "Py0Q_phqPmQ-",
        "colab_type": "code",
        "colab": {
          "base_uri": "https://localhost:8080/",
          "height": 86
        },
        "outputId": "1963b607-9d7e-47eb-a979-02dfb32a8899"
      },
      "source": [
        "print(train_X.shape)\n",
        "print(val_X.shape)\n",
        "print(train_y.shape)\n",
        "print(val_y.shape)"
      ],
      "execution_count": 24,
      "outputs": [
        {
          "output_type": "stream",
          "text": [
            "(1095, 26)\n",
            "(365, 26)\n",
            "(1095, 1)\n",
            "(365, 1)\n"
          ],
          "name": "stdout"
        }
      ]
    },
    {
      "cell_type": "code",
      "metadata": {
        "id": "rOIMsy_APmRB",
        "colab_type": "code",
        "colab": {}
      },
      "source": [
        "# Final imputation of missing data with median \n",
        "my_imputer = SimpleImputer(strategy='median')\n",
        "train_X = my_imputer.fit_transform(train_X)\n",
        "val_X = my_imputer.transform(val_X)"
      ],
      "execution_count": 0,
      "outputs": []
    },
    {
      "cell_type": "code",
      "metadata": {
        "id": "nTkt_90kPmRD",
        "colab_type": "code",
        "colab": {
          "base_uri": "https://localhost:8080/",
          "height": 52
        },
        "outputId": "317c4ee6-a8b1-42d9-a01c-9ad42a1c4683"
      },
      "source": [
        "print('Missing values in training features: ', np.sum(np.isnan(train_X)))\n",
        "print('Missing values in testing features:  ', np.sum(np.isnan(val_X)))"
      ],
      "execution_count": 26,
      "outputs": [
        {
          "output_type": "stream",
          "text": [
            "Missing values in training features:  0\n",
            "Missing values in testing features:   0\n"
          ],
          "name": "stdout"
        }
      ]
    },
    {
      "cell_type": "code",
      "metadata": {
        "id": "dlwd5WxqPmRG",
        "colab_type": "code",
        "colab": {
          "base_uri": "https://localhost:8080/",
          "height": 52
        },
        "outputId": "7cc4c781-ddb7-40a0-ede4-122643b2f789"
      },
      "source": [
        "train_y.isnull().sum()"
      ],
      "execution_count": 27,
      "outputs": [
        {
          "output_type": "execute_result",
          "data": {
            "text/plain": [
              "SalePrice_log    0\n",
              "dtype: int64"
            ]
          },
          "metadata": {
            "tags": []
          },
          "execution_count": 27
        }
      ]
    },
    {
      "cell_type": "code",
      "metadata": {
        "id": "LPQYOjznPmRI",
        "colab_type": "code",
        "colab": {
          "base_uri": "https://localhost:8080/",
          "height": 52
        },
        "outputId": "5a0d0f05-47da-4719-b5cf-d2e51629f177"
      },
      "source": [
        "# Make sure all values are finite\n",
        "print(np.where(~np.isfinite(train_X)))\n",
        "print(np.where(~np.isfinite(val_X)))"
      ],
      "execution_count": 28,
      "outputs": [
        {
          "output_type": "stream",
          "text": [
            "(array([], dtype=int64), array([], dtype=int64))\n",
            "(array([], dtype=int64), array([], dtype=int64))\n"
          ],
          "name": "stdout"
        }
      ]
    },
    {
      "cell_type": "code",
      "metadata": {
        "id": "3vsvoRDkPmRM",
        "colab_type": "code",
        "colab": {
          "base_uri": "https://localhost:8080/",
          "height": 416
        },
        "outputId": "0685d240-d586-4591-8c66-3f2c91351743"
      },
      "source": [
        "def inv_y(transformed_y):\n",
        "    return np.exp(transformed_y)\n",
        "#Models to Evaluate\n",
        "mae_compare = pd.Series()\n",
        "mae_compare.index.name = 'Algorithm'\n",
        "\n",
        "# Fit Model\n",
        "iowa_model = DecisionTreeRegressor(random_state=1)\n",
        "iowa_model.fit(train_X, train_y)\n",
        "val_predictions = iowa_model.predict(val_X)\n",
        "val_mae = mean_absolute_error(inv_y(val_predictions), inv_y(val_y))\n",
        "mae_compare['DecisionTree'] = val_mae\n",
        "\n",
        "\n",
        "# Decision Tree. Using best value for max_leaf_nodes \n",
        "iowa_model = DecisionTreeRegressor(max_leaf_nodes=90, random_state=1)\n",
        "iowa_model.fit(train_X, train_y)\n",
        "val_predictions = iowa_model.predict(val_X)\n",
        "val_mae = mean_absolute_error(inv_y(val_predictions), inv_y(val_y))\n",
        "mae_compare['DecisionTree_opt_max_leaf_nodes'] = val_mae\n",
        "\n",
        "\n",
        "# Random Forest. Define the model\n",
        "rf_model = RandomForestRegressor(random_state=5)\n",
        "rf_model.fit(train_X, train_y)\n",
        "rf_val_predictions = rf_model.predict(val_X)\n",
        "rf_val_mae = mean_absolute_error(inv_y(rf_val_predictions), inv_y(val_y))\n",
        "mae_compare['RandomForest'] = rf_val_mae\n",
        "\n",
        "\n",
        "# XGBoost. Define the model\n",
        "xgb_model = XGBRegressor()\n",
        "xgb_model.fit(train_X, train_y, early_stopping_rounds=5, \n",
        "              eval_set=[(val_X,val_y)], verbose=False)\n",
        "xgb_val_predictions = xgb_model.predict(val_X)\n",
        "xgb_val_mae = mean_absolute_error(inv_y(xgb_val_predictions), inv_y(val_y))\n",
        "mae_compare['XGBoost'] = xgb_val_mae\n",
        "\n",
        "\n",
        "# Linear Regression\n",
        "linear_model = LinearRegression()\n",
        "linear_model.fit(train_X, train_y)\n",
        "linear_val_predictions = linear_model.predict(val_X)\n",
        "linear_val_mae = mean_absolute_error(inv_y(linear_val_predictions), inv_y(val_y))\n",
        "mae_compare['LinearRegression'] = linear_val_mae\n",
        "\n",
        "\n",
        "#KNeighborsRegressor\n",
        "knn_model = KNeighborsRegressor(n_neighbors=10)\n",
        "knn_model.fit(train_X, train_y)\n",
        "knn_val_predictions = knn_model.predict(val_X)\n",
        "knn_val_mae = mean_absolute_error(inv_y(knn_val_predictions), inv_y(val_y))\n",
        "mae_compare['KNeighborsRegressor'] = knn_val_mae\n",
        "# print(\"Validation MAE for KNn Model: {:,.0f}\".format(knn_val_mae))\n",
        "\n",
        "# Lasso \n",
        "lasso_model = Lasso(alpha=0.0005, random_state=5)\n",
        "lasso_model.fit(train_X, train_y)\n",
        "lasso_val_predictions = lasso_model.predict(val_X)\n",
        "lasso_val_mae = mean_absolute_error(inv_y(lasso_val_predictions), inv_y(val_y))\n",
        "mae_compare['Lasso'] = lasso_val_mae\n",
        "\n",
        "\n",
        "# Ridge\n",
        "ridge_model = Ridge(alpha=0.002, random_state=5)\n",
        "ridge_model.fit(train_X, train_y)\n",
        "ridge_val_predictions = ridge_model.predict(val_X)\n",
        "ridge_val_mae = mean_absolute_error(inv_y(ridge_val_predictions), inv_y(val_y))\n",
        "mae_compare['Ridge'] = ridge_val_mae\n",
        "\n",
        "\n",
        "# ElasticNet\n",
        "elastic_net_model = ElasticNet(alpha=0.02, random_state=5, l1_ratio=0.7)\n",
        "elastic_net_model.fit(train_X, train_y)\n",
        "elastic_net_val_predictions = elastic_net_model.predict(val_X)\n",
        "elastic_net_val_mae = mean_absolute_error(inv_y(elastic_net_val_predictions), inv_y(val_y))\n",
        "mae_compare['ElasticNet'] = elastic_net_val_mae\n",
        "\n",
        "\n",
        "# Gradient Boosting Regression \n",
        "gbr_model = GradientBoostingRegressor(random_state=60)\n",
        "gbr_model.fit(train_X, train_y)\n",
        "gbr_val_predictions = gbr_model.predict(val_X)\n",
        "gbr_val_mae = mean_absolute_error(inv_y(gbr_val_predictions), inv_y(val_y))\n",
        "mae_compare['GradientBoosting'] = gbr_val_mae\n",
        "\n",
        "\n",
        "# # Ada Boost Regression \n",
        "ada_model = AdaBoostRegressor(n_estimators=300, learning_rate=0.05, random_state=5)\n",
        "ada_model.fit(train_X, train_y)\n",
        "ada_val_predictions = ada_model.predict(val_X)\n",
        "ada_val_mae = mean_absolute_error(inv_y(ada_val_predictions), inv_y(val_y))\n",
        "mae_compare['AdaBoost'] = ada_val_mae\n",
        ")\n",
        "\n",
        "# # Support Vector Regression \n",
        "svr_model = SVR(kernel='linear')\n",
        "svr_model.fit(train_X, train_y)\n",
        "svr_val_predictions = svr_model.predict(val_X)\n",
        "svr_val_mae = mean_absolute_error(inv_y(svr_val_predictions), inv_y(val_y))\n",
        "mae_compare['SVR'] = svr_val_mae\n",
        "\n",
        "# # Make validation predictions and calculate mean absolute error\n",
        "print('MAE:')\n",
        "mae_compare.sort_values(ascending=True).round()"
      ],
      "execution_count": 29,
      "outputs": [
        {
          "output_type": "stream",
          "text": [
            "/usr/local/lib/python3.6/dist-packages/ipykernel_launcher.py:26: DataConversionWarning: A column-vector y was passed when a 1d array was expected. Please change the shape of y to (n_samples,), for example using ravel().\n"
          ],
          "name": "stderr"
        },
        {
          "output_type": "stream",
          "text": [
            "[21:18:23] WARNING: /workspace/src/objective/regression_obj.cu:152: reg:linear is now deprecated in favor of reg:squarederror.\n"
          ],
          "name": "stdout"
        },
        {
          "output_type": "stream",
          "text": [
            "/usr/local/lib/python3.6/dist-packages/sklearn/ensemble/_gb.py:1454: DataConversionWarning: A column-vector y was passed when a 1d array was expected. Please change the shape of y to (n_samples, ), for example using ravel().\n",
            "  y = column_or_1d(y, warn=True)\n",
            "/usr/local/lib/python3.6/dist-packages/sklearn/utils/validation.py:760: DataConversionWarning: A column-vector y was passed when a 1d array was expected. Please change the shape of y to (n_samples, ), for example using ravel().\n",
            "  y = column_or_1d(y, warn=True)\n",
            "/usr/local/lib/python3.6/dist-packages/sklearn/utils/validation.py:760: DataConversionWarning: A column-vector y was passed when a 1d array was expected. Please change the shape of y to (n_samples, ), for example using ravel().\n",
            "  y = column_or_1d(y, warn=True)\n"
          ],
          "name": "stderr"
        },
        {
          "output_type": "stream",
          "text": [
            "MAE values for different algorithms:\n"
          ],
          "name": "stdout"
        },
        {
          "output_type": "execute_result",
          "data": {
            "text/plain": [
              "Algorithm\n",
              "GradientBoosting                   2.900700e+04\n",
              "XGBoost                            2.917500e+04\n",
              "RandomForest                       2.954500e+04\n",
              "DecisionTree_opt_max_leaf_nodes    3.457700e+04\n",
              "Lasso                              3.467500e+04\n",
              "Ridge                              3.474300e+04\n",
              "LinearRegression                   3.474300e+04\n",
              "ElasticNet                         3.504300e+04\n",
              "AdaBoost                           3.533100e+04\n",
              "DecisionTree                       4.002500e+04\n",
              "KNeighborsRegressor                4.114000e+04\n",
              "SVR                                2.257053e+37\n",
              "dtype: float64"
            ]
          },
          "metadata": {
            "tags": []
          },
          "execution_count": 29
        }
      ]
    },
    {
      "cell_type": "code",
      "metadata": {
        "scrolled": true,
        "id": "Nao54u8SPmRP",
        "colab_type": "code",
        "colab": {
          "base_uri": "https://localhost:8080/",
          "height": 325
        },
        "outputId": "4f6b8fcb-1e6d-44d9-b514-7048c9dd4cf0"
      },
      "source": [
        "#model comparison\n",
        "plt.style.use('fivethirtyeight')\n",
        "\n",
        "\n",
        "# Dataframe to hold the results\n",
        "model_comparison = pd.DataFrame({'model': ['Linear Regression',\n",
        "                                           'Random Forest', 'Gradient Boosted',\n",
        "                                            'K-Nearest Neighbors','Lasso','Ridge','ElasticNet','AdaBoost','XGBoost','DecisionTree'],\n",
        "                                 'mae': [linear_val_mae, rf_val_mae, \n",
        "                                         gbr_val_mae, knn_val_mae, lasso_val_mae, ridge_val_mae, elastic_net_val_mae, ada_val_mae, xgb_val_mae, val_mae ]})\n",
        "\n",
        "# Horizontal bar chart of test mae\n",
        "model_comparison.sort_values('mae', ascending = False).plot(x = 'model', y = 'mae', kind = 'barh',\n",
        "                                                           color = 'red', edgecolor = 'black')\n",
        "\n",
        "# Plot formatting\n",
        "plt.ylabel(''); plt.yticks(size = 14); plt.xlabel('Mean Absolute Error'); plt.xticks(size = 14)\n",
        "plt.title('Model Comparison on Test MAE', size = 20);"
      ],
      "execution_count": 30,
      "outputs": [
        {
          "output_type": "display_data",
          "data": {
            "image/png": "[encoded data removed]",
            "text/plain": [
              "<Figure size 432x288 with 1 Axes>"
            ]
          },
          "metadata": {
            "tags": []
          }
        }
      ]
    },
    {
      "cell_type": "code",
      "metadata": {
        "id": "dGMJzRPBPmRR",
        "colab_type": "code",
        "colab": {}
      },
      "source": [
        "#choosing the best model\n",
        "# Loss function to be optimized\n",
        "loss = ['ls', 'lad', 'huber']\n",
        "\n",
        "# Number of trees used in the boosting process\n",
        "n_estimators = [100, 500, 900, 1100, 1500]\n",
        "\n",
        "# Maximum depth of each tree\n",
        "max_depth = [2, 3, 5, 10, 15]\n",
        "\n",
        "# Minimum number of samples per leaf\n",
        "min_samples_leaf = [1, 2, 4, 6, 8]\n",
        "\n",
        "# Minimum number of samples to split a node\n",
        "min_samples_split = [2, 4, 6, 10]\n",
        "\n",
        "\n",
        "# Maximum number of features to consider for making splits\n",
        "max_features = ['auto', 'sqrt', 'log2', None]\n",
        "\n",
        "# Define the grid of hyperparameters to search\n",
        "hyperparameter_grid = {'loss': loss,\n",
        "                       'n_estimators': n_estimators,\n",
        "                       'max_depth': max_depth,\n",
        "                       'min_samples_leaf': min_samples_leaf,\n",
        "                       'min_samples_split': min_samples_split,\n",
        "                       'max_features': max_features}"
      ],
      "execution_count": 0,
      "outputs": []
    },
    {
      "cell_type": "code",
      "metadata": {
        "id": "3Y_pAdNzPmRU",
        "colab_type": "code",
        "colab": {}
      },
      "source": [
        "# Create the model to use for hyperparameter tuning\n",
        "model = GradientBoostingRegressor(random_state=42)\n",
        "random_cv = RandomizedSearchCV(estimator = model,\n",
        "                              param_distributions = hyperparameter_grid,\n",
        "                              scoring = 'neg_mean_absolute_error',\n",
        "                              n_jobs = -1, verbose = 1,\n",
        "                              return_train_score = True,\n",
        "                              random_state=42)"
      ],
      "execution_count": 0,
      "outputs": []
    },
    {
      "cell_type": "code",
      "metadata": {
        "id": "S52Z3NEmPmRu",
        "colab_type": "code",
        "colab": {}
      },
      "source": [
        "# Final imputation of missing data \n",
        "imputer = SimpleImputer()\n",
        "imputed_X = imputer.fit_transform(X)\n",
        "\n"
      ],
      "execution_count": 0,
      "outputs": []
    },
    {
      "cell_type": "code",
      "metadata": {
        "id": "gyWfM1oDPmRX",
        "colab_type": "code",
        "colab": {
          "base_uri": "https://localhost:8080/",
          "height": 572
        },
        "outputId": "b18b59d3-66ef-465e-c92f-786f5f54ebc3"
      },
      "source": [
        "random_cv.fit(imputed_X, y)"
      ],
      "execution_count": 34,
      "outputs": [
        {
          "output_type": "stream",
          "text": [
            "Fitting 5 folds for each of 10 candidates, totalling 50 fits\n"
          ],
          "name": "stdout"
        },
        {
          "output_type": "stream",
          "text": [
            "[Parallel(n_jobs=-1)]: Using backend LokyBackend with 2 concurrent workers.\n",
            "[Parallel(n_jobs=-1)]: Done  46 tasks      | elapsed:  2.9min\n",
            "[Parallel(n_jobs=-1)]: Done  50 out of  50 | elapsed:  3.0min finished\n",
            "/usr/local/lib/python3.6/dist-packages/sklearn/ensemble/_gb.py:1454: DataConversionWarning: A column-vector y was passed when a 1d array was expected. Please change the shape of y to (n_samples, ), for example using ravel().\n",
            "  y = column_or_1d(y, warn=True)\n"
          ],
          "name": "stderr"
        },
        {
          "output_type": "execute_result",
          "data": {
            "text/plain": [
              "RandomizedSearchCV(cv=None, error_score=nan,\n",
              "                   estimator=GradientBoostingRegressor(alpha=0.9, ccp_alpha=0.0,\n",
              "                                                       criterion='friedman_mse',\n",
              "                                                       init=None,\n",
              "                                                       learning_rate=0.1,\n",
              "                                                       loss='ls', max_depth=3,\n",
              "                                                       max_features=None,\n",
              "                                                       max_leaf_nodes=None,\n",
              "                                                       min_impurity_decrease=0.0,\n",
              "                                                       min_impurity_split=None,\n",
              "                                                       min_samples_leaf=1,\n",
              "                                                       min_samples_split=2,\n",
              "                                                       min_weight_fraction_leaf=0.0,\n",
              "                                                       n_estimators=100...\n",
              "                   iid='deprecated', n_iter=10, n_jobs=-1,\n",
              "                   param_distributions={'loss': ['ls', 'lad', 'huber'],\n",
              "                                        'max_depth': [2, 3, 5, 10, 15],\n",
              "                                        'max_features': ['auto', 'sqrt', 'log2',\n",
              "                                                         None],\n",
              "                                        'min_samples_leaf': [1, 2, 4, 6, 8],\n",
              "                                        'min_samples_split': [2, 4, 6, 10],\n",
              "                                        'n_estimators': [100, 500, 900, 1100,\n",
              "                                                         1500]},\n",
              "                   pre_dispatch='2*n_jobs', random_state=42, refit=True,\n",
              "                   return_train_score=True, scoring='neg_mean_absolute_error',\n",
              "                   verbose=1)"
            ]
          },
          "metadata": {
            "tags": []
          },
          "execution_count": 34
        }
      ]
    },
    {
      "cell_type": "code",
      "metadata": {
        "id": "0ZB6P4gjPmRa",
        "colab_type": "code",
        "colab": {
          "base_uri": "https://localhost:8080/",
          "height": 896
        },
        "outputId": "7c434962-0a1d-431b-fe50-73d7bcfbec05"
      },
      "source": [
        "# Get all of the cv results and sort by the test performance\n",
        "random_results = pd.DataFrame(random_cv.cv_results_).sort_values('mean_test_score', ascending = False)\n",
        "\n",
        "random_results.head(10)"
      ],
      "execution_count": 35,
      "outputs": [
        {
          "output_type": "execute_result",
          "data": {
            "text/html": [
              "<div>\n",
              "<style scoped>\n",
              "    .dataframe tbody tr th:only-of-type {\n",
              "        vertical-align: middle;\n",
              "    }\n",
              "\n",
              "    .dataframe tbody tr th {\n",
              "        vertical-align: top;\n",
              "    }\n",
              "\n",
              "    .dataframe thead th {\n",
              "        text-align: right;\n",
              "    }\n",
              "</style>\n",
              "<table border=\"1\" class=\"dataframe\">\n",
              "  <thead>\n",
              "    <tr style=\"text-align: right;\">\n",
              "      <th></th>\n",
              "      <th>mean_fit_time</th>\n",
              "      <th>std_fit_time</th>\n",
              "      <th>mean_score_time</th>\n",
              "      <th>std_score_time</th>\n",
              "      <th>param_n_estimators</th>\n",
              "      <th>param_min_samples_split</th>\n",
              "      <th>param_min_samples_leaf</th>\n",
              "      <th>param_max_features</th>\n",
              "      <th>param_max_depth</th>\n",
              "      <th>param_loss</th>\n",
              "      <th>params</th>\n",
              "      <th>split0_test_score</th>\n",
              "      <th>split1_test_score</th>\n",
              "      <th>split2_test_score</th>\n",
              "      <th>split3_test_score</th>\n",
              "      <th>split4_test_score</th>\n",
              "      <th>mean_test_score</th>\n",
              "      <th>std_test_score</th>\n",
              "      <th>rank_test_score</th>\n",
              "      <th>split0_train_score</th>\n",
              "      <th>split1_train_score</th>\n",
              "      <th>split2_train_score</th>\n",
              "      <th>split3_train_score</th>\n",
              "      <th>split4_train_score</th>\n",
              "      <th>mean_train_score</th>\n",
              "      <th>std_train_score</th>\n",
              "    </tr>\n",
              "  </thead>\n",
              "  <tbody>\n",
              "    <tr>\n",
              "      <th>4</th>\n",
              "      <td>19.472522</td>\n",
              "      <td>0.290194</td>\n",
              "      <td>0.028464</td>\n",
              "      <td>0.001430</td>\n",
              "      <td>900</td>\n",
              "      <td>6</td>\n",
              "      <td>6</td>\n",
              "      <td>sqrt</td>\n",
              "      <td>15</td>\n",
              "      <td>lad</td>\n",
              "      <td>{'n_estimators': 900, 'min_samples_split': 6, ...</td>\n",
              "      <td>-0.152798</td>\n",
              "      <td>-0.157856</td>\n",
              "      <td>-0.152858</td>\n",
              "      <td>-0.137696</td>\n",
              "      <td>-0.146394</td>\n",
              "      <td>-0.149520</td>\n",
              "      <td>0.006942</td>\n",
              "      <td>1</td>\n",
              "      <td>-0.026912</td>\n",
              "      <td>-0.023459</td>\n",
              "      <td>-0.024225</td>\n",
              "      <td>-0.025767</td>\n",
              "      <td>-0.024039</td>\n",
              "      <td>-0.024880</td>\n",
              "      <td>0.001270</td>\n",
              "    </tr>\n",
              "    <tr>\n",
              "      <th>5</th>\n",
              "      <td>4.224195</td>\n",
              "      <td>0.044144</td>\n",
              "      <td>0.010726</td>\n",
              "      <td>0.000090</td>\n",
              "      <td>900</td>\n",
              "      <td>6</td>\n",
              "      <td>8</td>\n",
              "      <td>log2</td>\n",
              "      <td>5</td>\n",
              "      <td>lad</td>\n",
              "      <td>{'n_estimators': 900, 'min_samples_split': 6, ...</td>\n",
              "      <td>-0.154908</td>\n",
              "      <td>-0.155665</td>\n",
              "      <td>-0.151959</td>\n",
              "      <td>-0.140169</td>\n",
              "      <td>-0.145591</td>\n",
              "      <td>-0.149658</td>\n",
              "      <td>0.005925</td>\n",
              "      <td>2</td>\n",
              "      <td>-0.075022</td>\n",
              "      <td>-0.070714</td>\n",
              "      <td>-0.074354</td>\n",
              "      <td>-0.074544</td>\n",
              "      <td>-0.072680</td>\n",
              "      <td>-0.073463</td>\n",
              "      <td>0.001585</td>\n",
              "    </tr>\n",
              "    <tr>\n",
              "      <th>1</th>\n",
              "      <td>1.748209</td>\n",
              "      <td>0.239728</td>\n",
              "      <td>0.004089</td>\n",
              "      <td>0.000052</td>\n",
              "      <td>100</td>\n",
              "      <td>6</td>\n",
              "      <td>8</td>\n",
              "      <td>sqrt</td>\n",
              "      <td>10</td>\n",
              "      <td>huber</td>\n",
              "      <td>{'n_estimators': 100, 'min_samples_split': 6, ...</td>\n",
              "      <td>-0.152748</td>\n",
              "      <td>-0.161291</td>\n",
              "      <td>-0.154488</td>\n",
              "      <td>-0.144488</td>\n",
              "      <td>-0.144036</td>\n",
              "      <td>-0.151410</td>\n",
              "      <td>0.006499</td>\n",
              "      <td>3</td>\n",
              "      <td>-0.056924</td>\n",
              "      <td>-0.052394</td>\n",
              "      <td>-0.052917</td>\n",
              "      <td>-0.054776</td>\n",
              "      <td>-0.057031</td>\n",
              "      <td>-0.054808</td>\n",
              "      <td>0.001940</td>\n",
              "    </tr>\n",
              "    <tr>\n",
              "      <th>0</th>\n",
              "      <td>0.495830</td>\n",
              "      <td>0.005077</td>\n",
              "      <td>0.003000</td>\n",
              "      <td>0.000096</td>\n",
              "      <td>100</td>\n",
              "      <td>2</td>\n",
              "      <td>6</td>\n",
              "      <td>auto</td>\n",
              "      <td>5</td>\n",
              "      <td>ls</td>\n",
              "      <td>{'n_estimators': 100, 'min_samples_split': 2, ...</td>\n",
              "      <td>-0.158599</td>\n",
              "      <td>-0.161126</td>\n",
              "      <td>-0.151361</td>\n",
              "      <td>-0.142926</td>\n",
              "      <td>-0.153505</td>\n",
              "      <td>-0.153504</td>\n",
              "      <td>0.006333</td>\n",
              "      <td>4</td>\n",
              "      <td>-0.084159</td>\n",
              "      <td>-0.082910</td>\n",
              "      <td>-0.084430</td>\n",
              "      <td>-0.086364</td>\n",
              "      <td>-0.089956</td>\n",
              "      <td>-0.085564</td>\n",
              "      <td>0.002459</td>\n",
              "    </tr>\n",
              "    <tr>\n",
              "      <th>8</th>\n",
              "      <td>13.858732</td>\n",
              "      <td>0.334481</td>\n",
              "      <td>0.016159</td>\n",
              "      <td>0.000436</td>\n",
              "      <td>1500</td>\n",
              "      <td>6</td>\n",
              "      <td>2</td>\n",
              "      <td>sqrt</td>\n",
              "      <td>10</td>\n",
              "      <td>huber</td>\n",
              "      <td>{'n_estimators': 1500, 'min_samples_split': 6,...</td>\n",
              "      <td>-0.155905</td>\n",
              "      <td>-0.162616</td>\n",
              "      <td>-0.155630</td>\n",
              "      <td>-0.145532</td>\n",
              "      <td>-0.150404</td>\n",
              "      <td>-0.154017</td>\n",
              "      <td>0.005747</td>\n",
              "      <td>5</td>\n",
              "      <td>-0.003640</td>\n",
              "      <td>-0.004269</td>\n",
              "      <td>-0.003859</td>\n",
              "      <td>-0.004117</td>\n",
              "      <td>-0.004097</td>\n",
              "      <td>-0.003996</td>\n",
              "      <td>0.000221</td>\n",
              "    </tr>\n",
              "    <tr>\n",
              "      <th>6</th>\n",
              "      <td>11.806422</td>\n",
              "      <td>0.336429</td>\n",
              "      <td>0.011598</td>\n",
              "      <td>0.000294</td>\n",
              "      <td>1500</td>\n",
              "      <td>6</td>\n",
              "      <td>2</td>\n",
              "      <td>sqrt</td>\n",
              "      <td>15</td>\n",
              "      <td>huber</td>\n",
              "      <td>{'n_estimators': 1500, 'min_samples_split': 6,...</td>\n",
              "      <td>-0.157494</td>\n",
              "      <td>-0.166015</td>\n",
              "      <td>-0.153204</td>\n",
              "      <td>-0.145574</td>\n",
              "      <td>-0.153705</td>\n",
              "      <td>-0.155198</td>\n",
              "      <td>0.006650</td>\n",
              "      <td>6</td>\n",
              "      <td>-0.002359</td>\n",
              "      <td>-0.002917</td>\n",
              "      <td>-0.001993</td>\n",
              "      <td>-0.002510</td>\n",
              "      <td>-0.002522</td>\n",
              "      <td>-0.002460</td>\n",
              "      <td>0.000298</td>\n",
              "    </tr>\n",
              "    <tr>\n",
              "      <th>9</th>\n",
              "      <td>2.744243</td>\n",
              "      <td>0.082426</td>\n",
              "      <td>0.004578</td>\n",
              "      <td>0.000692</td>\n",
              "      <td>500</td>\n",
              "      <td>4</td>\n",
              "      <td>2</td>\n",
              "      <td>auto</td>\n",
              "      <td>3</td>\n",
              "      <td>huber</td>\n",
              "      <td>{'n_estimators': 500, 'min_samples_split': 4, ...</td>\n",
              "      <td>-0.164394</td>\n",
              "      <td>-0.157196</td>\n",
              "      <td>-0.154693</td>\n",
              "      <td>-0.147873</td>\n",
              "      <td>-0.152225</td>\n",
              "      <td>-0.155276</td>\n",
              "      <td>0.005500</td>\n",
              "      <td>7</td>\n",
              "      <td>-0.072223</td>\n",
              "      <td>-0.070269</td>\n",
              "      <td>-0.072280</td>\n",
              "      <td>-0.074648</td>\n",
              "      <td>-0.075280</td>\n",
              "      <td>-0.072940</td>\n",
              "      <td>0.001815</td>\n",
              "    </tr>\n",
              "    <tr>\n",
              "      <th>3</th>\n",
              "      <td>4.497003</td>\n",
              "      <td>0.029021</td>\n",
              "      <td>0.006711</td>\n",
              "      <td>0.000134</td>\n",
              "      <td>500</td>\n",
              "      <td>6</td>\n",
              "      <td>8</td>\n",
              "      <td>None</td>\n",
              "      <td>5</td>\n",
              "      <td>huber</td>\n",
              "      <td>{'n_estimators': 500, 'min_samples_split': 6, ...</td>\n",
              "      <td>-0.159986</td>\n",
              "      <td>-0.161132</td>\n",
              "      <td>-0.156270</td>\n",
              "      <td>-0.145058</td>\n",
              "      <td>-0.157133</td>\n",
              "      <td>-0.155916</td>\n",
              "      <td>0.005715</td>\n",
              "      <td>8</td>\n",
              "      <td>-0.040758</td>\n",
              "      <td>-0.037595</td>\n",
              "      <td>-0.041862</td>\n",
              "      <td>-0.042764</td>\n",
              "      <td>-0.042820</td>\n",
              "      <td>-0.041160</td>\n",
              "      <td>0.001933</td>\n",
              "    </tr>\n",
              "    <tr>\n",
              "      <th>7</th>\n",
              "      <td>1.561758</td>\n",
              "      <td>0.012707</td>\n",
              "      <td>0.004987</td>\n",
              "      <td>0.000170</td>\n",
              "      <td>500</td>\n",
              "      <td>4</td>\n",
              "      <td>6</td>\n",
              "      <td>auto</td>\n",
              "      <td>3</td>\n",
              "      <td>ls</td>\n",
              "      <td>{'n_estimators': 500, 'min_samples_split': 4, ...</td>\n",
              "      <td>-0.164814</td>\n",
              "      <td>-0.165004</td>\n",
              "      <td>-0.153792</td>\n",
              "      <td>-0.152693</td>\n",
              "      <td>-0.156633</td>\n",
              "      <td>-0.158587</td>\n",
              "      <td>0.005320</td>\n",
              "      <td>9</td>\n",
              "      <td>-0.077569</td>\n",
              "      <td>-0.076092</td>\n",
              "      <td>-0.077159</td>\n",
              "      <td>-0.080356</td>\n",
              "      <td>-0.078615</td>\n",
              "      <td>-0.077958</td>\n",
              "      <td>0.001446</td>\n",
              "    </tr>\n",
              "    <tr>\n",
              "      <th>2</th>\n",
              "      <td>10.546180</td>\n",
              "      <td>0.515409</td>\n",
              "      <td>0.009285</td>\n",
              "      <td>0.000591</td>\n",
              "      <td>500</td>\n",
              "      <td>4</td>\n",
              "      <td>2</td>\n",
              "      <td>auto</td>\n",
              "      <td>10</td>\n",
              "      <td>huber</td>\n",
              "      <td>{'n_estimators': 500, 'min_samples_split': 4, ...</td>\n",
              "      <td>-0.174313</td>\n",
              "      <td>-0.170919</td>\n",
              "      <td>-0.165718</td>\n",
              "      <td>-0.149301</td>\n",
              "      <td>-0.167616</td>\n",
              "      <td>-0.165574</td>\n",
              "      <td>0.008648</td>\n",
              "      <td>10</td>\n",
              "      <td>-0.003009</td>\n",
              "      <td>-0.002925</td>\n",
              "      <td>-0.002425</td>\n",
              "      <td>-0.002300</td>\n",
              "      <td>-0.002368</td>\n",
              "      <td>-0.002605</td>\n",
              "      <td>0.000299</td>\n",
              "    </tr>\n",
              "  </tbody>\n",
              "</table>\n",
              "</div>"
            ],
            "text/plain": [
              "   mean_fit_time  std_fit_time  ...  mean_train_score  std_train_score\n",
              "4      19.472522      0.290194  ...         -0.024880         0.001270\n",
              "5       4.224195      0.044144  ...         -0.073463         0.001585\n",
              "1       1.748209      0.239728  ...         -0.054808         0.001940\n",
              "0       0.495830      0.005077  ...         -0.085564         0.002459\n",
              "8      13.858732      0.334481  ...         -0.003996         0.000221\n",
              "6      11.806422      0.336429  ...         -0.002460         0.000298\n",
              "9       2.744243      0.082426  ...         -0.072940         0.001815\n",
              "3       4.497003      0.029021  ...         -0.041160         0.001933\n",
              "7       1.561758      0.012707  ...         -0.077958         0.001446\n",
              "2      10.546180      0.515409  ...         -0.002605         0.000299\n",
              "\n",
              "[10 rows x 26 columns]"
            ]
          },
          "metadata": {
            "tags": []
          },
          "execution_count": 35
        }
      ]
    },
    {
      "cell_type": "code",
      "metadata": {
        "id": "_VNVh4JgPmRd",
        "colab_type": "code",
        "colab": {
          "base_uri": "https://localhost:8080/",
          "height": 190
        },
        "outputId": "df8c9652-4983-46e4-cc22-127ce732d3dd"
      },
      "source": [
        "#best parametrs for model\n",
        "random_cv.best_estimator_\n"
      ],
      "execution_count": 36,
      "outputs": [
        {
          "output_type": "execute_result",
          "data": {
            "text/plain": [
              "GradientBoostingRegressor(alpha=0.9, ccp_alpha=0.0, criterion='friedman_mse',\n",
              "                          init=None, learning_rate=0.1, loss='lad',\n",
              "                          max_depth=15, max_features='sqrt',\n",
              "                          max_leaf_nodes=None, min_impurity_decrease=0.0,\n",
              "                          min_impurity_split=None, min_samples_leaf=6,\n",
              "                          min_samples_split=6, min_weight_fraction_leaf=0.0,\n",
              "                          n_estimators=900, n_iter_no_change=None,\n",
              "                          presort='deprecated', random_state=42, subsample=1.0,\n",
              "                          tol=0.0001, validation_fraction=0.1, verbose=0,\n",
              "                          warm_start=False)"
            ]
          },
          "metadata": {
            "tags": []
          },
          "execution_count": 36
        }
      ]
    },
    {
      "cell_type": "code",
      "metadata": {
        "id": "TIMDKpm1PmRm",
        "colab_type": "code",
        "colab": {}
      },
      "source": [
        "# Create a range of trees to evaluate\n",
        "trees_grid = {'n_estimators': [100, 150, 200, 250, 300, 350, 400, 450, 500, 550, 600, 650, 700, 750, 800]}\n",
        "\n",
        "model = GradientBoostingRegressor(loss = 'lad', max_depth = 5,\n",
        "                                  min_samples_leaf = 6,\n",
        "                                  min_samples_split = 6,\n",
        "                                  max_features = None,\n",
        "                                  random_state = 42)\n",
        "\n",
        "# Grid Search Object using the trees range and the random forest model\n",
        "grid_search = GridSearchCV(estimator = model, param_grid=trees_grid, cv = 4, \n",
        "                           scoring = 'neg_mean_absolute_error', verbose = 1,\n",
        "                           n_jobs = -1, return_train_score = True)"
      ],
      "execution_count": 0,
      "outputs": []
    },
    {
      "cell_type": "code",
      "metadata": {
        "id": "kuFJb1ouPmRp",
        "colab_type": "code",
        "colab": {
          "base_uri": "https://localhost:8080/",
          "height": 554
        },
        "outputId": "27597063-e4f2-4808-ede6-17ee093f3089"
      },
      "source": [
        "grid_search.fit(imputed_X, y)"
      ],
      "execution_count": 38,
      "outputs": [
        {
          "output_type": "stream",
          "text": [
            "Fitting 4 folds for each of 15 candidates, totalling 60 fits\n"
          ],
          "name": "stdout"
        },
        {
          "output_type": "stream",
          "text": [
            "[Parallel(n_jobs=-1)]: Using backend LokyBackend with 2 concurrent workers.\n",
            "[Parallel(n_jobs=-1)]: Done  46 tasks      | elapsed:  1.1min\n",
            "[Parallel(n_jobs=-1)]: Done  60 out of  60 | elapsed:  1.7min finished\n",
            "/usr/local/lib/python3.6/dist-packages/sklearn/ensemble/_gb.py:1454: DataConversionWarning: A column-vector y was passed when a 1d array was expected. Please change the shape of y to (n_samples, ), for example using ravel().\n",
            "  y = column_or_1d(y, warn=True)\n"
          ],
          "name": "stderr"
        },
        {
          "output_type": "execute_result",
          "data": {
            "text/plain": [
              "GridSearchCV(cv=4, error_score=nan,\n",
              "             estimator=GradientBoostingRegressor(alpha=0.9, ccp_alpha=0.0,\n",
              "                                                 criterion='friedman_mse',\n",
              "                                                 init=None, learning_rate=0.1,\n",
              "                                                 loss='lad', max_depth=5,\n",
              "                                                 max_features=None,\n",
              "                                                 max_leaf_nodes=None,\n",
              "                                                 min_impurity_decrease=0.0,\n",
              "                                                 min_impurity_split=None,\n",
              "                                                 min_samples_leaf=6,\n",
              "                                                 min_samples_split=6,\n",
              "                                                 min_weight_fraction_leaf=0.0,\n",
              "                                                 n_estimators=100,\n",
              "                                                 n_iter_no_change=None,\n",
              "                                                 presort='deprecated',\n",
              "                                                 random_state=42, subsample=1.0,\n",
              "                                                 tol=0.0001,\n",
              "                                                 validation_fraction=0.1,\n",
              "                                                 verbose=0, warm_start=False),\n",
              "             iid='deprecated', n_jobs=-1,\n",
              "             param_grid={'n_estimators': [100, 150, 200, 250, 300, 350, 400,\n",
              "                                          450, 500, 550, 600, 650, 700, 750,\n",
              "                                          800]},\n",
              "             pre_dispatch='2*n_jobs', refit=True, return_train_score=True,\n",
              "             scoring='neg_mean_absolute_error', verbose=1)"
            ]
          },
          "metadata": {
            "tags": []
          },
          "execution_count": 38
        }
      ]
    },
    {
      "cell_type": "code",
      "metadata": {
        "id": "sTKUiSq3jV2u",
        "colab_type": "code",
        "colab": {
          "base_uri": "https://localhost:8080/",
          "height": 173
        },
        "outputId": "6393eaa7-0166-4779-e3de-f949b55b2b2c"
      },
      "source": [
        "# Default model\n",
        "default_model = GradientBoostingRegressor(loss='lad', max_depth=5, max_features=None,\n",
        "                                  min_samples_leaf=6, min_samples_split=6, \n",
        "                                  n_estimators=800, random_state=42)\n",
        "\n",
        "# Select the best model\n",
        "final_model = grid_search.best_estimator_\n",
        "\n",
        "final_model"
      ],
      "execution_count": 40,
      "outputs": [
        {
          "output_type": "execute_result",
          "data": {
            "text/plain": [
              "GradientBoostingRegressor(alpha=0.9, ccp_alpha=0.0, criterion='friedman_mse',\n",
              "                          init=None, learning_rate=0.1, loss='lad', max_depth=5,\n",
              "                          max_features=None, max_leaf_nodes=None,\n",
              "                          min_impurity_decrease=0.0, min_impurity_split=None,\n",
              "                          min_samples_leaf=6, min_samples_split=6,\n",
              "                          min_weight_fraction_leaf=0.0, n_estimators=500,\n",
              "                          n_iter_no_change=None, presort='deprecated',\n",
              "                          random_state=42, subsample=1.0, tol=0.0001,\n",
              "                          validation_fraction=0.1, verbose=0, warm_start=False)"
            ]
          },
          "metadata": {
            "tags": []
          },
          "execution_count": 40
        }
      ]
    },
    {
      "cell_type": "code",
      "metadata": {
        "id": "_jlUb7BljV8E",
        "colab_type": "code",
        "colab": {
          "base_uri": "https://localhost:8080/",
          "height": 208
        },
        "outputId": "490ac735-88f6-4e94-a843-fe628b9368e9"
      },
      "source": [
        "%%timeit -n 1 -r 5\n",
        "default_model.fit(imputed_X, y)"
      ],
      "execution_count": 41,
      "outputs": [
        {
          "output_type": "stream",
          "text": [
            "/usr/local/lib/python3.6/dist-packages/sklearn/ensemble/_gb.py:1454: DataConversionWarning: A column-vector y was passed when a 1d array was expected. Please change the shape of y to (n_samples, ), for example using ravel().\n",
            "  y = column_or_1d(y, warn=True)\n",
            "/usr/local/lib/python3.6/dist-packages/sklearn/ensemble/_gb.py:1454: DataConversionWarning: A column-vector y was passed when a 1d array was expected. Please change the shape of y to (n_samples, ), for example using ravel().\n",
            "  y = column_or_1d(y, warn=True)\n",
            "/usr/local/lib/python3.6/dist-packages/sklearn/ensemble/_gb.py:1454: DataConversionWarning: A column-vector y was passed when a 1d array was expected. Please change the shape of y to (n_samples, ), for example using ravel().\n",
            "  y = column_or_1d(y, warn=True)\n",
            "/usr/local/lib/python3.6/dist-packages/sklearn/ensemble/_gb.py:1454: DataConversionWarning: A column-vector y was passed when a 1d array was expected. Please change the shape of y to (n_samples, ), for example using ravel().\n",
            "  y = column_or_1d(y, warn=True)\n",
            "/usr/local/lib/python3.6/dist-packages/sklearn/ensemble/_gb.py:1454: DataConversionWarning: A column-vector y was passed when a 1d array was expected. Please change the shape of y to (n_samples, ), for example using ravel().\n",
            "  y = column_or_1d(y, warn=True)\n"
          ],
          "name": "stderr"
        },
        {
          "output_type": "stream",
          "text": [
            "1 loop, best of 5: 4.74 s per loop\n"
          ],
          "name": "stdout"
        }
      ]
    },
    {
      "cell_type": "code",
      "metadata": {
        "id": "tkB_DZ1GTeet",
        "colab_type": "code",
        "colab": {
          "base_uri": "https://localhost:8080/",
          "height": 208
        },
        "outputId": "8050452a-09fa-44f1-f33e-6f8147764423"
      },
      "source": [
        "%%timeit -n 1 -r 5\n",
        "final_model.fit(imputed_X, y)"
      ],
      "execution_count": 43,
      "outputs": [
        {
          "output_type": "stream",
          "text": [
            "/usr/local/lib/python3.6/dist-packages/sklearn/ensemble/_gb.py:1454: DataConversionWarning: A column-vector y was passed when a 1d array was expected. Please change the shape of y to (n_samples, ), for example using ravel().\n",
            "  y = column_or_1d(y, warn=True)\n",
            "/usr/local/lib/python3.6/dist-packages/sklearn/ensemble/_gb.py:1454: DataConversionWarning: A column-vector y was passed when a 1d array was expected. Please change the shape of y to (n_samples, ), for example using ravel().\n",
            "  y = column_or_1d(y, warn=True)\n",
            "/usr/local/lib/python3.6/dist-packages/sklearn/ensemble/_gb.py:1454: DataConversionWarning: A column-vector y was passed when a 1d array was expected. Please change the shape of y to (n_samples, ), for example using ravel().\n",
            "  y = column_or_1d(y, warn=True)\n",
            "/usr/local/lib/python3.6/dist-packages/sklearn/ensemble/_gb.py:1454: DataConversionWarning: A column-vector y was passed when a 1d array was expected. Please change the shape of y to (n_samples, ), for example using ravel().\n",
            "  y = column_or_1d(y, warn=True)\n",
            "/usr/local/lib/python3.6/dist-packages/sklearn/ensemble/_gb.py:1454: DataConversionWarning: A column-vector y was passed when a 1d array was expected. Please change the shape of y to (n_samples, ), for example using ravel().\n",
            "  y = column_or_1d(y, warn=True)\n"
          ],
          "name": "stderr"
        },
        {
          "output_type": "stream",
          "text": [
            "1 loop, best of 5: 2.99 s per loop\n"
          ],
          "name": "stdout"
        }
      ]
    },
    {
      "cell_type": "code",
      "metadata": {
        "id": "ffqqthZZjV-y",
        "colab_type": "code",
        "colab": {
          "base_uri": "https://localhost:8080/",
          "height": 52
        },
        "outputId": "45469040-efe5-4bea-8625-c4682af053ca"
      },
      "source": [
        "default_pred = default_model.predict(val_X)\n",
        "final_pred = final_model.predict(val_X)\n",
        "\n",
        "print('Default model performance on the test set: MAE = %0.4f.' % mean_absolute_error(val_y, default_pred))\n",
        "print('Final model performance on the test set:   MAE = %0.4f.' % mean_absolute_error(val_y, final_pred))"
      ],
      "execution_count": 44,
      "outputs": [
        {
          "output_type": "stream",
          "text": [
            "Default model performance on the test set: MAE = 0.1800.\n",
            "Final model performance on the test set:   MAE = 0.1816.\n"
          ],
          "name": "stdout"
        }
      ]
    },
    {
      "cell_type": "code",
      "metadata": {
        "id": "0OoH727xTd9L",
        "colab_type": "code",
        "colab": {}
      },
      "source": [
        ""
      ],
      "execution_count": 0,
      "outputs": []
    },
    {
      "cell_type": "code",
      "metadata": {
        "id": "Ve8poMLEPmRw",
        "colab_type": "code",
        "colab": {
          "base_uri": "https://localhost:8080/",
          "height": 416
        },
        "outputId": "f327099a-c073-435e-cc6f-b7a71f2dfa15"
      },
      "source": [
        "n_folds = 10\n",
        "scores = cross_val_score(gbr_model, imputed_X, y, scoring='neg_mean_squared_error', \n",
        "                         cv=n_folds)\n",
        "gbr_mae_scores = np.sqrt(-scores)\n",
        "print('For Gradient Boosting model:')\n",
        "# print(lasso_mae_scores.round(decimals=2))\n",
        "print('Mean RMSE = ' + str(gbr_mae_scores.mean().round(decimals=3)))\n",
        "print('Error std deviation = ' +str(gbr_mae_scores.std().round(decimals=3)))"
      ],
      "execution_count": 45,
      "outputs": [
        {
          "output_type": "stream",
          "text": [
            "/usr/local/lib/python3.6/dist-packages/sklearn/ensemble/_gb.py:1454: DataConversionWarning: A column-vector y was passed when a 1d array was expected. Please change the shape of y to (n_samples, ), for example using ravel().\n",
            "  y = column_or_1d(y, warn=True)\n",
            "/usr/local/lib/python3.6/dist-packages/sklearn/ensemble/_gb.py:1454: DataConversionWarning: A column-vector y was passed when a 1d array was expected. Please change the shape of y to (n_samples, ), for example using ravel().\n",
            "  y = column_or_1d(y, warn=True)\n",
            "/usr/local/lib/python3.6/dist-packages/sklearn/ensemble/_gb.py:1454: DataConversionWarning: A column-vector y was passed when a 1d array was expected. Please change the shape of y to (n_samples, ), for example using ravel().\n",
            "  y = column_or_1d(y, warn=True)\n",
            "/usr/local/lib/python3.6/dist-packages/sklearn/ensemble/_gb.py:1454: DataConversionWarning: A column-vector y was passed when a 1d array was expected. Please change the shape of y to (n_samples, ), for example using ravel().\n",
            "  y = column_or_1d(y, warn=True)\n",
            "/usr/local/lib/python3.6/dist-packages/sklearn/ensemble/_gb.py:1454: DataConversionWarning: A column-vector y was passed when a 1d array was expected. Please change the shape of y to (n_samples, ), for example using ravel().\n",
            "  y = column_or_1d(y, warn=True)\n",
            "/usr/local/lib/python3.6/dist-packages/sklearn/ensemble/_gb.py:1454: DataConversionWarning: A column-vector y was passed when a 1d array was expected. Please change the shape of y to (n_samples, ), for example using ravel().\n",
            "  y = column_or_1d(y, warn=True)\n",
            "/usr/local/lib/python3.6/dist-packages/sklearn/ensemble/_gb.py:1454: DataConversionWarning: A column-vector y was passed when a 1d array was expected. Please change the shape of y to (n_samples, ), for example using ravel().\n",
            "  y = column_or_1d(y, warn=True)\n",
            "/usr/local/lib/python3.6/dist-packages/sklearn/ensemble/_gb.py:1454: DataConversionWarning: A column-vector y was passed when a 1d array was expected. Please change the shape of y to (n_samples, ), for example using ravel().\n",
            "  y = column_or_1d(y, warn=True)\n",
            "/usr/local/lib/python3.6/dist-packages/sklearn/ensemble/_gb.py:1454: DataConversionWarning: A column-vector y was passed when a 1d array was expected. Please change the shape of y to (n_samples, ), for example using ravel().\n",
            "  y = column_or_1d(y, warn=True)\n",
            "/usr/local/lib/python3.6/dist-packages/sklearn/ensemble/_gb.py:1454: DataConversionWarning: A column-vector y was passed when a 1d array was expected. Please change the shape of y to (n_samples, ), for example using ravel().\n",
            "  y = column_or_1d(y, warn=True)\n"
          ],
          "name": "stderr"
        },
        {
          "output_type": "stream",
          "text": [
            "For Gradient Boosting model:\n",
            "Mean RMSE = 0.209\n",
            "Error std deviation = 0.016\n"
          ],
          "name": "stdout"
        }
      ]
    },
    {
      "cell_type": "code",
      "metadata": {
        "id": "y2GWEWP9PmR3",
        "colab_type": "code",
        "colab": {
          "base_uri": "https://localhost:8080/",
          "height": 69
        },
        "outputId": "6c52ebb1-2e5f-47ad-a465-2738caf8a7ca"
      },
      "source": [
        "# Gradient Boosting Regression \n",
        "gbr_model = GradientBoostingRegressor(alpha=0.9, ccp_alpha=0.0, criterion='friedman_mse',\n",
        "                          init=None, learning_rate=0.1, loss='lad',\n",
        "                          max_depth=15, max_features='sqrt',\n",
        "                          max_leaf_nodes=None, min_impurity_decrease=0.0,\n",
        "                          min_impurity_split=None, min_samples_leaf=6,\n",
        "                          min_samples_split=6, min_weight_fraction_leaf=0.0,\n",
        "                          n_estimators=900, n_iter_no_change=None,\n",
        "                          presort='deprecated', random_state=42, subsample=1.0,\n",
        "                          tol=0.0001, validation_fraction=0.1, verbose=0,\n",
        "                          warm_start=False)\n",
        "gbr_model.fit(train_X, train_y)\n",
        "gbr_val_predictions = gbr_model.predict(val_X)\n",
        "gbr_val_mae = mean_absolute_error(inv_y(gbr_val_predictions), inv_y(val_y))\n",
        "mae_compare['GradientBoosting'] = gbr_val_mae\n",
        "print(\"Validation MAE for Gradient Boosting Model: {:,.0f}\".format(gbr_val_mae))\n"
      ],
      "execution_count": 46,
      "outputs": [
        {
          "output_type": "stream",
          "text": [
            "/usr/local/lib/python3.6/dist-packages/sklearn/ensemble/_gb.py:1454: DataConversionWarning: A column-vector y was passed when a 1d array was expected. Please change the shape of y to (n_samples, ), for example using ravel().\n",
            "  y = column_or_1d(y, warn=True)\n"
          ],
          "name": "stderr"
        },
        {
          "output_type": "stream",
          "text": [
            "Validation MAE for Gradient Boosting Model: 28,007\n"
          ],
          "name": "stdout"
        }
      ]
    },
    {
      "cell_type": "code",
      "metadata": {
        "id": "-lNze05SPmR9",
        "colab_type": "code",
        "colab": {}
      },
      "source": [
        "r2 = gbr_model.score(val_X, val_y)\n",
        "RMSLE = np.sqrt(mean_squared_log_error(val_y, gbr_val_predictions))\n",
        "RMSE = np.sqrt(mean_squared_error(val_y, gbr_val_predictions))"
      ],
      "execution_count": 0,
      "outputs": []
    },
    {
      "cell_type": "code",
      "metadata": {
        "scrolled": true,
        "id": "Ytvy2C2wPmR_",
        "colab_type": "code",
        "colab": {
          "base_uri": "https://localhost:8080/",
          "height": 121
        },
        "outputId": "35b2e121-e172-403e-eb33-5d56cf2eab8f"
      },
      "source": [
        "print()\n",
        "print(\"Results from local train-test split:\")\n",
        "print(\"r^2: {}.\".format(r2))\n",
        "print(\"RMSLE: {}.\".format(RMSLE))\n",
        "print(\"RMSE: {}.\".format(RMSE))\n",
        "print()"
      ],
      "execution_count": 48,
      "outputs": [
        {
          "output_type": "stream",
          "text": [
            "\n",
            "Results from local train-test split:\n",
            "r^2: 0.6749635227995026.\n",
            "RMSLE: 0.01725349739575522.\n",
            "RMSE: 0.2233350203396959.\n",
            "\n"
          ],
          "name": "stdout"
        }
      ]
    },
    {
      "cell_type": "code",
      "metadata": {
        "id": "ifZcYeaIPoDB",
        "colab_type": "code",
        "colab": {}
      },
      "source": [
        ""
      ],
      "execution_count": 0,
      "outputs": []
    }
  ]
}