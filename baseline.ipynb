{
 "cells": [
  {
   "cell_type": "code",
   "execution_count": 1,
   "metadata": {},
   "outputs": [],
   "source": [
    "import numpy as np\n",
    "import pandas as pd\n",
    "import tqdm\n",
    "\n",
    "import catboost as cat\n",
    "from catboost import CatBoostClassifier"
   ]
  },
  {
   "cell_type": "markdown",
   "metadata": {},
   "source": [
    "## Загрузим данные"
   ]
  },
  {
   "cell_type": "code",
   "execution_count": 2,
   "metadata": {},
   "outputs": [
    {
     "name": "stdout",
     "output_type": "stream",
     "text": [
      "CPU times: user 3.38 s, sys: 329 ms, total: 3.71 s\n",
      "Wall time: 3.71 s\n"
     ]
    }
   ],
   "source": [
    "%%time\n",
    "edges = pd.read_csv('./edges.csv')\n",
    "ids = pd.read_csv('./ids.csv')\n",
    "vertices = pd.read_csv('./vertices.csv')"
   ]
  },
  {
   "cell_type": "code",
   "execution_count": 3,
   "metadata": {},
   "outputs": [],
   "source": [
    "vertices['main_okved'] = vertices['main_okved'].astype(str)"
   ]
  },
  {
   "cell_type": "code",
   "execution_count": 4,
   "metadata": {},
   "outputs": [],
   "source": [
    "np.random.seed(7777)"
   ]
  },
  {
   "cell_type": "markdown",
   "metadata": {},
   "source": [
    "## Обучим модель"
   ]
  },
  {
   "cell_type": "code",
   "execution_count": 5,
   "metadata": {},
   "outputs": [],
   "source": [
    "result = pd.DataFrame(columns=['id_1', 'id_2'])"
   ]
  },
  {
   "cell_type": "code",
   "execution_count": 6,
   "metadata": {},
   "outputs": [
    {
     "name": "stderr",
     "output_type": "stream",
     "text": [
      " 28%|██▊       | 28/100 [26:00<1:05:35, 54.66s/it]"
     ]
    },
    {
     "name": "stdout",
     "output_type": "stream",
     "text": [
      "Training has stopped (degenerate solution on iteration 93, probably too small l2-regularization, try to increase it)\n"
     ]
    },
    {
     "name": "stderr",
     "output_type": "stream",
     "text": [
      "100%|██████████| 100/100 [1:32:34<00:00, 54.28s/it]\n"
     ]
    }
   ],
   "source": [
    "# для каждой вершины из ids с помощью catboost найдем 1000 самых вероятных ребер\n",
    "for i in tqdm.tqdm(ids.id):\n",
    "    # соберем датасет из всех возможных вершин\n",
    "    # вершины имеющие в исходных данных ребро с i обозначим 1, остальные 0\n",
    "    # учтем то, что вершина i может быть как среди id_1, так и среди id_2\n",
    "    df1 = edges[edges['id_1'] == i].reset_index()\n",
    "    df2 = edges[edges['id_2'] == i].reset_index()\n",
    "\n",
    "    df = df1[['id_2', 'id_1']].rename(columns={'id_1':'id_2', 'id_2':'id_1'}).append(df2[['id_1', 'id_2']])\n",
    "    df['target'] = 1\n",
    "    \n",
    "    df = vertices.set_index('id').join(df.set_index('id_1')['target']).fillna(0)\n",
    "    \n",
    "    \n",
    "    X = df[['main_okved', 'region_code', 'company_type']]\n",
    "    y = df['target']\n",
    "    \n",
    "    model = CatBoostClassifier(iterations=100, verbose=False)\n",
    "    cat_features = [0,1,2] # все признаки категориальные\n",
    "    \n",
    "    model.fit(X, y, cat_features)\n",
    "\n",
    "    preds = model.predict_proba(X)[:,1]\n",
    "\n",
    "    df['preds'] = preds\n",
    "    df['id_2'] = i\n",
    "    \n",
    "    # возьмем первую 1000 предсказанных ребер, исключив те, про которые мы уже знали\n",
    "    res = df[df['target'] != 1].sort_values(by='preds', ascending=False).iloc[:1000].reset_index()[['id', 'id_2']]\n",
    "    res.columns = ['id_1', 'id_2']\n",
    "    \n",
    "    result = result.append(res, ignore_index=True, sort=False)"
   ]
  },
  {
   "cell_type": "markdown",
   "metadata": {},
   "source": [
    "## Результат готов к отправке"
   ]
  },
  {
   "cell_type": "code",
   "execution_count": 7,
   "metadata": {},
   "outputs": [],
   "source": [
    "result.to_csv('submission.csv', index = False)"
   ]
  },
  {
   "cell_type": "code",
   "execution_count": null,
   "metadata": {},
   "outputs": [],
   "source": []
  }
 ],
 "metadata": {
  "kernelspec": {
   "display_name": "Python 3",
   "language": "python",
   "name": "python3"
  },
  "language_info": {
   "codemirror_mode": {
    "name": "ipython",
    "version": 3
   },
   "file_extension": ".py",
   "mimetype": "text/x-python",
   "name": "python",
   "nbconvert_exporter": "python",
   "pygments_lexer": "ipython3",
   "version": "3.6.3"
  }
 },
 "nbformat": 4,
 "nbformat_minor": 2
}
