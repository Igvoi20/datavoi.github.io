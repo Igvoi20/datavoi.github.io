{
  "nbformat": 4,
  "nbformat_minor": 0,
  "metadata": {
    "colab": {
      "name": "Untitled25.ipynb",
      "provenance": [],
      "collapsed_sections": [],
      "authorship_tag": "ABX9TyMOqBbLTPDwCZPm4PSipzTL"
    },
    "kernelspec": {
      "name": "python3",
      "display_name": "Python 3"
    }
  },
  "cells": [
    {
      "cell_type": "code",
      "metadata": {
        "colab": {
          "base_uri": "https://localhost:8080/"
        },
        "id": "xRlktGsMicrk",
        "outputId": "789736bf-0e2b-42f6-f9aa-d3a57482f812"
      },
      "source": [
        "pip install scrapy"
      ],
      "execution_count": 1,
      "outputs": [
        {
          "output_type": "stream",
          "text": [
            "Requirement already satisfied: scrapy in /usr/local/lib/python3.6/dist-packages (2.4.1)\n",
            "Requirement already satisfied: PyDispatcher>=2.0.5 in /usr/local/lib/python3.6/dist-packages (from scrapy) (2.0.5)\n",
            "Requirement already satisfied: cryptography>=2.0 in /usr/local/lib/python3.6/dist-packages (from scrapy) (3.2.1)\n",
            "Requirement already satisfied: cssselect>=0.9.1 in /usr/local/lib/python3.6/dist-packages (from scrapy) (1.1.0)\n",
            "Requirement already satisfied: parsel>=1.5.0 in /usr/local/lib/python3.6/dist-packages (from scrapy) (1.6.0)\n",
            "Requirement already satisfied: itemloaders>=1.0.1 in /usr/local/lib/python3.6/dist-packages (from scrapy) (1.0.4)\n",
            "Requirement already satisfied: queuelib>=1.4.2 in /usr/local/lib/python3.6/dist-packages (from scrapy) (1.5.0)\n",
            "Requirement already satisfied: pyOpenSSL>=16.2.0 in /usr/local/lib/python3.6/dist-packages (from scrapy) (20.0.0)\n",
            "Requirement already satisfied: service-identity>=16.0.0 in /usr/local/lib/python3.6/dist-packages (from scrapy) (18.1.0)\n",
            "Requirement already satisfied: Twisted>=17.9.0 in /usr/local/lib/python3.6/dist-packages (from scrapy) (20.3.0)\n",
            "Requirement already satisfied: itemadapter>=0.1.0 in /usr/local/lib/python3.6/dist-packages (from scrapy) (0.2.0)\n",
            "Requirement already satisfied: lxml>=3.5.0; platform_python_implementation == \"CPython\" in /usr/local/lib/python3.6/dist-packages (from scrapy) (4.2.6)\n",
            "Requirement already satisfied: w3lib>=1.17.0 in /usr/local/lib/python3.6/dist-packages (from scrapy) (1.22.0)\n",
            "Requirement already satisfied: zope.interface>=4.1.3 in /usr/local/lib/python3.6/dist-packages (from scrapy) (5.2.0)\n",
            "Requirement already satisfied: protego>=0.1.15 in /usr/local/lib/python3.6/dist-packages (from scrapy) (0.1.16)\n",
            "Requirement already satisfied: six>=1.4.1 in /usr/local/lib/python3.6/dist-packages (from cryptography>=2.0->scrapy) (1.15.0)\n",
            "Requirement already satisfied: cffi!=1.11.3,>=1.8 in /usr/local/lib/python3.6/dist-packages (from cryptography>=2.0->scrapy) (1.14.3)\n",
            "Requirement already satisfied: jmespath>=0.9.5 in /usr/local/lib/python3.6/dist-packages (from itemloaders>=1.0.1->scrapy) (0.10.0)\n",
            "Requirement already satisfied: pyasn1-modules in /usr/local/lib/python3.6/dist-packages (from service-identity>=16.0.0->scrapy) (0.2.8)\n",
            "Requirement already satisfied: pyasn1 in /usr/local/lib/python3.6/dist-packages (from service-identity>=16.0.0->scrapy) (0.4.8)\n",
            "Requirement already satisfied: attrs>=16.0.0 in /usr/local/lib/python3.6/dist-packages (from service-identity>=16.0.0->scrapy) (20.3.0)\n",
            "Requirement already satisfied: PyHamcrest!=1.10.0,>=1.9.0 in /usr/local/lib/python3.6/dist-packages (from Twisted>=17.9.0->scrapy) (2.0.2)\n",
            "Requirement already satisfied: hyperlink>=17.1.1 in /usr/local/lib/python3.6/dist-packages (from Twisted>=17.9.0->scrapy) (20.0.1)\n",
            "Requirement already satisfied: incremental>=16.10.1 in /usr/local/lib/python3.6/dist-packages (from Twisted>=17.9.0->scrapy) (17.5.0)\n",
            "Requirement already satisfied: Automat>=0.3.0 in /usr/local/lib/python3.6/dist-packages (from Twisted>=17.9.0->scrapy) (20.2.0)\n",
            "Requirement already satisfied: constantly>=15.1 in /usr/local/lib/python3.6/dist-packages (from Twisted>=17.9.0->scrapy) (15.1.0)\n",
            "Requirement already satisfied: setuptools in /usr/local/lib/python3.6/dist-packages (from zope.interface>=4.1.3->scrapy) (50.3.2)\n",
            "Requirement already satisfied: pycparser in /usr/local/lib/python3.6/dist-packages (from cffi!=1.11.3,>=1.8->cryptography>=2.0->scrapy) (2.20)\n",
            "Requirement already satisfied: idna>=2.5 in /usr/local/lib/python3.6/dist-packages (from hyperlink>=17.1.1->Twisted>=17.9.0->scrapy) (2.10)\n"
          ],
          "name": "stdout"
        }
      ]
    },
    {
      "cell_type": "code",
      "metadata": {
        "colab": {
          "base_uri": "https://localhost:8080/",
          "height": 35
        },
        "id": "fMPtBkhnl5E1",
        "outputId": "0a91b96f-b2ad-4e0c-98bf-96fea8a47b71"
      },
      "source": [
        "from IPython.core.interactiveshell import InteractiveShell\n",
        "InteractiveShell.ast_node_interactivity = \"all\"\n",
        "# Show Python version\n",
        "import platform\n",
        "platform.python_version()"
      ],
      "execution_count": 2,
      "outputs": [
        {
          "output_type": "execute_result",
          "data": {
            "application/vnd.google.colaboratory.intrinsic+json": {
              "type": "string"
            },
            "text/plain": [
              "'3.6.9'"
            ]
          },
          "metadata": {
            "tags": []
          },
          "execution_count": 2
        }
      ]
    },
    {
      "cell_type": "code",
      "metadata": {
        "colab": {
          "base_uri": "https://localhost:8080/"
        },
        "id": "QFJExPPSLz9N",
        "outputId": "cbc32fab-7d31-4206-ce5c-68de1945dfbe"
      },
      "source": [
        "\n",
        "import numpy as np\n",
        "import pandas as pd\n",
        "import re\n",
        "import logging\n",
        "import json\n",
        "import scrapy\n",
        "import re\n",
        "import sys\n",
        "import requests\n",
        "from pandas.io.json import json_normalize \n",
        "from bs4 import BeautifulSoup\n",
        "import os\n",
        "import pickle\n",
        "from pandas.io.json import json_normalize \n",
        "from scrapy.crawler import CrawlerProcess"
      ],
      "execution_count": 3,
      "outputs": [
        {
          "output_type": "stream",
          "text": [
            "/usr/local/lib/python3.6/dist-packages/sklearn/externals/joblib/__init__.py:15: FutureWarning: sklearn.externals.joblib is deprecated in 0.21 and will be removed in 0.23. Please import this functionality directly from joblib, which can be installed with: pip install joblib. If this warning is raised when loading pickled models, you may need to re-serialize those models with scikit-learn 0.21+.\n",
            "  warnings.warn(msg, category=FutureWarning)\n"
          ],
          "name": "stderr"
        }
      ]
    },
    {
      "cell_type": "code",
      "metadata": {
        "id": "CaDEYhd3l6aV"
      },
      "source": [
        "try:\n",
        "    import scrapy\n",
        "except:\n",
        "    !pip install scrapy\n",
        "    import scrapy\n",
        "from scrapy.crawler import CrawlerProcess"
      ],
      "execution_count": 4,
      "outputs": []
    },
    {
      "cell_type": "code",
      "metadata": {
        "id": "HlkSAVzblAcN"
      },
      "source": [
        "import json\n",
        "import logging\n",
        "\n",
        "class JsonWriterPipeline(object):\n",
        "\n",
        "    def open_spider(self, spider):\n",
        "        self.file = open('quoteresult.jl', 'w')\n",
        "\n",
        "    def close_spider(self, spider):\n",
        "        self.file.close()\n",
        "\n",
        "    def process_item(self, item, spider):\n",
        "        line = json.dumps(dict(item)) + \"\\n\"\n",
        "        self.file.write(line)\n",
        "        return item"
      ],
      "execution_count": 5,
      "outputs": []
    },
    {
      "cell_type": "code",
      "metadata": {
        "id": "Fz-q43AvQfzb"
      },
      "source": [
        "import scrapy\n",
        "import requests\n",
        "# from selenium import webdriver\n",
        "# from selenium.common.exceptions import NoSuchElementException\n",
        "\n",
        "\n",
        "def clean(text):\n",
        "    digits = [s for s in text if s.isdigit()]\n",
        "    clean_text = ''.join(digits)\n",
        "    if not clean_text:\n",
        "        return None\n",
        "    return int(clean_text)\n",
        "\n",
        "class QuotesSpider(scrapy.Spider):\n",
        "    name = \"Wildberries\"\n",
        "    allowed_domains = ['wildberries.ru']\n",
        "    start_urls = [\n",
        "        'https://www.wildberries.ru/catalog/obuv/zhenskaya/sabo-i-myuli/myuli',\n",
        "\n",
        "    ]\n",
        "\n",
        "    custom_settings = {\n",
        "        'LOG_LEVEL': logging.WARNING,\n",
        "        'ITEM_PIPELINES': {'__main__.JsonWriterPipeline': 1}, # Used for pipeline 1\n",
        "        'FEED_FORMAT':'json',                                 # Used for pipeline 2\n",
        "        'FEED_URI': 'quoteresult.json'                        # Used for pipeline 2\n",
        "    }\n",
        "\n",
        "    # def parse(self, response):\n",
        "    #     response.xpath(\"//div[@class='dtList i-dtList j-card-item ']/span[@class='text']\").extract()\n",
        "    #     for quote in response.css('.dtList i-dtList j-card-item '):\n",
        "    #         time =  quote.css('div::attr(data-catalogercod1s)').extract()\n",
        "    #         yield {'time':time,}\n",
        "\n",
        "    def parse(self, response):\n",
        "        for quote in response.css('.dtList-inner'):\n",
        "            link = quote.css('.dtlist-inner-brand-name')\n",
        "            title1 = link.css('.brand-name::text').get()\n",
        "            title2 = link.css('.goods-name::text').get()\n",
        "            title = title1 + '/' + title2\n",
        "\n",
        "            catalogercod1s =  quote.css('div::attr(data-catalogercod1s)').extract()\n",
        "            raw_price = quote.css('.lower-price::text').get()\n",
        "            id = quote.css('div::attr(id)').extract()\n",
        "            image = quote.css('img::attr(src)').extract()\n",
        "            price =raw_price and clean(raw_price) or None\n",
        "           \n",
        "            link =  quote.css('a::attr(href)').extract()\n",
        "            list_link =  quote.css('a::attr(href)')\n",
        "            for parselink in list_link:\n",
        "                character = parselink.css('.comments_reviews_link > span > i').extract()\n",
        "            \n",
        "        \n",
        "            size = quote.xpath('//div[@class=\"quick-order\"]/span[@class=\"sizes\"]/a[@rel=\"nofollow\"]/text()').extract()\n",
        "            \n",
        "            yield {\n",
        "                'title': title,\n",
        "                'price': price,\n",
        "                'id' : id,\n",
        "                'character': character,\n",
        "                'timestamp':catalogercod1s, \n",
        "                'link ':link,\n",
        "                'size': size,\n",
        "                'image': image,\n",
        "\n",
        "            }\n",
        "            \n",
        "\n",
        "            "
      ],
      "execution_count": 6,
      "outputs": []
    },
    {
      "cell_type": "code",
      "metadata": {
        "colab": {
          "base_uri": "https://localhost:8080/"
        },
        "id": "JgOoilXINDz8",
        "outputId": "3c43c477-1d00-47bf-e171-8453e4b20050"
      },
      "source": [
        "process = CrawlerProcess({\n",
        "    'USER_AGENT': 'Mozilla/4.0 (compatible; MSIE 7.0; Windows NT 5.1)'\n",
        "})\n",
        "\n",
        "process.crawl(QuotesSpider)\n",
        "process.start()"
      ],
      "execution_count": 7,
      "outputs": [
        {
          "output_type": "stream",
          "text": [
            "2020-12-07 16:59:04 [scrapy.utils.log] INFO: Scrapy 2.4.1 started (bot: scrapybot)\n",
            "2020-12-07 16:59:04 [scrapy.utils.log] INFO: Versions: lxml 4.2.6.0, libxml2 2.9.8, cssselect 1.1.0, parsel 1.6.0, w3lib 1.22.0, Twisted 20.3.0, Python 3.6.9 (default, Oct  8 2020, 12:12:24) - [GCC 8.4.0], pyOpenSSL 20.0.0 (OpenSSL 1.1.1h  22 Sep 2020), cryptography 3.2.1, Platform Linux-4.19.112+-x86_64-with-Ubuntu-18.04-bionic\n",
            "2020-12-07 16:59:04 [scrapy.utils.log] DEBUG: Using reactor: twisted.internet.epollreactor.EPollReactor\n",
            "2020-12-07 16:59:04 [scrapy.crawler] INFO: Overridden settings:\n",
            "{'LOG_LEVEL': 30,\n",
            " 'USER_AGENT': 'Mozilla/4.0 (compatible; MSIE 7.0; Windows NT 5.1)'}\n",
            "/usr/local/lib/python3.6/dist-packages/scrapy/extensions/feedexport.py:247: ScrapyDeprecationWarning: The `FEED_URI` and `FEED_FORMAT` settings have been deprecated in favor of the `FEEDS` setting. Please see the `FEEDS` setting docs for more details\n",
            "  exporter = cls(crawler)\n"
          ],
          "name": "stderr"
        },
        {
          "output_type": "execute_result",
          "data": {
            "text/plain": [
              "<Deferred at 0x7fd5d599ddd8>"
            ]
          },
          "metadata": {
            "tags": []
          },
          "execution_count": 7
        }
      ]
    },
    {
      "cell_type": "code",
      "metadata": {
        "colab": {
          "base_uri": "https://localhost:8080/"
        },
        "id": "emXF-L_9NDxm",
        "outputId": "7bef373f-bb79-41d0-b9a8-48a07003cc13"
      },
      "source": [
        "ll quoteresult.*"
      ],
      "execution_count": 8,
      "outputs": [
        {
          "output_type": "stream",
          "text": [
            "-rw-r--r-- 1 root 30133 Dec  7 16:59 quoteresult.jl\n",
            "-rw-r--r-- 1 root 30235 Dec  7 16:59 quoteresult.json\n"
          ],
          "name": "stdout"
        }
      ]
    },
    {
      "cell_type": "code",
      "metadata": {
        "colab": {
          "base_uri": "https://localhost:8080/"
        },
        "id": "ljF6PAuhNGNo",
        "outputId": "1c64dd79-95be-4429-a46a-86cad124a73e"
      },
      "source": [
        "!tail -n 2 quoteresult.jl"
      ],
      "execution_count": 9,
      "outputs": [
        {
          "output_type": "stream",
          "text": [
            "{\"title\": \"Mascotte /\\u041c\\u044e\\u043b\\u0438\", \"price\": 1634, \"id\": [\"c7420065\"], \"character\": [], \"timestamp\": [], \"link \": [\"/catalog/7420065/detail.aspx?targetUrl=GP\"], \"size\": [], \"image\": [\" //static.wbstatic.net/i/blank.gif\", \"//images.wbstatic.net/c252x336/new/7420000/7420065-1.jpg\"]}\n",
            "{\"title\": \"Natali Collection /\\u041c\\u044e\\u043b\\u0438\", \"price\": 2646, \"id\": [\"c8156507\"], \"character\": [], \"timestamp\": [], \"link \": [\"/catalog/8156507/detail.aspx?targetUrl=GP\"], \"size\": [], \"image\": [\" //static.wbstatic.net/i/blank.gif\", \"//images.wbstatic.net/c252x336/new/8150000/8156507-1.jpg\"]}\n"
          ],
          "name": "stdout"
        }
      ]
    },
    {
      "cell_type": "code",
      "metadata": {
        "colab": {
          "base_uri": "https://localhost:8080/"
        },
        "id": "vBTlq8D2Sa0z",
        "outputId": "b00a7082-c895-43b5-c267-866556dd9549"
      },
      "source": [
        "!tail -n 2 quoteresult.json"
      ],
      "execution_count": 10,
      "outputs": [
        {
          "output_type": "stream",
          "text": [
            "{\"title\": \"Natali Collection /\\u041c\\u044e\\u043b\\u0438\", \"price\": 2646, \"id\": [\"c8156507\"], \"character\": [], \"timestamp\": [], \"link \": [\"/catalog/8156507/detail.aspx?targetUrl=GP\"], \"size\": [], \"image\": [\" //static.wbstatic.net/i/blank.gif\", \"//images.wbstatic.net/c252x336/new/8150000/8156507-1.jpg\"]}\n",
            "]"
          ],
          "name": "stdout"
        }
      ]
    }
  ]
}