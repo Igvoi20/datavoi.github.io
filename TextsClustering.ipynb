{
  "nbformat": 4,
  "nbformat_minor": 0,
  "metadata": {
    "colab": {
      "name": "Untitled12.ipynb",
      "provenance": [],
      "machine_shape": "hm",
      "authorship_tag": "ABX9TyPp2X56AhDbj1UacqSEar5+",
      "include_colab_link": true
    },
    "kernelspec": {
      "name": "python3",
      "display_name": "Python 3"
    }
  },
  "cells": [
    {
      "cell_type": "markdown",
      "metadata": {
        "id": "view-in-github",
        "colab_type": "text"
      },
      "source": [
        "<a href=\"https://colab.research.google.com/github/igorvojnyak/datavojnyak.github.io/blob/master/TextsClustering.ipynb\" target=\"_parent\"><img src=\"https://colab.research.google.com/assets/colab-badge.svg\" alt=\"Open In Colab\"/></a>"
      ]
    },
    {
      "cell_type": "code",
      "metadata": {
        "id": "zV65IB3V389I",
        "colab_type": "code",
        "colab": {
          "base_uri": "https://localhost:8080/",
          "height": 105
        },
        "outputId": "604e43e8-6713-4c87-e1fe-7d266da28694"
      },
      "source": [
        "pip install contractions"
      ],
      "execution_count": 2,
      "outputs": [
        {
          "output_type": "stream",
          "text": [
            "Requirement already satisfied: contractions in /usr/local/lib/python3.6/dist-packages (0.0.24)\n",
            "Requirement already satisfied: textsearch in /usr/local/lib/python3.6/dist-packages (from contractions) (0.0.17)\n",
            "Requirement already satisfied: Unidecode in /usr/local/lib/python3.6/dist-packages (from textsearch->contractions) (1.1.1)\n",
            "Requirement already satisfied: pyahocorasick in /usr/local/lib/python3.6/dist-packages (from textsearch->contractions) (1.4.0)\n"
          ],
          "name": "stdout"
        }
      ]
    },
    {
      "cell_type": "code",
      "metadata": {
        "id": "4HDs8J5N3uz5",
        "colab_type": "code",
        "colab": {
          "base_uri": "https://localhost:8080/",
          "height": 71
        },
        "outputId": "1909060e-b732-4188-cbcd-879a21abf73c"
      },
      "source": [
        "import numpy as np\n",
        "import pandas as pd\n",
        "import matplotlib.pyplot as plt\n",
        "import seaborn as sns\n",
        "sns.set_style('white')\n",
        "%matplotlib inline\n",
        "import spacy\n",
        "import pandas as pd\n",
        "import numpy as np\n",
        "from sklearn.cluster import KMeans\n",
        "import nltk\n",
        "from nltk.tokenize.toktok import ToktokTokenizer\n",
        "import re\n",
        "from bs4 import BeautifulSoup\n",
        "from contractions import contractions_dict\n",
        "import contractions\n",
        "import unicodedata\n",
        "import string\n",
        "from nltk.tokenize import word_tokenize\n",
        "from nltk.corpus import stopwords, wordnet\n",
        "from nltk.stem import WordNetLemmatizer"
      ],
      "execution_count": 3,
      "outputs": [
        {
          "output_type": "stream",
          "text": [
            "/usr/local/lib/python3.6/dist-packages/statsmodels/tools/_testing.py:19: FutureWarning: pandas.util.testing is deprecated. Use the functions in the public API at pandas.testing instead.\n",
            "  import pandas.util.testing as tm\n"
          ],
          "name": "stderr"
        }
      ]
    },
    {
      "cell_type": "code",
      "metadata": {
        "id": "KAIv6VP136d1",
        "colab_type": "code",
        "colab": {}
      },
      "source": [
        "data = pd.read_csv('/content/yelp.csv')\n",
        "data['length'] = data['text'].apply(len)\n",
        "data['length'] = data['length'].replace(0,np.nan)\n",
        "data['length'].isnull().sum()\n",
        "data = data.dropna(subset=['length'])"
      ],
      "execution_count": 0,
      "outputs": []
    },
    {
      "cell_type": "code",
      "metadata": {
        "id": "Y2xkaVhh4O9b",
        "colab_type": "code",
        "colab": {
          "base_uri": "https://localhost:8080/",
          "height": 301
        },
        "outputId": "aafa9d52-c77d-4781-bf69-af2346e4d666"
      },
      "source": [
        "data['length'].plot(bins=50, kind='hist') \n",
        "plt.xlabel('words', fontsize=15)\n",
        "plt.ylabel('length of words in 1 text', fontsize=10)"
      ],
      "execution_count": 5,
      "outputs": [
        {
          "output_type": "execute_result",
          "data": {
            "text/plain": [
              "Text(0, 0.5, 'length of words in 1 text')"
            ]
          },
          "metadata": {
            "tags": []
          },
          "execution_count": 5
        },
        {
          "output_type": "display_data",
          "data": {
            "image/png": "[encoded data removed]",
            "text/plain": [
              "<Figure size 432x288 with 1 Axes>"
            ]
          },
          "metadata": {
            "tags": [],
            "needs_background": "light"
          }
        }
      ]
    },
    {
      "cell_type": "code",
      "metadata": {
        "id": "0HYS5ns64O8e",
        "colab_type": "code",
        "colab": {}
      },
      "source": [
        "data['text'] = data['text'].apply(lambda x:[contractions.fix(word) for word in x.split()])"
      ],
      "execution_count": 0,
      "outputs": []
    },
    {
      "cell_type": "code",
      "metadata": {
        "id": "M7VV4uo64O3H",
        "colab_type": "code",
        "colab": {}
      },
      "source": [
        "data['text'] = [' '.join(map(str, l)) for l in data['text']]"
      ],
      "execution_count": 0,
      "outputs": []
    },
    {
      "cell_type": "code",
      "metadata": {
        "id": "v65-6FTj4OqQ",
        "colab_type": "code",
        "colab": {}
      },
      "source": [
        "def preprocessing(line):\n",
        "    line = line.lower()\n",
        "    line = re.sub(r\"[{}]\".format(string.punctuation), \" \", line)\n",
        "    return line"
      ],
      "execution_count": 0,
      "outputs": []
    },
    {
      "cell_type": "code",
      "metadata": {
        "id": "plljQQb34Onh",
        "colab_type": "code",
        "colab": {}
      },
      "source": [
        "data['text'] = data['text'].apply(preprocessing)"
      ],
      "execution_count": 0,
      "outputs": []
    },
    {
      "cell_type": "code",
      "metadata": {
        "id": "voyehFlt4OxX",
        "colab_type": "code",
        "colab": {
          "base_uri": "https://localhost:8080/",
          "height": 51
        },
        "outputId": "990301e5-23c4-40fb-da60-cb78fb8e7a0e"
      },
      "source": [
        "import nltk\n",
        "nltk.download('punkt')\n",
        "data['token'] = data['text'].apply(word_tokenize)"
      ],
      "execution_count": 10,
      "outputs": [
        {
          "output_type": "stream",
          "text": [
            "[nltk_data] Downloading package punkt to /root/nltk_data...\n",
            "[nltk_data]   Package punkt is already up-to-date!\n"
          ],
          "name": "stdout"
        }
      ]
    },
    {
      "cell_type": "code",
      "metadata": {
        "id": "ntaeY0z_4Oiq",
        "colab_type": "code",
        "colab": {}
      },
      "source": [
        "punc = string.punctuation\n",
        "data['text'] = data['token'].apply(lambda x: [word for word in x if word not in punc])  "
      ],
      "execution_count": 0,
      "outputs": []
    },
    {
      "cell_type": "code",
      "metadata": {
        "id": "BJFjxlODL0vJ",
        "colab_type": "code",
        "colab": {
          "base_uri": "https://localhost:8080/",
          "height": 204
        },
        "outputId": "8ec67ddc-14a2-47c8-aae9-40c3966e2a9a"
      },
      "source": [
        "data['text'][:10]"
      ],
      "execution_count": 12,
      "outputs": [
        {
          "output_type": "execute_result",
          "data": {
            "text/plain": [
              "0    [my, wife, took, me, here, on, my, birthday, f...\n",
              "1    [i, have, no, idea, why, some, people, give, b...\n",
              "2    [love, the, gyro, plate, rice, is, so, good, a...\n",
              "3    [rosie, dakota, and, i, love, chaparral, dog, ...\n",
              "4    [general, manager, scott, petello, is, a, good...\n",
              "5    [quiessence, is, simply, put, beautiful, full,...\n",
              "6    [drop, what, you, are, doing, and, drive, here...\n",
              "7    [luckily, i, did, not, have, to, travel, far, ...\n",
              "8    [definitely, come, for, happy, hour, prices, a...\n",
              "9    [nobuo, shows, his, unique, talents, with, eve...\n",
              "Name: text, dtype: object"
            ]
          },
          "metadata": {
            "tags": []
          },
          "execution_count": 12
        }
      ]
    },
    {
      "cell_type": "code",
      "metadata": {
        "id": "zoD8cVJZL0s3",
        "colab_type": "code",
        "colab": {
          "base_uri": "https://localhost:8080/",
          "height": 51
        },
        "outputId": "7c0a4439-fbbe-48e4-981e-42a604936899"
      },
      "source": [
        " import nltk\n",
        "nltk.download('stopwords')\n",
        "stop_words = set(stopwords.words('english'))\n",
        "data['text'] = data['text'].apply(lambda x: [word for word in x if word not in stop_words])"
      ],
      "execution_count": 13,
      "outputs": [
        {
          "output_type": "stream",
          "text": [
            "[nltk_data] Downloading package stopwords to /root/nltk_data...\n",
            "[nltk_data]   Package stopwords is already up-to-date!\n"
          ],
          "name": "stdout"
        }
      ]
    },
    {
      "cell_type": "code",
      "metadata": {
        "id": "Oc87TQ4QMYCh",
        "colab_type": "code",
        "colab": {}
      },
      "source": [
        "data = data.copy()\n",
        "def remove_num(text):\n",
        "    return(''.join(ch for ch in text if not ch.isdigit()))"
      ],
      "execution_count": 0,
      "outputs": []
    },
    {
      "cell_type": "code",
      "metadata": {
        "id": "dQrt-TdtL0nF",
        "colab_type": "code",
        "colab": {
          "base_uri": "https://localhost:8080/",
          "height": 85
        },
        "outputId": "7ed7f4d6-2525-4091-bd9f-444c0adf15cc"
      },
      "source": [
        "import nltk\n",
        "nltk.download('averaged_perceptron_tagger')\n",
        "data['pos_tags'] = data['text'].apply(nltk.pos_tag)"
      ],
      "execution_count": 15,
      "outputs": [
        {
          "output_type": "stream",
          "text": [
            "[nltk_data] Downloading package averaged_perceptron_tagger to\n",
            "[nltk_data]     /root/nltk_data...\n",
            "[nltk_data]   Package averaged_perceptron_tagger is already up-to-\n",
            "[nltk_data]       date!\n"
          ],
          "name": "stdout"
        }
      ]
    },
    {
      "cell_type": "code",
      "metadata": {
        "id": "TgMJXJFMNc_t",
        "colab_type": "code",
        "colab": {}
      },
      "source": [
        "def get_wordnet_pos(tag):\n",
        "    if tag.startswith('J'):\n",
        "        return(wordnet.ADJ)\n",
        "    elif tag.startswith('V'):\n",
        "        return(wordnet.VERB)\n",
        "    elif tag.startswith('N'):\n",
        "        return(wordnet.NOUN)\n",
        "    elif tag.startswith('R'):\n",
        "        return(wordnet.ADV)\n",
        "    else:\n",
        "        return(wordnet.NOUN)"
      ],
      "execution_count": 0,
      "outputs": []
    },
    {
      "cell_type": "code",
      "metadata": {
        "id": "l-PLBG7kNe2a",
        "colab_type": "code",
        "colab": {
          "base_uri": "https://localhost:8080/",
          "height": 51
        },
        "outputId": "cce822fb-0ce3-41a8-c565-93839acddbbf"
      },
      "source": [
        "import nltk\n",
        "nltk.download('wordnet')\n",
        "data['wordnet_pos'] = data['pos_tags'].apply(lambda x:[(word, (get_wordnet_pos(pos_tag))) for (word, pos_tag) in x])"
      ],
      "execution_count": 17,
      "outputs": [
        {
          "output_type": "stream",
          "text": [
            "[nltk_data] Downloading package wordnet to /root/nltk_data...\n",
            "[nltk_data]   Package wordnet is already up-to-date!\n"
          ],
          "name": "stdout"
        }
      ]
    },
    {
      "cell_type": "code",
      "metadata": {
        "id": "Mmjrd2n4NjHO",
        "colab_type": "code",
        "colab": {}
      },
      "source": [
        "wnl  = WordNetLemmatizer()\n",
        "data['lemmatized'] = data['wordnet_pos'].apply(lambda x:[wnl.lemmatize(word, get_wordnet_pos(tag)) for word, tag in x])"
      ],
      "execution_count": 0,
      "outputs": []
    },
    {
      "cell_type": "code",
      "metadata": {
        "id": "RIzj_DgzUdzY",
        "colab_type": "code",
        "colab": {}
      },
      "source": [
        "data['text_str'] = [' '.join(map(str, l)) for l in data['lemmatized']]"
      ],
      "execution_count": 0,
      "outputs": []
    },
    {
      "cell_type": "code",
      "metadata": {
        "id": "d9KrnS0N502U",
        "colab_type": "code",
        "colab": {
          "base_uri": "https://localhost:8080/",
          "height": 204
        },
        "outputId": "76139484-441d-470a-ba88-33294881281d"
      },
      "source": [
        "data['text_str'][:10]"
      ],
      "execution_count": 20,
      "outputs": [
        {
          "output_type": "execute_result",
          "data": {
            "text/plain": [
              "0    wife took birthday breakfast excellent weather...\n",
              "1    idea people give bad review place go show plea...\n",
              "2    love gyro plate rice good also dig candy selec...\n",
              "3    rosie dakota love chaparral dog park convenien...\n",
              "4    general manager scott petello good egg go deta...\n",
              "5    quiessence simply put beautiful full window ea...\n",
              "6    drop drive ate go back next day food good cute...\n",
              "7    luckily travel far make connecting flight than...\n",
              "8    definitely come happy hour price amazing sake ...\n",
              "9    nobuo show unique talent everything menu caref...\n",
              "Name: text_str, dtype: object"
            ]
          },
          "metadata": {
            "tags": []
          },
          "execution_count": 20
        }
      ]
    },
    {
      "cell_type": "code",
      "metadata": {
        "id": "GdyiTWw0V16l",
        "colab_type": "code",
        "colab": {}
      },
      "source": [
        "from textblob import TextBlob"
      ],
      "execution_count": 0,
      "outputs": []
    },
    {
      "cell_type": "code",
      "metadata": {
        "id": "B6mLc9oQUfRq",
        "colab_type": "code",
        "colab": {}
      },
      "source": [
        "data['sentiment'] = data['text_str'].apply(lambda x: TextBlob(x).sentiment.polarity)"
      ],
      "execution_count": 0,
      "outputs": []
    },
    {
      "cell_type": "code",
      "metadata": {
        "id": "vXdZYXPAW9rZ",
        "colab_type": "code",
        "colab": {
          "base_uri": "https://localhost:8080/",
          "height": 221
        },
        "outputId": "f69ef84c-1de2-4907-8057-8684b9e65768"
      },
      "source": [
        "data['sentiment']"
      ],
      "execution_count": 23,
      "outputs": [
        {
          "output_type": "execute_result",
          "data": {
            "text/plain": [
              "0       0.425333\n",
              "1       0.170000\n",
              "2       0.600000\n",
              "3       0.566667\n",
              "4       0.361111\n",
              "          ...   \n",
              "9995    0.231731\n",
              "9996    0.375541\n",
              "9997    0.292460\n",
              "9998   -0.112500\n",
              "9999    0.245455\n",
              "Name: sentiment, Length: 10000, dtype: float64"
            ]
          },
          "metadata": {
            "tags": []
          },
          "execution_count": 23
        }
      ]
    },
    {
      "cell_type": "code",
      "metadata": {
        "id": "9CRYiAVAYW86",
        "colab_type": "code",
        "colab": {
          "base_uri": "https://localhost:8080/",
          "height": 603
        },
        "outputId": "f436d6c3-b1b7-4b31-f781-828c9b894b99"
      },
      "source": [
        "plt.figure(figsize=(20,15))\n",
        "plt.margins(0.01)\n",
        "plt.xlabel('sentiment', fontsize=30)\n",
        "plt.xticks(fontsize=40)\n",
        "plt.ylabel('Frequence', fontsize=30)\n",
        "plt.yticks(fontsize=40)\n",
        "plt.hist(data['sentiment'], bins=30)\n",
        "plt.title('Sentiment_disribution', fontsize=30)\n",
        "plt.show()"
      ],
      "execution_count": 24,
      "outputs": [
        {
          "output_type": "display_data",
          "data": {
            "image/png": "[encoded data removed]",
            "text/plain": [
              "<Figure size 1440x1080 with 1 Axes>"
            ]
          },
          "metadata": {
            "tags": [],
            "needs_background": "light"
          }
        }
      ]
    },
    {
      "cell_type": "code",
      "metadata": {
        "id": "uVfj4bt-YW2x",
        "colab_type": "code",
        "colab": {}
      },
      "source": [
        "data['count_words'] = data['lemmatized'].astype(str).apply(len)"
      ],
      "execution_count": 0,
      "outputs": []
    },
    {
      "cell_type": "code",
      "metadata": {
        "id": "Z-depfmLbV6G",
        "colab_type": "code",
        "colab": {
          "base_uri": "https://localhost:8080/",
          "height": 419
        },
        "outputId": "243ed7b3-0312-4023-8228-ee4bb5a313de"
      },
      "source": [
        "data[['count_words','lemmatized']]"
      ],
      "execution_count": 26,
      "outputs": [
        {
          "output_type": "execute_result",
          "data": {
            "text/html": [
              "<div>\n",
              "<style scoped>\n",
              "    .dataframe tbody tr th:only-of-type {\n",
              "        vertical-align: middle;\n",
              "    }\n",
              "\n",
              "    .dataframe tbody tr th {\n",
              "        vertical-align: top;\n",
              "    }\n",
              "\n",
              "    .dataframe thead th {\n",
              "        text-align: right;\n",
              "    }\n",
              "</style>\n",
              "<table border=\"1\" class=\"dataframe\">\n",
              "  <thead>\n",
              "    <tr style=\"text-align: right;\">\n",
              "      <th></th>\n",
              "      <th>count_words</th>\n",
              "      <th>lemmatized</th>\n",
              "    </tr>\n",
              "  </thead>\n",
              "  <tbody>\n",
              "    <tr>\n",
              "      <th>0</th>\n",
              "      <td>776</td>\n",
              "      <td>[wife, took, birthday, breakfast, excellent, w...</td>\n",
              "    </tr>\n",
              "    <tr>\n",
              "      <th>1</th>\n",
              "      <td>1079</td>\n",
              "      <td>[idea, people, give, bad, review, place, go, s...</td>\n",
              "    </tr>\n",
              "    <tr>\n",
              "      <th>2</th>\n",
              "      <td>78</td>\n",
              "      <td>[love, gyro, plate, rice, good, also, dig, can...</td>\n",
              "    </tr>\n",
              "    <tr>\n",
              "      <th>3</th>\n",
              "      <td>405</td>\n",
              "      <td>[rosie, dakota, love, chaparral, dog, park, co...</td>\n",
              "    </tr>\n",
              "    <tr>\n",
              "      <th>4</th>\n",
              "      <td>373</td>\n",
              "      <td>[general, manager, scott, petello, good, egg, ...</td>\n",
              "    </tr>\n",
              "    <tr>\n",
              "      <th>...</th>\n",
              "      <td>...</td>\n",
              "      <td>...</td>\n",
              "    </tr>\n",
              "    <tr>\n",
              "      <th>9995</th>\n",
              "      <td>598</td>\n",
              "      <td>[first, visit, lunch, today, used, groupon, or...</td>\n",
              "    </tr>\n",
              "    <tr>\n",
              "      <th>9996</th>\n",
              "      <td>825</td>\n",
              "      <td>[called, house, deliciousness, could, go, item...</td>\n",
              "    </tr>\n",
              "    <tr>\n",
              "      <th>9997</th>\n",
              "      <td>1288</td>\n",
              "      <td>[recently, visited, olive, ivy, business, last...</td>\n",
              "    </tr>\n",
              "    <tr>\n",
              "      <th>9998</th>\n",
              "      <td>768</td>\n",
              "      <td>[nephew, moved, scottsdale, recently, bunch, f...</td>\n",
              "    </tr>\n",
              "    <tr>\n",
              "      <th>9999</th>\n",
              "      <td>462</td>\n",
              "      <td>[4, 5, location, 4, 5, star, average, think, a...</td>\n",
              "    </tr>\n",
              "  </tbody>\n",
              "</table>\n",
              "<p>10000 rows × 2 columns</p>\n",
              "</div>"
            ],
            "text/plain": [
              "      count_words                                         lemmatized\n",
              "0             776  [wife, took, birthday, breakfast, excellent, w...\n",
              "1            1079  [idea, people, give, bad, review, place, go, s...\n",
              "2              78  [love, gyro, plate, rice, good, also, dig, can...\n",
              "3             405  [rosie, dakota, love, chaparral, dog, park, co...\n",
              "4             373  [general, manager, scott, petello, good, egg, ...\n",
              "...           ...                                                ...\n",
              "9995          598  [first, visit, lunch, today, used, groupon, or...\n",
              "9996          825  [called, house, deliciousness, could, go, item...\n",
              "9997         1288  [recently, visited, olive, ivy, business, last...\n",
              "9998          768  [nephew, moved, scottsdale, recently, bunch, f...\n",
              "9999          462  [4, 5, location, 4, 5, star, average, think, a...\n",
              "\n",
              "[10000 rows x 2 columns]"
            ]
          },
          "metadata": {
            "tags": []
          },
          "execution_count": 26
        }
      ]
    },
    {
      "cell_type": "code",
      "metadata": {
        "id": "nUm1vEKX4RTq",
        "colab_type": "code",
        "colab": {
          "base_uri": "https://localhost:8080/",
          "height": 187
        },
        "outputId": "07944442-538e-4c55-c509-388aec330aba"
      },
      "source": [
        "words = data['lemmatized']\n",
        "all_words = []\n",
        "for wordlist in words:\n",
        "    all_words += wordlist\n",
        "print(all_words)\n",
        "    "
      ],
      "execution_count": 27,
      "outputs": [
        {
          "output_type": "stream",
          "text": [
            "IOPub data rate exceeded.\n",
            "The notebook server will temporarily stop sending output\n",
            "to the client in order to avoid crashing it.\n",
            "To change this limit, set the config variable\n",
            "`--NotebookApp.iopub_data_rate_limit`.\n",
            "\n",
            "Current values:\n",
            "NotebookApp.iopub_data_rate_limit=1000000.0 (bytes/sec)\n",
            "NotebookApp.rate_limit_window=3.0 (secs)\n",
            "\n"
          ],
          "name": "stderr"
        }
      ]
    },
    {
      "cell_type": "code",
      "metadata": {
        "id": "4V8YY5wX4RJo",
        "colab_type": "code",
        "colab": {
          "base_uri": "https://localhost:8080/",
          "height": 265
        },
        "outputId": "c5281785-7976-428c-e5b9-56435eca3e60"
      },
      "source": [
        "from nltk.probability import FreqDist\n",
        "common_words = FreqDist(all_words).most_common(12)\n",
        "x, y = zip(*common_words)\n",
        "plt.margins(0.08)\n",
        "plt.bar(x, y)\n",
        "plt.ylabel('Частота слов', fontsize = 10)\n",
        "plt.show()"
      ],
      "execution_count": 28,
      "outputs": [
        {
          "output_type": "display_data",
          "data": {
            "image/png": "[encoded data removed]",
            "text/plain": [
              "<Figure size 432x288 with 1 Axes>"
            ]
          },
          "metadata": {
            "tags": [],
            "needs_background": "light"
          }
        }
      ]
    },
    {
      "cell_type": "code",
      "metadata": {
        "id": "4rUq26DGRsuB",
        "colab_type": "code",
        "colab": {}
      },
      "source": [
        "from sklearn.feature_extraction.text import CountVectorizer, TfidfVectorizer\n",
        "cv = CountVectorizer()\n",
        "matrix1 = cv.fit_transform(data.text_str)\n",
        "#matrix_names = vectorizer1.get_feature_names()"
      ],
      "execution_count": 0,
      "outputs": []
    },
    {
      "cell_type": "code",
      "metadata": {
        "id": "wC0PqZgO3YAd",
        "colab_type": "code",
        "colab": {}
      },
      "source": [
        "tfid_vc = TfidfVectorizer(max_df=500, min_df=10, use_idf=True)\n",
        "matrix = tfid_vc.fit_transform(data.text_str)\n",
        "tv_matrix = matrix.toarray()\n",
        "vocab = tfid_vc.get_feature_names()\n",
        "#pd.DataFrame(np.round(tv_matrix, 2), columns=vocab)"
      ],
      "execution_count": 0,
      "outputs": []
    },
    {
      "cell_type": "code",
      "metadata": {
        "id": "Xni9VmZq25H3",
        "colab_type": "code",
        "colab": {}
      },
      "source": [
        "vocab = vectorizer.get_feature_names()\n",
        "pd.DataFrame(preds, columns=vocab)"
      ],
      "execution_count": 0,
      "outputs": []
    },
    {
      "cell_type": "code",
      "metadata": {
        "id": "ua3IwANo4czz",
        "colab_type": "code",
        "colab": {
          "base_uri": "https://localhost:8080/",
          "height": 295
        },
        "outputId": "26d6297c-eab1-4a1c-f0e9-0f4ad68a482e"
      },
      "source": [
        "Nc = range(1, 10)\n",
        "kmeans = [KMeans(n_clusters=i) for i in Nc]\n",
        "kmeans\n",
        "score = [kmeans[i].fit(matrix1.toarray()).score(matrix1.toarray()) for i in range(len(kmeans))]\n",
        "score\n",
        "plt.plot(Nc,score)\n",
        "plt.xlabel('Number of Clusters')\n",
        "plt.ylabel('Score')\n",
        "plt.title('Elbow Curve')\n",
        "plt.show()"
      ],
      "execution_count": 34,
      "outputs": [
        {
          "output_type": "display_data",
          "data": {
            "image/png": "[encoded data removed]",
            "text/plain": [
              "<Figure size 432x288 with 1 Axes>"
            ]
          },
          "metadata": {
            "tags": [],
            "needs_background": "light"
          }
        }
      ]
    },
    {
      "cell_type": "code",
      "metadata": {
        "id": "7uINfUAGHw7k",
        "colab_type": "code",
        "colab": {
          "base_uri": "https://localhost:8080/",
          "height": 34
        },
        "outputId": "360d28ce-240d-4f44-85fb-c2f5e9c2439b"
      },
      "source": [
        "from sklearn.cluster import KMeans\n",
        "from sklearn.decomposition import TruncatedSVD\n",
        "model = KMeans(n_clusters=5, random_state=42)\n",
        "svd = TruncatedSVD(n_components=1000, random_state=321)\n",
        "features = svd.fit_transform(matrix1.toarray())\n",
        "preds = model.fit_predict(features)\n",
        "print(list(preds))\n",
        "#print(dataset.target)"
      ],
      "execution_count": 33,
      "outputs": [
        {
          "output_type": "stream",
          "text": [
            "[3 0 4 ... 2 4 4]\n"
          ],
          "name": "stdout"
        }
      ]
    },
    {
      "cell_type": "code",
      "metadata": {
        "id": "L5v8aookqDQk",
        "colab_type": "code",
        "colab": {
          "base_uri": "https://localhost:8080/",
          "height": 54
        },
        "outputId": "68472911-8a83-4667-a3e5-24904116a251"
      },
      "source": [
        "print(list(preds))"
      ],
      "execution_count": 35,
      "outputs": [
        {
          "output_type": "stream",
          "text": [
            "[3, 0, 4, 4, 4, 2, 2, 4, 4, 4, 4, 4, 4, 4, 3, 4, 2, 4, 2, 4, 3, 4, 4, 4, 4, 0, 3, 3, 3, 4, 3, 4, 0, 3, 3, 3, 3, 4, 3, 4, 3, 4, 4, 4, 4, 4, 4, 4, 4, 1, 2, 4, 0, 4, 2, 1, 1, 4, 4, 3, 4, 4, 3, 4, 4, 4, 4, 4, 4, 4, 3, 0, 4, 2, 0, 3, 3, 4, 4, 4, 2, 3, 0, 3, 1, 4, 0, 4, 4, 3, 4, 4, 4, 4, 4, 4, 4, 4, 4, 3, 4, 4, 4, 2, 4, 4, 4, 4, 4, 2, 4, 3, 4, 2, 4, 2, 3, 4, 4, 3, 4, 3, 4, 2, 4, 4, 2, 4, 4, 0, 3, 3, 4, 4, 2, 4, 4, 0, 3, 4, 4, 2, 4, 4, 3, 4, 0, 4, 4, 4, 4, 3, 0, 4, 2, 3, 3, 4, 4, 4, 3, 0, 4, 0, 3, 4, 4, 4, 3, 0, 4, 4, 4, 3, 2, 4, 4, 3, 4, 4, 3, 4, 2, 2, 4, 4, 3, 3, 0, 4, 4, 4, 3, 2, 4, 3, 2, 3, 0, 4, 4, 4, 4, 2, 3, 3, 4, 3, 3, 4, 4, 3, 3, 4, 3, 4, 2, 4, 0, 4, 0, 3, 4, 0, 3, 4, 0, 4, 3, 4, 1, 3, 4, 4, 4, 0, 2, 0, 3, 0, 4, 3, 4, 4, 4, 4, 3, 4, 3, 3, 4, 2, 4, 4, 4, 2, 4, 3, 4, 3, 4, 4, 0, 4, 4, 4, 4, 4, 4, 4, 4, 3, 4, 2, 0, 1, 4, 3, 4, 4, 4, 2, 4, 2, 4, 4, 0, 3, 4, 0, 4, 0, 4, 3, 0, 3, 0, 4, 3, 3, 4, 4, 4, 4, 1, 4, 4, 4, 4, 2, 3, 4, 3, 4, 2, 4, 3, 0, 4, 3, 3, 4, 3, 4, 3, 4, 0, 0, 1, 0, 4, 0, 2, 4, 3, 3, 4, 4, 4, 4, 4, 0, 4, 3, 3, 2, 3, 4, 4, 3, 3, 4, 4, 2, 3, 4, 4, 4, 4, 2, 4, 4, 4, 3, 4, 2, 1, 4, 3, 4, 4, 2, 3, 2, 4, 3, 4, 3, 4, 4, 4, 4, 0, 0, 4, 4, 4, 2, 4, 3, 4, 3, 4, 0, 0, 4, 4, 3, 3, 4, 3, 4, 0, 1, 4, 4, 0, 4, 4, 4, 4, 2, 4, 3, 4, 4, 4, 3, 3, 3, 4, 4, 4, 4, 4, 3, 3, 2, 2, 4, 4, 0, 4, 4, 4, 4, 0, 1, 4, 4, 4, 2, 4, 0, 0, 4, 4, 4, 4, 0, 4, 3, 2, 3, 2, 3, 3, 4, 4, 4, 3, 3, 4, 4, 4, 0, 4, 1, 2, 0, 2, 3, 4, 4, 0, 2, 4, 4, 3, 4, 4, 4, 2, 3, 3, 0, 3, 4, 0, 0, 3, 4, 3, 4, 3, 4, 3, 4, 3, 4, 4, 4, 3, 4, 3, 3, 3, 0, 4, 4, 4, 0, 3, 0, 3, 4, 4, 4, 4, 4, 0, 2, 4, 4, 3, 0, 3, 4, 4, 0, 4, 2, 0, 4, 4, 2, 4, 4, 4, 4, 4, 4, 0, 4, 4, 4, 4, 4, 3, 4, 2, 4, 3, 3, 4, 4, 2, 4, 2, 2, 1, 4, 2, 4, 3, 4, 4, 0, 0, 4, 3, 4, 4, 3, 4, 3, 3, 3, 4, 4, 4, 4, 4, 4, 0, 4, 3, 3, 3, 3, 4, 3, 4, 2, 4, 4, 2, 4, 4, 3, 3, 4, 3, 3, 3, 4, 4, 0, 4, 4, 4, 0, 4, 2, 0, 4, 0, 4, 0, 4, 4, 4, 2, 4, 2, 4, 4, 4, 3, 1, 4, 2, 0, 2, 4, 0, 2, 2, 4, 4, 3, 3, 4, 3, 3, 3, 4, 3, 4, 4, 4, 4, 4, 3, 4, 4, 4, 1, 4, 4, 0, 4, 0, 4, 3, 2, 4, 0, 4, 3, 4, 3, 4, 3, 4, 2, 0, 0, 0, 4, 4, 2, 3, 2, 3, 0, 4, 1, 2, 0, 4, 3, 4, 4, 4, 4, 0, 4, 4, 4, 4, 3, 4, 3, 4, 1, 3, 0, 2, 4, 4, 4, 3, 4, 4, 4, 3, 3, 3, 2, 3, 4, 4, 4, 0, 4, 3, 4, 4, 4, 4, 0, 4, 1, 1, 4, 0, 4, 3, 3, 4, 3, 4, 3, 2, 0, 4, 0, 4, 4, 4, 0, 4, 3, 4, 0, 4, 0, 4, 4, 3, 4, 4, 3, 4, 1, 4, 4, 0, 4, 3, 4, 2, 4, 0, 0, 4, 4, 0, 3, 4, 0, 4, 4, 4, 4, 4, 3, 3, 4, 4, 0, 0, 4, 4, 4, 4, 3, 4, 4, 3, 0, 4, 4, 0, 4, 2, 4, 2, 3, 4, 4, 3, 2, 4, 3, 4, 4, 4, 4, 0, 4, 4, 4, 0, 4, 3, 0, 0, 3, 3, 4, 4, 3, 4, 3, 4, 4, 0, 4, 4, 4, 2, 3, 4, 4, 4, 1, 4, 3, 3, 0, 3, 2, 4, 4, 3, 4, 4, 4, 0, 3, 0, 4, 2, 4, 0, 4, 4, 0, 4, 4, 3, 4, 4, 4, 4, 3, 4, 3, 3, 4, 3, 4, 3, 0, 4, 3, 4, 3, 3, 4, 4, 3, 0, 0, 4, 4, 3, 0, 4, 4, 2, 4, 3, 4, 3, 4, 4, 4, 4, 3, 4, 4, 2, 3, 4, 4, 2, 2, 3, 0, 3, 4, 4, 0, 0, 4, 4, 4, 4, 0, 4, 1, 3, 1, 3, 3, 3, 4, 4, 3, 0, 4, 0, 4, 3, 3, 3, 4, 4, 4, 4, 3, 2, 4, 3, 3, 3, 4, 4, 2, 3, 2, 4, 0, 4, 3, 4, 3, 4, 4, 4, 4, 2, 4, 4, 4, 2, 4, 3, 4, 4, 3, 1, 4, 4, 4, 4, 3, 4, 4, 4, 3, 0, 4, 0, 4, 3, 4, 4, 4, 4, 4, 4, 4, 0, 4, 3, 0, 3, 4, 3, 4, 4, 2, 3, 3, 4, 3, 4, 0, 0, 0, 0, 0, 2, 3, 4, 2, 4, 4, 3, 3, 4, 4, 4, 4, 4, 4, 4, 4, 4, 2, 2, 4, 4, 4, 3, 3, 0, 4, 2, 0, 4, 3, 2, 4, 4, 0, 3, 4, 3, 4, 4, 0, 4, 2, 4, 4, 3, 3, 2, 2, 4, 4, 0, 3, 4, 2, 3, 3, 3, 3, 3, 0, 3, 3, 4, 3, 4, 3, 4, 4, 4, 4, 4, 4, 3, 2, 0, 4, 3, 0, 4, 4, 3, 0, 3, 3, 4, 3, 2, 4, 0, 1, 4, 4, 3, 3, 4, 4, 3, 4, 4, 0, 3, 3, 0, 4, 3, 4, 4, 4, 4, 3, 4, 4, 4, 3, 4, 3, 3, 3, 4, 4, 3, 3, 3, 4, 0, 4, 0, 3, 2, 2, 3, 3, 4, 3, 3, 4, 2, 0, 0, 2, 3, 4, 2, 4, 4, 0, 4, 4, 1, 4, 4, 4, 3, 4, 4, 0, 1, 3, 4, 0, 3, 3, 4, 3, 3, 3, 3, 4, 3, 2, 4, 3, 3, 4, 3, 3, 0, 4, 4, 4, 0, 0, 4, 2, 4, 3, 0, 3, 4, 4, 0, 2, 2, 4, 4, 3, 4, 4, 2, 3, 3, 3, 2, 4, 4, 4, 2, 0, 0, 3, 2, 4, 3, 4, 4, 4, 4, 4, 0, 3, 3, 3, 3, 3, 4, 0, 2, 4, 3, 0, 4, 4, 4, 3, 3, 3, 4, 3, 2, 4, 0, 3, 4, 4, 4, 4, 3, 2, 4, 4, 3, 4, 4, 2, 4, 4, 4, 4, 2, 4, 4, 4, 4, 4, 4, 4, 3, 4, 2, 2, 4, 2, 4, 4, 4, 4, 3, 4, 3, 0, 4, 4, 3, 4, 4, 4, 4, 4, 4, 0, 4, 3, 4, 3, 3, 4, 4, 4, 2, 2, 0, 4, 3, 0, 2, 4, 4, 0, 2, 0, 3, 4, 4, 3, 4, 4, 4, 3, 0, 3, 4, 3, 4, 4, 4, 1, 3, 2, 3, 3, 4, 4, 4, 4, 4, 4, 3, 4, 4, 4, 2, 3, 2, 0, 4, 4, 4, 4, 2, 3, 3, 4, 4, 4, 4, 3, 3, 0, 4, 3, 4, 4, 0, 2, 2, 0, 4, 3, 3, 4, 4, 3, 4, 2, 3, 3, 2, 4, 4, 4, 2, 4, 3, 0, 4, 4, 3, 4, 4, 3, 4, 0, 3, 3, 4, 0, 2, 4, 4, 4, 4, 4, 0, 4, 3, 3, 3, 3, 4, 4, 4, 4, 4, 4, 4, 4, 2, 4, 3, 4, 0, 4, 3, 4, 4, 4, 0, 4, 4, 4, 4, 0, 4, 0, 3, 2, 4, 3, 4, 2, 4, 4, 4, 2, 3, 0, 2, 4, 4, 4, 0, 4, 4, 4, 3, 0, 3, 4, 3, 4, 4, 2, 3, 4, 3, 2, 4, 4, 0, 4, 4, 3, 2, 2, 3, 3, 4, 4, 3, 2, 4, 1, 4, 4, 3, 4, 2, 1, 4, 3, 3, 4, 4, 4, 3, 4, 4, 0, 3, 4, 4, 4, 4, 4, 4, 4, 2, 4, 0, 4, 0, 4, 3, 2, 3, 4, 3, 4, 3, 4, 4, 4, 0, 2, 4, 4, 4, 2, 3, 3, 4, 4, 3, 4, 4, 4, 4, 2, 3, 4, 4, 4, 3, 4, 1, 3, 4, 3, 4, 3, 2, 0, 3, 3, 4, 3, 3, 4, 0, 3, 4, 3, 4, 4, 3, 4, 4, 2, 4, 4, 3, 4, 4, 1, 4, 0, 3, 4, 2, 4, 4, 1, 3, 4, 4, 4, 4, 3, 3, 0, 4, 4, 4, 4, 3, 3, 3, 4, 3, 4, 4, 4, 4, 2, 4, 4, 3, 0, 2, 4, 4, 3, 4, 0, 4, 3, 4, 4, 4, 1, 4, 4, 4, 4, 3, 3, 4, 4, 4, 4, 1, 4, 3, 4, 4, 4, 4, 4, 0, 0, 3, 3, 4, 3, 3, 1, 3, 4, 2, 3, 4, 3, 4, 4, 3, 4, 4, 4, 4, 0, 1, 4, 4, 2, 4, 4, 4, 4, 2, 1, 3, 4, 2, 4, 4, 3, 3, 4, 4, 4, 4, 2, 3, 4, 3, 4, 3, 4, 2, 3, 3, 4, 0, 3, 4, 4, 0, 3, 2, 2, 3, 4, 4, 4, 3, 4, 3, 4, 0, 4, 4, 0, 4, 4, 4, 2, 3, 3, 4, 0, 4, 4, 4, 3, 3, 4, 0, 4, 3, 4, 4, 3, 3, 3, 2, 2, 3, 4, 0, 4, 0, 3, 4, 2, 4, 4, 4, 4, 0, 4, 4, 4, 0, 4, 4, 4, 4, 3, 4, 3, 4, 4, 4, 2, 2, 2, 3, 4, 4, 4, 4, 4, 2, 1, 4, 4, 0, 3, 3, 4, 2, 3, 4, 4, 4, 4, 0, 4, 4, 3, 4, 3, 0, 0, 3, 4, 2, 3, 4, 0, 2, 4, 4, 1, 3, 0, 0, 4, 3, 4, 4, 4, 4, 4, 4, 3, 0, 4, 3, 2, 4, 3, 4, 4, 4, 4, 4, 1, 4, 4, 4, 4, 4, 4, 4, 3, 4, 4, 4, 4, 3, 3, 4, 3, 1, 3, 4, 4, 2, 4, 4, 4, 3, 4, 3, 4, 2, 4, 2, 4, 0, 4, 2, 2, 3, 2, 0, 3, 4, 4, 4, 0, 4, 2, 4, 1, 0, 2, 1, 3, 3, 3, 3, 0, 4, 2, 3, 4, 4, 0, 2, 1, 3, 4, 4, 1, 4, 4, 3, 4, 4, 0, 4, 2, 4, 2, 4, 1, 4, 3, 4, 4, 4, 4, 2, 2, 4, 3, 4, 4, 3, 3, 4, 4, 4, 4, 3, 3, 2, 2, 4, 4, 4, 3, 3, 2, 0, 4, 4, 4, 4, 4, 2, 2, 2, 3, 2, 4, 4, 0, 3, 4, 0, 3, 3, 4, 3, 4, 2, 4, 2, 0, 3, 4, 2, 4, 3, 4, 4, 3, 3, 4, 4, 2, 4, 4, 0, 3, 4, 3, 4, 4, 4, 4, 0, 4, 2, 0, 4, 4, 4, 4, 3, 4, 2, 3, 4, 2, 4, 3, 3, 3, 4, 0, 4, 3, 0, 4, 0, 2, 3, 4, 4, 4, 3, 4, 0, 4, 4, 4, 2, 4, 4, 2, 4, 4, 4, 3, 3, 4, 2, 3, 4, 2, 4, 4, 3, 4, 4, 0, 4, 3, 4, 0, 2, 2, 2, 4, 4, 4, 0, 3, 4, 4, 4, 0, 3, 3, 4, 4, 4, 4, 3, 4, 4, 4, 4, 3, 4, 0, 4, 4, 0, 4, 4, 4, 3, 0, 3, 3, 1, 0, 3, 2, 4, 4, 3, 2, 2, 2, 4, 4, 4, 3, 2, 3, 3, 2, 4, 2, 3, 0, 1, 4, 2, 2, 4, 4, 3, 1, 3, 3, 0, 4, 4, 4, 4, 4, 3, 0, 3, 1, 1, 4, 3, 4, 3, 4, 4, 3, 4, 0, 4, 4, 4, 4, 4, 3, 2, 0, 3, 4, 4, 0, 4, 3, 4, 3, 2, 3, 4, 2, 2, 4, 1, 4, 4, 3, 0, 0, 4, 4, 2, 0, 2, 4, 0, 3, 0, 4, 4, 4, 3, 4, 4, 4, 0, 3, 4, 3, 1, 4, 4, 4, 4, 0, 3, 2, 4, 4, 2, 4, 3, 4, 4, 2, 4, 4, 4, 0, 4, 3, 3, 4, 4, 4, 0, 4, 0, 4, 4, 0, 4, 4, 4, 4, 4, 4, 3, 4, 2, 4, 4, 2, 4, 3, 4, 4, 4, 4, 4, 4, 0, 3, 4, 3, 4, 3, 4, 4, 4, 4, 3, 4, 4, 1, 4, 3, 3, 3, 3, 4, 4, 4, 4, 4, 4, 0, 4, 4, 4, 4, 4, 3, 3, 4, 4, 3, 4, 4, 4, 4, 3, 3, 4, 3, 4, 4, 0, 3, 0, 4, 0, 4, 4, 1, 2, 3, 4, 4, 4, 4, 3, 4, 4, 0, 2, 2, 3, 3, 4, 0, 4, 3, 4, 3, 3, 4, 0, 3, 0, 4, 3, 3, 3, 0, 0, 0, 4, 3, 4, 3, 4, 4, 0, 3, 4, 4, 0, 4, 2, 3, 4, 2, 4, 4, 4, 4, 4, 4, 3, 4, 0, 3, 4, 4, 4, 4, 3, 4, 0, 3, 3, 4, 4, 3, 4, 0, 3, 2, 2, 3, 4, 4, 4, 3, 4, 4, 4, 0, 4, 4, 4, 3, 4, 2, 4, 3, 4, 3, 4, 4, 4, 4, 4, 3, 3, 4, 3, 3, 4, 3, 4, 0, 0, 2, 2, 3, 4, 2, 2, 4, 3, 4, 3, 4, 4, 3, 4, 4, 2, 4, 4, 4, 4, 4, 4, 3, 4, 3, 4, 4, 3, 3, 4, 0, 0, 3, 4, 3, 2, 0, 4, 4, 4, 0, 4, 4, 1, 4, 0, 4, 3, 0, 4, 4, 0, 0, 4, 4, 4, 0, 3, 0, 4, 4, 0, 3, 4, 3, 0, 0, 4, 4, 4, 4, 4, 4, 4, 4, 0, 4, 4, 2, 0, 3, 4, 4, 4, 4, 3, 4, 4, 4, 0, 3, 4, 4, 4, 2, 0, 3, 4, 0, 3, 4, 2, 4, 3, 4, 4, 4, 2, 3, 4, 4, 4, 0, 3, 4, 3, 3, 4, 2, 4, 4, 3, 4, 0, 4, 4, 4, 3, 4, 0, 3, 3, 0, 3, 4, 4, 3, 4, 2, 4, 0, 4, 4, 4, 3, 4, 0, 4, 4, 3, 3, 3, 4, 4, 4, 2, 3, 4, 4, 4, 0, 0, 4, 3, 4, 3, 4, 3, 2, 4, 3, 3, 4, 3, 3, 4, 4, 4, 3, 4, 4, 4, 4, 0, 4, 3, 4, 2, 4, 4, 4, 1, 4, 4, 2, 4, 3, 4, 4, 3, 0, 1, 0, 0, 4, 4, 4, 4, 3, 0, 3, 3, 4, 4, 3, 4, 4, 4, 2, 4, 4, 3, 0, 2, 2, 4, 4, 4, 3, 4, 4, 4, 3, 3, 4, 1, 4, 3, 4, 3, 3, 0, 3, 3, 2, 0, 4, 2, 4, 4, 0, 4, 4, 1, 0, 3, 4, 0, 4, 4, 3, 3, 3, 4, 4, 4, 4, 4, 4, 4, 4, 0, 4, 4, 4, 4, 4, 3, 3, 4, 4, 4, 3, 4, 3, 4, 4, 4, 4, 2, 4, 3, 4, 4, 4, 4, 0, 4, 4, 2, 3, 0, 4, 4, 2, 3, 4, 4, 4, 4, 0, 4, 4, 4, 4, 1, 0, 0, 4, 1, 0, 2, 4, 2, 4, 3, 4, 0, 3, 4, 4, 0, 4, 4, 4, 3, 4, 2, 4, 3, 4, 2, 4, 1, 4, 3, 3, 3, 4, 4, 4, 3, 3, 3, 4, 4, 4, 2, 3, 3, 4, 4, 4, 4, 3, 4, 4, 3, 4, 4, 2, 4, 4, 4, 1, 3, 3, 4, 3, 4, 2, 4, 4, 4, 4, 4, 4, 0, 2, 4, 3, 3, 4, 3, 3, 3, 4, 4, 4, 0, 4, 4, 4, 3, 1, 4, 0, 2, 4, 3, 2, 4, 4, 4, 4, 3, 4, 3, 0, 4, 3, 4, 1, 3, 4, 4, 4, 2, 3, 3, 4, 3, 4, 4, 4, 2, 4, 4, 4, 2, 0, 2, 4, 2, 2, 4, 3, 4, 0, 4, 4, 3, 3, 4, 4, 4, 4, 0, 3, 4, 4, 4, 4, 4, 3, 4, 4, 3, 3, 4, 4, 4, 2, 3, 0, 3, 3, 4, 0, 3, 3, 4, 2, 3, 4, 4, 0, 4, 4, 4, 4, 4, 2, 3, 3, 3, 4, 2, 4, 4, 4, 4, 2, 0, 2, 4, 4, 0, 4, 4, 4, 4, 4, 4, 3, 4, 4, 3, 3, 3, 0, 3, 4, 4, 4, 4, 0, 3, 2, 4, 4, 4, 4, 4, 3, 4, 3, 2, 4, 3, 0, 2, 2, 0, 4, 4, 1, 4, 0, 3, 3, 4, 2, 0, 2, 4, 3, 4, 3, 3, 4, 3, 2, 3, 4, 4, 4, 0, 3, 4, 2, 4, 0, 4, 0, 4, 4, 4, 2, 3, 3, 4, 3, 4, 4, 4, 4, 4, 3, 4, 0, 3, 4, 4, 0, 2, 3, 3, 4, 4, 3, 3, 3, 3, 4, 0, 4, 4, 3, 4, 4, 2, 4, 4, 4, 4, 3, 2, 3, 4, 4, 4, 2, 4, 4, 2, 3, 2, 4, 4, 4, 4, 4, 4, 4, 4, 3, 0, 4, 4, 4, 3, 4, 4, 3, 4, 3, 4, 4, 0, 4, 2, 4, 3, 4, 4, 4, 4, 4, 3, 3, 3, 0, 3, 4, 4, 0, 0, 3, 3, 0, 4, 4, 2, 4, 4, 0, 3, 3, 0, 2, 3, 4, 3, 4, 0, 4, 3, 3, 0, 3, 4, 4, 2, 3, 4, 4, 4, 3, 3, 3, 0, 2, 2, 3, 4, 4, 4, 2, 4, 2, 3, 1, 4, 4, 4, 4, 1, 4, 4, 4, 4, 4, 4, 4, 3, 3, 4, 4, 2, 3, 4, 3, 3, 4, 4, 4, 4, 3, 2, 4, 4, 3, 0, 4, 4, 4, 4, 4, 0, 4, 4, 3, 4, 4, 0, 2, 0, 4, 3, 4, 0, 3, 0, 4, 2, 0, 3, 4, 2, 1, 4, 4, 4, 2, 4, 4, 4, 4, 4, 3, 4, 0, 3, 4, 3, 3, 4, 0, 0, 3, 3, 4, 0, 2, 4, 4, 0, 3, 2, 3, 4, 4, 3, 4, 4, 4, 4, 0, 3, 4, 2, 4, 2, 4, 4, 4, 4, 3, 2, 4, 4, 4, 4, 3, 3, 4, 4, 4, 4, 3, 4, 3, 3, 4, 4, 4, 2, 0, 4, 3, 0, 4, 4, 0, 4, 2, 4, 4, 4, 3, 2, 4, 4, 3, 4, 4, 0, 3, 4, 4, 3, 1, 4, 4, 4, 2, 4, 3, 4, 3, 4, 4, 0, 4, 4, 2, 3, 4, 4, 1, 4, 4, 4, 4, 2, 4, 0, 4, 0, 4, 3, 0, 4, 3, 0, 2, 4, 3, 0, 3, 4, 3, 4, 2, 3, 4, 4, 3, 4, 4, 4, 3, 4, 4, 0, 4, 4, 4, 0, 4, 0, 0, 4, 3, 3, 4, 4, 4, 4, 0, 3, 4, 4, 4, 4, 3, 3, 4, 4, 1, 3, 4, 4, 0, 4, 0, 3, 4, 3, 2, 1, 4, 3, 4, 3, 0, 4, 4, 4, 2, 4, 0, 4, 4, 0, 2, 4, 3, 2, 3, 3, 2, 3, 0, 4, 3, 2, 3, 2, 4, 4, 4, 1, 0, 0, 3, 4, 4, 2, 4, 4, 2, 4, 2, 0, 2, 4, 3, 4, 4, 3, 4, 3, 3, 0, 4, 4, 3, 4, 1, 4, 4, 3, 0, 3, 3, 4, 1, 3, 4, 0, 2, 4, 3, 2, 4, 2, 4, 2, 3, 4, 4, 2, 4, 4, 3, 4, 4, 2, 4, 4, 2, 4, 4, 3, 4, 0, 4, 4, 4, 3, 2, 4, 4, 3, 4, 3, 4, 4, 0, 4, 4, 2, 3, 4, 2, 0, 3, 4, 2, 0, 4, 4, 0, 3, 0, 4, 3, 4, 4, 3, 1, 0, 4, 2, 3, 3, 4, 4, 4, 4, 4, 4, 0, 4, 4, 3, 3, 2, 4, 4, 4, 3, 2, 4, 3, 4, 2, 4, 3, 4, 2, 4, 0, 3, 0, 0, 2, 3, 2, 4, 4, 3, 0, 3, 3, 3, 3, 4, 3, 0, 3, 2, 3, 4, 4, 3, 0, 2, 0, 4, 4, 0, 3, 4, 4, 3, 3, 2, 3, 0, 4, 3, 3, 4, 4, 0, 2, 4, 4, 3, 4, 4, 4, 3, 4, 4, 0, 4, 4, 2, 4, 4, 4, 1, 4, 3, 4, 3, 4, 3, 4, 4, 4, 3, 4, 2, 4, 3, 2, 1, 0, 4, 2, 4, 4, 4, 4, 3, 4, 2, 1, 4, 0, 1, 4, 3, 2, 4, 4, 4, 4, 1, 4, 3, 4, 4, 4, 4, 4, 4, 3, 3, 4, 0, 2, 3, 2, 3, 3, 3, 0, 4, 1, 4, 4, 4, 4, 4, 0, 4, 0, 4, 4, 3, 4, 4, 2, 0, 4, 0, 4, 3, 3, 4, 0, 4, 4, 3, 0, 2, 4, 4, 2, 1, 4, 4, 4, 0, 3, 4, 4, 4, 3, 3, 4, 2, 4, 4, 1, 3, 0, 4, 0, 3, 4, 4, 4, 0, 1, 4, 4, 3, 4, 0, 4, 4, 2, 2, 0, 3, 4, 4, 4, 3, 4, 0, 4, 0, 2, 3, 3, 3, 4, 2, 4, 4, 3, 4, 4, 4, 4, 4, 1, 3, 1, 4, 4, 2, 0, 4, 3, 4, 4, 0, 4, 0, 4, 3, 4, 4, 4, 3, 3, 2, 0, 2, 3, 4, 4, 0, 4, 4, 4, 4, 4, 4, 2, 4, 4, 4, 0, 3, 0, 4, 4, 3, 4, 3, 0, 4, 4, 4, 2, 4, 4, 0, 4, 3, 4, 4, 4, 4, 4, 4, 4, 2, 4, 0, 2, 4, 4, 4, 4, 4, 3, 4, 4, 0, 4, 4, 4, 4, 4, 3, 4, 3, 1, 0, 3, 3, 4, 4, 0, 4, 4, 4, 4, 4, 2, 2, 4, 3, 4, 4, 2, 4, 0, 3, 2, 2, 4, 4, 4, 3, 0, 4, 4, 2, 0, 3, 2, 4, 4, 4, 4, 3, 4, 0, 0, 4, 0, 2, 3, 3, 3, 0, 4, 2, 4, 4, 3, 4, 3, 0, 4, 4, 3, 4, 4, 3, 4, 3, 4, 2, 3, 3, 0, 2, 3, 4, 4, 4, 3, 3, 2, 4, 4, 4, 0, 0, 4, 2, 4, 4, 3, 4, 4, 4, 4, 4, 4, 2, 4, 4, 3, 4, 2, 4, 1, 3, 4, 0, 4, 0, 4, 0, 3, 4, 3, 2, 4, 4, 2, 0, 4, 4, 4, 4, 4, 3, 4, 4, 4, 4, 1, 0, 0, 4, 3, 0, 4, 4, 0, 4, 4, 4, 3, 4, 3, 4, 4, 4, 4, 4, 3, 3, 2, 4, 0, 4, 2, 4, 3, 2, 3, 2, 4, 4, 3, 4, 0, 3, 3, 2, 4, 0, 4, 4, 4, 4, 4, 0, 3, 3, 3, 4, 4, 4, 4, 4, 4, 4, 4, 0, 3, 3, 4, 3, 4, 3, 0, 2, 3, 3, 0, 4, 4, 0, 2, 4, 1, 1, 3, 4, 1, 4, 4, 3, 3, 2, 4, 0, 3, 3, 4, 0, 4, 0, 3, 3, 4, 0, 2, 1, 4, 4, 2, 3, 3, 4, 3, 4, 4, 3, 4, 0, 4, 4, 4, 4, 4, 4, 2, 4, 1, 1, 4, 4, 0, 4, 1, 4, 0, 3, 1, 4, 0, 4, 4, 3, 3, 0, 4, 2, 4, 3, 4, 3, 3, 0, 3, 4, 0, 4, 3, 3, 1, 4, 3, 4, 3, 3, 3, 3, 4, 3, 1, 4, 4, 3, 4, 3, 4, 3, 4, 3, 1, 4, 1, 4, 4, 2, 4, 0, 3, 0, 4, 4, 0, 4, 4, 4, 3, 4, 4, 3, 2, 3, 4, 3, 3, 4, 0, 4, 4, 2, 4, 4, 4, 3, 4, 0, 3, 3, 0, 4, 0, 3, 2, 0, 4, 2, 3, 4, 4, 3, 4, 0, 4, 4, 4, 0, 4, 0, 0, 4, 4, 4, 2, 4, 2, 0, 3, 4, 4, 0, 3, 2, 4, 0, 3, 4, 3, 4, 4, 4, 3, 3, 2, 4, 4, 0, 4, 4, 3, 0, 3, 4, 4, 4, 4, 3, 4, 2, 4, 4, 0, 4, 4, 4, 4, 0, 4, 0, 2, 4, 4, 3, 4, 3, 0, 3, 4, 3, 2, 4, 0, 4, 4, 2, 0, 3, 4, 3, 3, 4, 4, 2, 4, 3, 4, 4, 4, 4, 2, 4, 4, 3, 3, 3, 4, 4, 4, 1, 4, 4, 3, 4, 4, 4, 1, 3, 4, 3, 4, 3, 4, 4, 2, 4, 3, 4, 4, 3, 3, 1, 3, 2, 1, 2, 4, 4, 3, 3, 4, 1, 4, 4, 4, 4, 0, 4, 4, 3, 0, 2, 3, 4, 3, 3, 4, 4, 3, 0, 0, 4, 4, 3, 2, 2, 3, 4, 3, 4, 2, 4, 4, 4, 3, 2, 4, 0, 4, 4, 4, 4, 3, 4, 3, 4, 2, 4, 2, 2, 0, 0, 4, 4, 2, 3, 0, 0, 4, 2, 3, 0, 4, 0, 4, 0, 4, 2, 4, 4, 3, 4, 4, 4, 4, 4, 4, 3, 4, 0, 1, 4, 3, 4, 3, 0, 4, 3, 4, 4, 4, 4, 2, 2, 4, 4, 3, 3, 0, 3, 4, 3, 3, 3, 1, 4, 3, 3, 4, 4, 0, 4, 4, 2, 4, 4, 1, 1, 4, 3, 0, 4, 4, 4, 4, 4, 4, 4, 3, 2, 4, 0, 3, 3, 4, 3, 4, 4, 4, 4, 3, 4, 4, 4, 3, 4, 3, 4, 3, 4, 0, 2, 3, 4, 2, 0, 0, 4, 4, 4, 0, 3, 4, 3, 4, 3, 3, 3, 4, 4, 4, 4, 4, 3, 3, 0, 4, 4, 4, 2, 4, 4, 4, 3, 4, 4, 4, 4, 3, 4, 0, 4, 4, 0, 4, 2, 3, 3, 2, 0, 4, 4, 4, 4, 3, 3, 3, 3, 3, 4, 4, 0, 4, 0, 4, 4, 2, 4, 0, 2, 4, 4, 4, 4, 4, 3, 0, 3, 4, 3, 3, 3, 4, 4, 4, 3, 3, 4, 4, 4, 3, 4, 4, 0, 2, 4, 3, 0, 4, 2, 4, 4, 4, 3, 4, 4, 4, 4, 4, 4, 4, 4, 3, 4, 4, 3, 3, 3, 4, 4, 4, 2, 4, 3, 4, 4, 3, 4, 3, 3, 4, 4, 3, 4, 0, 0, 3, 3, 4, 4, 4, 2, 4, 3, 4, 4, 4, 4, 3, 4, 3, 3, 2, 4, 4, 4, 4, 4, 0, 4, 3, 4, 4, 3, 4, 4, 3, 4, 4, 4, 2, 4, 0, 4, 3, 0, 4, 4, 2, 3, 3, 4, 4, 4, 4, 2, 4, 3, 0, 0, 1, 4, 2, 2, 2, 4, 3, 1, 3, 3, 3, 4, 2, 3, 4, 3, 4, 2, 3, 2, 4, 2, 4, 4, 4, 2, 2, 3, 4, 4, 4, 0, 2, 4, 4, 3, 3, 4, 4, 4, 0, 4, 4, 4, 3, 3, 3, 4, 4, 4, 3, 3, 4, 3, 0, 2, 3, 2, 2, 2, 0, 0, 3, 4, 3, 3, 4, 4, 4, 4, 3, 4, 2, 0, 4, 4, 4, 4, 4, 4, 4, 4, 2, 4, 4, 2, 0, 2, 4, 4, 4, 1, 3, 2, 0, 0, 0, 4, 3, 3, 3, 2, 3, 3, 3, 4, 3, 4, 4, 4, 0, 0, 4, 4, 3, 4, 4, 4, 0, 4, 4, 4, 2, 4, 4, 4, 3, 3, 2, 3, 3, 3, 4, 3, 3, 3, 0, 4, 4, 4, 3, 4, 4, 4, 4, 4, 4, 4, 4, 1, 3, 4, 4, 4, 4, 3, 3, 3, 2, 0, 2, 0, 4, 4, 4, 3, 4, 4, 4, 4, 4, 4, 4, 2, 4, 3, 4, 4, 4, 4, 3, 4, 1, 4, 4, 4, 4, 4, 1, 0, 3, 1, 1, 3, 4, 1, 4, 3, 3, 0, 3, 3, 1, 4, 4, 4, 4, 3, 4, 4, 0, 3, 4, 4, 4, 0, 3, 4, 4, 4, 2, 4, 3, 2, 3, 2, 2, 4, 4, 3, 4, 3, 3, 2, 4, 3, 3, 4, 0, 4, 4, 4, 4, 4, 4, 2, 0, 3, 3, 4, 4, 4, 4, 3, 4, 2, 4, 4, 4, 4, 1, 4, 4, 4, 4, 3, 4, 3, 3, 0, 0, 0, 2, 4, 3, 4, 2, 3, 3, 4, 4, 3, 4, 0, 3, 4, 4, 4, 4, 4, 0, 4, 4, 4, 3, 4, 4, 0, 3, 4, 0, 4, 0, 4, 4, 4, 4, 0, 3, 0, 4, 3, 4, 4, 3, 4, 0, 3, 4, 4, 4, 4, 3, 3, 2, 4, 3, 2, 4, 4, 4, 4, 0, 4, 0, 4, 3, 4, 3, 3, 4, 4, 4, 3, 2, 4, 3, 4, 4, 2, 4, 3, 4, 4, 3, 4, 4, 2, 4, 4, 3, 2, 3, 2, 4, 4, 3, 3, 4, 4, 3, 1, 3, 3, 4, 0, 4, 0, 4, 3, 0, 4, 4, 4, 2, 4, 2, 2, 4, 0, 4, 0, 1, 4, 4, 3, 3, 4, 1, 4, 0, 4, 3, 3, 2, 4, 4, 4, 3, 3, 2, 4, 3, 2, 4, 4, 3, 0, 4, 4, 4, 4, 4, 4, 2, 3, 3, 4, 3, 4, 3, 0, 4, 0, 3, 3, 3, 4, 4, 4, 3, 4, 2, 3, 4, 4, 4, 2, 2, 3, 3, 3, 4, 3, 4, 4, 4, 1, 4, 3, 4, 4, 0, 3, 3, 4, 4, 4, 2, 4, 4, 3, 4, 0, 2, 2, 3, 4, 0, 3, 2, 3, 2, 3, 4, 4, 4, 3, 3, 2, 3, 4, 0, 3, 3, 4, 4, 4, 0, 4, 3, 3, 4, 4, 4, 0, 4, 4, 1, 4, 4, 4, 3, 3, 4, 2, 4, 4, 3, 3, 3, 4, 4, 4, 4, 3, 4, 3, 0, 0, 4, 4, 2, 4, 4, 2, 4, 4, 3, 3, 4, 3, 4, 4, 1, 2, 3, 4, 4, 4, 3, 0, 4, 4, 4, 4, 4, 4, 4, 3, 0, 4, 0, 2, 3, 3, 4, 4, 2, 2, 3, 4, 2, 4, 4, 3, 0, 0, 4, 4, 4, 4, 4, 4, 0, 4, 4, 4, 4, 4, 4, 4, 4, 2, 4, 4, 4, 4, 4, 4, 0, 3, 4, 4, 2, 2, 3, 3, 4, 0, 4, 4, 3, 4, 4, 4, 1, 3, 3, 3, 3, 4, 1, 0, 4, 4, 3, 4, 4, 4, 2, 1, 4, 4, 0, 3, 4, 3, 4, 3, 2, 4, 4, 2, 4, 4, 4, 4, 2, 1, 0, 3, 2, 0, 4, 0, 3, 4, 4, 4, 0, 4, 4, 4, 4, 0, 2, 3, 0, 4, 3, 4, 3, 4, 4, 3, 4, 4, 3, 3, 3, 4, 4, 4, 4, 0, 3, 4, 1, 3, 4, 4, 4, 4, 4, 3, 0, 0, 4, 3, 4, 3, 3, 0, 3, 3, 2, 4, 3, 3, 4, 4, 1, 0, 3, 3, 3, 4, 0, 0, 3, 4, 2, 4, 4, 3, 4, 4, 2, 4, 4, 4, 4, 4, 3, 3, 0, 4, 4, 4, 4, 1, 4, 4, 4, 4, 3, 4, 4, 3, 4, 4, 3, 0, 4, 4, 0, 4, 4, 4, 3, 0, 3, 3, 3, 3, 4, 1, 0, 3, 4, 3, 4, 4, 4, 2, 4, 4, 3, 4, 2, 4, 3, 4, 3, 4, 3, 4, 4, 4, 4, 2, 3, 3, 4, 4, 4, 4, 1, 2, 4, 4, 4, 4, 0, 3, 0, 3, 3, 4, 2, 4, 4, 4, 3, 4, 4, 3, 3, 4, 3, 4, 2, 0, 3, 0, 4, 4, 4, 4, 4, 2, 1, 4, 1, 4, 3, 3, 3, 4, 4, 3, 3, 3, 0, 1, 0, 4, 4, 4, 3, 4, 4, 4, 3, 4, 3, 1, 1, 4, 3, 4, 4, 3, 2, 4, 4, 2, 4, 4, 4, 4, 2, 3, 4, 4, 4, 4, 2, 0, 3, 4, 4, 3, 4, 4, 4, 3, 3, 4, 4, 3, 4, 4, 4, 4, 4, 0, 0, 2, 3, 1, 2, 3, 4, 4, 4, 0, 1, 4, 3, 4, 3, 3, 4, 3, 4, 4, 4, 4, 4, 4, 3, 2, 3, 3, 4, 4, 4, 3, 4, 4, 4, 3, 4, 4, 4, 0, 3, 4, 4, 4, 4, 3, 2, 1, 3, 0, 3, 4, 4, 0, 4, 0, 3, 3, 4, 4, 4, 4, 4, 4, 2, 0, 4, 4, 4, 1, 0, 4, 4, 4, 2, 4, 4, 3, 4, 2, 4, 4, 4, 3, 2, 1, 4, 4, 3, 4, 2, 4, 0, 0, 2, 3, 4, 3, 3, 4, 3, 4, 3, 4, 4, 4, 4, 3, 0, 3, 4, 4, 4, 0, 4, 2, 1, 4, 4, 4, 4, 3, 4, 4, 4, 4, 4, 4, 3, 1, 4, 4, 3, 2, 4, 3, 4, 2, 4, 4, 4, 3, 2, 3, 0, 4, 4, 4, 3, 3, 3, 4, 3, 3, 0, 4, 4, 4, 3, 0, 4, 1, 0, 3, 4, 0, 3, 4, 0, 0, 3, 2, 3, 4, 4, 3, 0, 4, 4, 4, 4, 3, 0, 4, 2, 2, 2, 4, 0, 4, 4, 0, 4, 2, 4, 0, 3, 0, 4, 4, 4, 4, 3, 2, 3, 4, 4, 4, 4, 4, 3, 4, 0, 3, 3, 3, 4, 4, 4, 4, 4, 4, 3, 2, 3, 2, 4, 4, 0, 3, 3, 4, 2, 3, 2, 2, 2, 4, 0, 0, 2, 3, 1, 2, 4, 4, 4, 4, 4, 3, 0, 4, 0, 4, 4, 0, 4, 4, 4, 0, 4, 4, 4, 4, 4, 4, 4, 4, 2, 4, 0, 4, 3, 2, 3, 4, 4, 0, 3, 4, 1, 3, 4, 4, 3, 3, 4, 4, 0, 0, 4, 2, 4, 4, 4, 3, 4, 3, 4, 4, 4, 3, 4, 3, 3, 4, 0, 2, 4, 4, 3, 3, 4, 2, 0, 2, 3, 4, 4, 4, 3, 0, 0, 3, 3, 1, 2, 4, 4, 4, 2, 3, 0, 4, 3, 4, 4, 4, 3, 3, 2, 4, 4, 3, 3, 1, 3, 4, 4, 4, 4, 4, 3, 4, 4, 3, 4, 4, 4, 3, 4, 4, 3, 4, 4, 3, 4, 0, 3, 4, 4, 2, 2, 3, 3, 1, 4, 4, 4, 4, 0, 3, 4, 4, 3, 0, 4, 3, 3, 4, 3, 2, 4, 4, 0, 4, 4, 0, 4, 0, 0, 2, 3, 3, 0, 0, 1, 3, 3, 4, 1, 3, 4, 2, 3, 0, 2, 4, 4, 2, 4, 1, 4, 2, 4, 0, 3, 4, 3, 0, 3, 3, 4, 3, 4, 4, 3, 3, 3, 3, 3, 1, 4, 3, 3, 4, 4, 0, 4, 3, 4, 4, 4, 3, 4, 3, 3, 4, 3, 4, 4, 4, 4, 4, 3, 4, 4, 4, 3, 2, 4, 4, 0, 3, 4, 3, 3, 0, 4, 4, 4, 1, 3, 2, 3, 2, 0, 3, 4, 3, 3, 2, 0, 4, 0, 4, 4, 1, 2, 4, 4, 4, 3, 4, 4, 4, 4, 4, 2, 3, 0, 3, 0, 3, 1, 4, 4, 3, 3, 4, 3, 4, 4, 4, 3, 4, 3, 4, 4, 3, 2, 4, 3, 4, 0, 0, 4, 3, 0, 3, 3, 3, 3, 3, 4, 3, 4, 3, 0, 2, 4, 4, 3, 3, 4, 2, 4, 3, 4, 0, 3, 1, 3, 4, 3, 4, 4, 2, 4, 4, 4, 4, 4, 0, 4, 2, 0, 4, 4, 4, 3, 3, 4, 3, 4, 4, 4, 3, 4, 0, 4, 4, 0, 4, 2, 3, 4, 4, 4, 2, 4, 2, 4, 3, 4, 3, 4, 3, 3, 2, 4, 0, 4, 4, 0, 4, 0, 2, 4, 4, 4, 3, 0, 3, 4, 4, 3, 4, 4, 2, 4, 4, 3, 3, 0, 4, 3, 4, 4, 3, 0, 4, 4, 3, 4, 0, 0, 3, 2, 2, 4, 2, 4, 0, 3, 3, 3, 4, 4, 4, 4, 3, 4, 4, 4, 0, 4, 3, 1, 1, 2, 2, 4, 4, 4, 4, 0, 4, 4, 2, 3, 1, 3, 0, 4, 3, 4, 3, 3, 4, 2, 3, 0, 3, 4, 4, 4, 4, 4, 4, 3, 4, 3, 3, 4, 4, 0, 3, 3, 0, 4, 3, 4, 4, 4, 4, 4, 3, 3, 3, 1, 4, 4, 4, 4, 2, 0, 0, 4, 3, 3, 4, 2, 2, 4, 4, 0, 4, 3, 0, 3, 2, 4, 4, 4, 4, 3, 4, 3, 4, 3, 2, 4, 4, 0, 4, 2, 3, 4, 1, 4, 3, 4, 4, 3, 4, 4, 4, 3, 4, 3, 4, 4, 0, 4, 4, 4, 3, 0, 4, 4, 3, 2, 1, 4, 4, 4, 4, 0, 0, 4, 0, 4, 3, 2, 3, 4, 4, 4, 4, 0, 0, 4, 2, 0, 4, 3, 3, 3, 0, 4, 3, 4, 0, 4, 0, 3, 4, 3, 2, 4, 3, 4, 3, 0, 4, 3, 2, 0, 4, 3, 4, 4, 4, 4, 3, 3, 0, 4, 3, 4, 3, 4, 4, 3, 3, 0, 4, 4, 4, 2, 4, 4, 4, 2, 3, 4, 3, 3, 4, 1, 4, 3, 3, 2, 0, 2, 2, 0, 4, 4, 4, 0, 4, 4, 3, 2, 4, 4, 4, 2, 4, 1, 4, 3, 2, 4, 3, 3, 3, 3, 0, 0, 3, 2, 0, 0, 0, 4, 4, 3, 4, 4, 4, 3, 4, 4, 4, 0, 3, 1, 4, 0, 4, 4, 3, 4, 4, 4, 4, 4, 4, 2, 4, 4, 2, 1, 4, 0, 3, 4, 4, 4, 3, 4, 3, 4, 3, 0, 4, 0, 4, 4, 1, 0, 0, 3, 0, 4, 0, 2, 0, 4, 4, 3, 2, 4, 1, 4, 4, 2, 0, 4, 4, 0, 2, 3, 4, 4, 0, 4, 4, 2, 4, 0, 2, 4, 4, 4, 4, 0, 4, 4, 4, 4, 3, 4, 4, 4, 4, 4, 4, 0, 0, 4, 4, 3, 4, 4, 4, 3, 4, 4, 0, 2, 2, 3, 4, 4, 4, 4, 3, 3, 2, 2, 4, 2, 1, 4, 3, 4, 3, 4, 3, 0, 4, 3, 2, 4, 0, 3, 4, 4, 2, 4, 4, 4, 4, 4, 4, 4, 2, 1, 2, 4, 4, 4, 4, 3, 3, 3, 3, 2, 4, 2, 4, 4, 4, 4, 3, 3, 0, 4, 2, 3, 3, 1, 3, 4, 3, 4, 4, 3, 2, 4, 4, 3, 0, 4, 1, 3, 4, 4, 4, 2, 4, 3, 1, 1, 4, 4, 4, 4, 4, 2, 3, 4, 3, 2, 4, 0, 4, 0, 3, 4, 0, 4, 0, 2, 3, 3, 4, 4, 3, 3, 4, 2, 4, 4, 4, 4, 4, 4, 4, 4, 4, 3, 4, 3, 4, 3, 2, 3, 1, 4, 4, 3, 4, 3, 0, 4, 4, 4, 3, 3, 4, 0, 4, 3, 4, 1, 0, 2, 3, 0, 0, 4, 4, 4, 4, 4, 4, 4, 4, 4, 0, 3, 1, 3, 0, 3, 2, 4, 4, 4, 4, 4, 4, 4, 3, 0, 4, 3, 0, 0, 3, 4, 4, 4, 4, 4, 0, 3, 4, 4, 4, 4, 0, 4, 4, 3, 4, 2, 3, 0, 0, 2, 4, 4, 4, 4, 4, 4, 3, 4, 2, 3, 4, 4, 3, 4, 0, 4, 4, 4, 4, 3, 3, 3, 4, 4, 4, 4, 2, 4, 4, 0, 4, 4, 3, 4, 4, 4, 4, 4, 2, 4, 3, 2, 4, 4, 3, 0, 4, 3, 3, 0, 4, 4, 4, 4, 2, 2, 4, 4, 2, 4, 4, 1, 4, 4, 4, 4, 2, 3, 4, 3, 4, 4, 4, 4, 4, 4, 4, 3, 3, 4, 4, 0, 4, 0, 0, 4, 4, 0, 4, 3, 4, 2, 4, 2, 4, 0, 4, 4, 2, 3, 2, 4, 0, 4, 2, 4, 3, 4, 4, 3, 3, 0, 4, 0, 3, 4, 0, 3, 3, 3, 3, 4, 3, 0, 3, 4, 4, 2, 2, 4, 4, 0, 4, 3, 0, 3, 3, 0, 4, 3, 4, 4, 0, 4, 4, 0, 4, 2, 4, 4, 4, 4, 3, 4, 4, 0, 4, 4, 3, 4, 3, 1, 4, 2, 0, 4, 0, 3, 4, 4, 2, 4, 4, 4, 3, 4, 4, 3, 4, 3, 4, 4, 3, 0, 4, 3, 0, 3, 0, 3, 4, 2, 4, 4, 3, 0, 4, 3, 2, 4, 4, 3, 2, 4, 3, 4, 4, 3, 0, 4, 4, 4, 3, 2, 3, 4, 3, 0, 4, 4, 3, 4, 4, 3, 2, 4, 0, 4, 3, 4, 4, 4, 3, 4, 4, 3, 4, 3, 3, 4, 0, 4, 4, 0, 0, 0, 4, 3, 0, 3, 3, 4, 4, 3, 3, 4, 4, 3, 1, 3, 2, 1, 4, 4, 0, 4, 4, 4, 4, 4, 4, 0, 4, 4, 4, 4, 4, 2, 4, 0, 3, 3, 4, 1, 4, 4, 2, 4, 4, 3, 4, 4, 3, 0, 0, 3, 4, 4, 4, 4, 2, 4, 4, 3, 4, 2, 3, 4, 3, 3, 4, 2, 4, 4, 4, 0, 4, 4, 0, 4, 4, 4, 0, 2, 3, 4, 2, 0, 2, 4, 4, 3, 4, 0, 4, 0, 4, 1, 2, 4, 4, 0, 4, 0, 4, 3, 3, 4, 3, 0, 2, 4, 0, 4, 4, 4, 4, 4, 4, 0, 0, 4, 4, 4, 0, 4, 2, 3, 4, 4, 4, 3, 4, 2, 0, 4, 4, 4, 4, 4, 3, 3, 1, 4, 2, 3, 3, 2, 4, 0, 4, 4, 4, 0, 0, 3, 4, 0, 3, 3, 4, 4, 4, 4, 4, 4, 0, 4, 4, 2, 3, 4, 3, 2, 4, 3, 3, 3, 4, 2, 3, 3, 3, 3, 4, 3, 0, 4, 3, 4, 2, 4, 4, 3, 0, 4, 4, 4, 4, 3, 1, 4, 1, 4, 1, 4, 1, 4, 3, 4, 4, 4, 4, 3, 4, 1, 4, 4, 3, 4, 3, 1, 4, 0, 4, 2, 4, 4, 2, 4, 4, 4, 3, 3, 0, 0, 4, 3, 3, 4, 4, 0, 3, 3, 4, 4, 3, 2, 4, 0, 2, 4, 4, 4, 4, 3, 4, 4, 3, 4, 4, 4, 4, 3, 0, 4, 4, 0, 0, 3, 4, 2, 4, 4, 4, 3, 2, 4, 4, 4, 2, 4, 4, 4, 4, 4, 4, 4, 4, 0, 4, 4, 4, 3, 4, 4, 3, 3, 4, 3, 3, 2, 2, 0, 4, 0, 4, 4, 4, 4, 3, 0, 0, 0, 4, 4, 2, 3, 2, 3, 3, 4, 4, 0, 0, 4, 0, 2, 4, 3, 4, 2, 3, 4, 0, 4, 4, 0, 4, 4, 3, 3, 4, 4, 4, 4, 3, 3, 3, 3, 3, 0, 4, 4, 2, 3, 4, 4, 4, 4, 4, 4, 1, 4, 3, 4, 4, 4, 4, 4, 4, 4, 4, 4, 4, 3, 0, 1, 0, 4, 3, 4, 4, 4, 2, 4, 2, 4, 0, 2, 4, 3, 3, 2, 4, 2, 3, 4, 3, 4, 4, 0, 4, 2, 4, 3, 3, 4, 4, 3, 3, 0, 4, 3, 4, 4, 4, 4, 4, 3, 4, 1, 0, 2, 3, 4, 3, 3, 4, 3, 4, 4, 4, 3, 3, 2, 4, 3, 3, 0, 2, 3, 0, 2, 4, 3, 4, 4, 3, 3, 3, 4, 2, 3, 4, 0, 4, 4, 0, 4, 4, 4, 2, 4, 4, 4, 4, 3, 4, 4, 3, 3, 2, 0, 0, 4, 4, 4, 0, 4, 4, 4, 1, 1, 3, 3, 0, 4, 0, 3, 3, 4, 4, 2, 4, 3, 4, 0, 4, 4, 4, 3, 4, 4, 4, 2, 3, 3, 3, 4, 4, 3, 3, 4, 4, 4, 4, 2, 3, 2, 3, 4, 4, 2, 0, 4, 3, 4, 4, 3, 3, 0, 4, 4, 4, 4, 4, 2, 4, 4, 4, 4, 3, 3, 4, 4, 2, 4, 4, 0, 4, 4, 4, 1, 3, 2, 4, 3, 0, 4, 4, 2, 4, 2, 4, 4, 3, 4, 4, 4, 1, 0, 4, 3, 4, 3, 0, 3, 3, 3, 4, 1, 2, 1, 0, 3, 3, 0, 0, 3, 4, 4, 3, 4, 3, 4, 4, 3, 3, 4, 4, 3, 4, 4, 0, 4, 4, 3, 0, 2, 4, 4, 4, 2, 2, 4, 4, 3, 4, 4, 3, 0, 3, 3, 4, 0, 4, 4, 2, 3, 4, 3, 3, 2, 3, 3, 2, 4, 4, 4, 4, 4, 4, 4, 0, 4, 4, 2, 0, 3, 3, 4, 2, 4, 4, 4, 3, 2, 0, 4, 3, 4, 3, 2, 4, 0, 4, 0, 4, 2, 4, 0, 4, 4, 4, 4, 4, 4, 4, 3, 4, 4, 4, 4, 4, 4, 0, 1, 2, 4, 3, 4, 3, 4, 2, 4, 1, 4, 2, 0, 3, 3, 3, 4, 4, 0, 3, 3, 4, 3, 4, 4, 3, 4, 4, 3, 4, 4, 2, 4, 2, 4, 3, 2, 3, 4, 3, 3, 4, 4, 0, 2, 4, 4, 4, 4, 4, 2, 3, 3, 1, 4, 2, 3, 4, 4, 4, 2, 3, 0, 4, 1, 4, 4, 3, 4, 4, 4, 1, 0, 2, 4, 2, 4, 4, 3, 4, 3, 4, 4, 3, 3, 0, 4, 4, 0, 3, 3, 4, 4, 2, 4, 3, 0, 3, 3, 3, 0, 4, 3, 3, 3, 1, 4, 2, 4, 4, 4, 3, 2, 3, 3, 4, 2, 3, 3, 0, 4, 1, 3, 0, 4, 4, 4, 3, 4, 4, 3, 4, 3, 2, 3, 4, 0, 0, 4, 3, 4, 3, 4, 4, 3, 0, 4, 0, 3, 3, 3, 4, 3, 4, 4, 4, 3, 1, 3, 0, 3, 3, 4, 4, 3, 4, 4, 4, 4, 4, 0, 3, 3, 4, 3, 4, 3, 3, 0, 1, 3, 0, 3, 4, 3, 1, 3, 0, 4, 4, 3, 3, 2, 2, 4, 0, 3, 4, 0, 4, 2, 4, 4, 4, 4, 3, 4, 3, 3, 4, 4, 3, 4, 2, 2, 0, 4, 2, 4, 0, 4, 3, 4, 0, 1, 0, 4, 4, 4, 4, 4, 2, 4, 4, 4, 2, 4, 4, 1, 0, 4, 0, 4, 4, 4, 3, 4, 3, 3, 3, 4, 4, 0, 4, 3, 4, 3, 4, 4, 4, 4, 4, 2, 4, 2, 3, 4, 0, 4, 4, 4, 4, 4, 3, 1, 2, 4, 4, 4, 4, 4, 2, 4, 4, 3, 4, 4, 4, 3, 3, 4, 3, 4, 1, 0, 0, 3, 4, 4, 4, 0, 4, 3, 0, 3, 4, 4, 4, 4, 0, 3, 1, 0, 2, 0, 4, 3, 4, 2, 4, 3, 4, 3, 4, 4, 3, 3, 3, 3, 4, 4, 0, 3, 3, 4, 4, 3, 2, 0, 3, 2, 4, 4, 4, 4, 3, 4, 3, 4, 4, 3, 4, 4, 2, 3, 4, 2, 3, 2, 3, 3, 4, 4, 3, 4, 2, 3, 4, 4, 4, 4, 1, 2, 4, 4, 0, 2, 3, 4, 3, 4, 0, 4, 4, 4, 4, 0, 3, 0, 4, 4, 0, 3, 2, 4, 4, 0, 4, 2, 4, 4, 4, 4, 4, 4, 4, 3, 4, 2, 4, 4, 4, 4, 4, 2, 4, 4, 2, 4, 2, 4, 3, 0, 4, 4, 4, 3, 4, 2, 4, 4, 4, 4, 3, 3, 4, 0, 3, 3, 2, 4, 4, 4, 4, 3, 4, 4, 4, 3, 1, 4, 2, 0, 4, 4, 4, 0, 4, 4, 1, 3, 4, 4, 4, 2, 0, 3, 3, 4, 4, 4, 2, 4, 1, 0, 0, 4, 4, 4, 4, 1, 2, 1, 4, 2, 4, 4, 2, 4, 2, 3, 4, 4, 4, 3, 4, 3, 4, 4, 4, 4, 2, 4, 0, 0, 4, 4, 4, 3, 4, 4, 4, 4, 3, 4, 4, 0, 4, 4, 2, 4, 1, 0, 4, 0, 3, 2, 3, 4, 2, 2, 3, 2, 4, 3, 4, 4, 3, 3, 3, 4, 3, 3, 4, 4, 4, 4, 4, 4, 3, 4, 2, 3, 4, 4, 4, 4, 4, 4, 4, 4, 2, 0, 4, 2, 4, 4, 3, 3, 3, 4, 4, 2, 0, 4, 3, 4, 3, 4, 3, 2, 4, 4, 1, 1, 3, 4, 4, 1, 0, 3, 0, 3, 4, 4, 3, 4, 0, 3, 4, 0, 4, 4, 4, 2, 4, 4, 0, 4, 0, 4, 3, 4, 0, 3, 4, 4, 4, 3, 0, 4, 0, 4, 3, 1, 3, 4, 4, 3, 2, 4, 4, 4, 3, 4, 3, 2, 4, 4, 3, 2, 4, 3, 2, 2, 4, 4, 4, 4, 3, 4, 4, 3, 4, 4, 3, 4, 0, 3, 4, 3, 0, 4, 4, 2, 4, 0, 3, 0, 4, 4, 0, 4, 4, 0, 2, 4, 4, 4, 4, 0, 4, 3, 0, 3, 4, 0, 4, 4, 2, 3, 4, 4, 2, 4, 3, 3, 2, 0, 0, 4, 4, 2, 3, 4, 4, 4, 4, 3, 4, 4, 4, 3, 3, 4, 3, 0, 4, 1, 4, 0, 2, 3, 3, 3, 4, 4, 3, 4, 4, 3, 3, 0, 4, 4, 2, 2, 4, 3, 3, 3, 4, 2, 4, 3, 4, 4, 3, 4, 0, 4, 4, 4, 3, 0, 0, 4, 3, 2, 0, 2, 4, 3, 3, 4, 4, 4, 4, 3, 2, 4, 4, 4, 4, 4, 3, 4, 4, 4, 4, 4, 2, 4, 3, 4, 4, 3, 4, 0, 3, 4, 4, 0, 1, 3, 2, 4, 3, 3, 4, 4, 4, 3, 3, 0, 4, 3, 3, 4, 4, 3, 3, 4, 4, 2, 2, 3, 3, 3, 4, 3, 3, 4, 0, 4, 0, 2, 4, 4, 4, 4, 2, 4, 2, 4, 4, 3, 0, 4, 4, 4, 4, 4, 4, 0, 3, 4, 2, 3, 3, 4, 3, 3, 2, 3, 4, 4, 3, 0, 2, 4, 4, 3, 3, 0, 4, 3, 4, 3, 2, 4, 3, 4, 0, 4, 4, 0, 1, 4, 4, 3, 4, 4, 4, 4, 4, 2, 3, 3, 0, 3, 3, 0, 1, 4, 4, 3, 4, 3, 2, 4, 0, 4, 3, 4, 2, 3, 3, 3, 4, 3, 0, 4, 3, 2, 4, 4, 4, 0, 3, 4, 4, 1, 4, 4, 4, 3, 4, 4, 4, 2, 2, 4, 4, 3, 4, 3, 4, 3, 3, 0, 4, 4, 0, 4, 4, 0, 4, 0, 3, 2, 4, 4, 2, 4, 0, 3, 0, 3, 4, 0, 2, 2, 4, 4, 4, 3, 4, 4, 4, 2, 4, 4, 4, 1, 4, 4, 3, 0, 4, 4, 4, 3, 3, 4, 3, 4, 2, 2, 4, 0, 4, 3, 0, 4, 0, 3, 4, 0, 4, 4, 3, 3, 4, 3, 4, 3, 4, 3, 3, 4, 4, 3, 4, 4, 4, 4, 4, 4, 3, 4, 4, 3, 4, 4, 4, 4, 1, 4, 0, 3, 3, 3, 3, 4, 3, 4, 2, 3, 0, 4, 2, 4, 4, 3, 0, 3, 3, 4, 4, 3, 4, 4, 4, 3, 4, 2, 0, 3, 3, 3, 3, 4, 3, 3, 4, 2, 4, 2, 4, 4, 3, 4, 4, 3, 2, 4, 3, 3, 0, 0, 4, 0, 4, 2, 3, 3, 0, 4, 2, 3, 3, 2, 4, 4, 4, 3, 4, 0, 4, 4, 0, 4, 3, 3, 4, 3, 1, 4, 4, 4, 4, 3, 4, 3, 2, 4, 4, 2, 4, 4, 4, 4, 3, 4, 4, 4, 4, 3, 4, 3, 4, 3, 3, 4, 4, 4, 4, 3, 0, 4, 3, 4, 0, 3, 4, 0, 3, 4, 4, 3, 3, 4, 4, 4, 3, 0, 3, 3, 3, 4, 3, 2, 4, 4, 3, 4, 2, 2, 0, 4, 4, 4, 3, 3, 3, 3, 2, 4, 4, 3, 4, 3, 2, 4, 0, 3, 4, 4, 3, 2, 0, 0, 3, 0, 4, 4, 4, 4, 4, 2, 4, 0, 0, 4, 1, 4, 4, 0, 3, 0, 2, 4, 0, 3, 4, 4, 0, 4, 3, 4, 3, 1, 0, 0, 3, 4, 3, 4, 4, 0, 4, 2, 4, 4, 4, 4, 4, 3, 4, 4, 0, 4, 4, 4, 4, 0, 4, 3, 4, 4, 4, 3, 3, 4, 2, 4, 4, 4, 4, 4, 0, 0, 4, 4, 3, 4, 4, 3, 4, 3, 0, 4, 4, 0, 4, 4, 4, 2, 3, 4, 3, 3, 2, 3, 3, 4, 2, 4, 0, 0, 3, 4, 3, 4, 3, 0, 4, 4, 3, 3, 4, 3, 4, 3, 4, 3, 4, 4, 3, 3, 4, 4, 4, 3, 0, 0, 3, 3, 0, 3, 2, 4, 4, 3, 4, 3, 0, 2, 2, 4, 0, 4, 4, 2, 4, 2, 4, 0, 4, 3, 4, 2, 0, 4, 3, 4, 3, 4, 2, 0, 4, 0, 4, 4, 4, 4, 4, 4, 0, 2, 4, 4, 4, 4, 0, 2, 4, 2, 4, 4, 4, 4, 4, 4, 4, 2, 4, 0, 4, 4, 3, 2, 0, 0, 3, 0, 4, 4, 4, 4, 4, 2, 4, 4, 3, 3, 3, 0, 3, 1, 4, 3, 2, 3, 4, 4, 4, 4, 4, 4, 4, 1, 3, 3, 4, 1, 3, 2, 0, 4, 3, 4, 3, 4, 0, 4, 1, 3, 3, 0, 0, 3, 3, 2, 3, 3, 4, 2, 4, 2, 4, 4, 3, 3, 3, 4, 4, 4, 4, 4, 0, 0, 2, 3, 4, 0, 4, 4, 4, 4, 0, 2, 2, 4, 3, 4, 4, 4, 4, 4, 4, 1, 3, 4, 4, 4, 3, 4, 4, 4, 4, 4, 0, 4, 4, 4, 4, 0, 2, 4, 4, 4, 4, 3, 2, 3, 2, 0, 4, 4, 0, 3, 4, 3, 4, 4, 4, 2, 4, 3, 4, 3, 4, 2, 4, 3, 4, 4, 3, 0, 2, 2, 4, 4, 4, 3, 4, 3, 4, 2, 4, 0, 3, 4, 2, 3, 4, 4, 4, 0, 0, 0, 3, 2, 2, 3, 2, 3, 0, 4, 0, 4, 4, 3, 0, 4, 4, 4, 4, 4, 3, 4, 4, 4, 0, 4, 3, 4, 3, 3, 4, 2, 3, 3, 4, 4, 4, 4, 3, 0, 4, 0, 4, 4, 4, 4, 4, 2, 4, 0, 3, 3, 2, 2, 4, 4, 4, 1, 3, 4, 1, 4, 3, 4, 4, 4, 3, 2, 2, 3, 2, 0, 3, 4, 3, 0, 3, 4, 0, 4, 0, 4, 4, 4, 4, 4, 3, 3, 0, 4, 4, 0, 3, 4, 3, 2, 4, 3, 1, 0, 4, 4, 3, 3, 0, 4, 3, 4, 3, 4, 4, 3, 0, 4, 4, 3, 4, 4, 0, 3, 3, 4, 4, 4, 3, 2, 4, 3, 4, 3, 3, 4, 0, 4, 4, 4, 2, 0, 4, 4, 4, 4, 0, 2, 3, 2, 3, 4, 0, 4, 4, 0, 3, 3, 4, 4, 4, 3, 4, 3, 3, 3, 4, 4, 3, 4, 3, 4, 0, 2, 2, 2, 4, 4, 4, 0, 4, 3, 4, 3, 1, 4, 0, 4, 0, 4, 2, 2, 3, 4, 3, 3, 0, 4, 4, 0, 3, 2, 1, 4, 4, 4, 0, 4, 3, 3, 4, 4, 2, 4, 2, 3, 4, 3, 2, 4, 3, 2, 3, 4, 4, 2, 3, 4, 3, 2, 4, 3, 2, 4, 2, 4, 3, 4, 3, 4, 4, 4, 4, 4, 2, 0, 4, 4, 4, 0, 4, 3, 4, 4, 4, 4, 0, 4, 3, 4, 3, 4, 4, 4, 4, 3, 3, 4, 2, 2, 3, 3, 0, 4, 2, 3, 4, 4, 3, 4, 3, 4, 2, 3, 4, 1, 0, 4, 4, 0, 3, 3, 4, 3, 4, 3, 4, 4, 3, 4, 4, 4, 1, 3, 0, 4, 2, 4, 4, 3, 3, 3, 3, 2, 4, 4, 4, 4, 4, 4, 4, 2, 3, 3, 3, 4, 0, 4, 4, 4, 4, 4, 3, 4, 4, 3, 3, 4, 0, 0, 3, 0, 4, 4, 4, 3, 0, 3, 4, 3, 1, 3, 0, 3, 3, 4, 3, 3, 3, 2, 3, 0, 3, 0, 0, 1, 2, 4, 1, 3, 3, 4, 0, 3, 4, 4, 4, 3, 3, 4, 2, 3, 3, 4, 3, 0, 0, 4, 3, 3, 2, 2, 0, 2, 4, 3, 3, 4, 4, 4, 0, 4, 0, 2, 1, 4, 4, 4, 4, 4, 4, 4, 0, 4, 1, 3, 3, 4, 0, 4, 0, 0, 4, 3, 3, 4, 3, 4, 4, 4, 3, 4, 3, 4, 4, 2, 2, 4, 4, 4, 2, 4, 1, 3, 0, 2, 3, 3, 2, 3, 0, 0, 4, 4, 4, 2, 3, 3, 3, 4, 2, 4, 2, 4, 0, 4, 4, 3, 3, 2, 4, 4, 4, 3, 2, 4, 4, 3, 4, 2, 4, 2, 4, 3, 0, 4, 2, 4, 3, 4, 4, 2, 3, 2, 3, 3, 4, 2, 4, 4, 4, 4, 4, 3, 4, 4, 4, 4, 4, 2, 4, 3, 3, 4, 0, 3, 4, 4, 4, 0, 4, 0, 4, 4, 4, 4, 2, 4, 4, 0, 3, 4, 4, 2, 3, 2, 0, 4, 4, 3, 4, 4, 4, 3, 4, 2, 4, 0, 3, 4, 4, 2, 4, 4, 4, 3, 4, 0, 3, 4, 4, 4, 4, 4, 0, 4, 4, 3, 2, 4, 0, 4, 4, 4, 0, 4, 3, 4, 4, 3, 0, 4, 4, 0, 0, 0, 1, 4, 3, 4, 3, 3, 4, 4, 3, 4, 2, 4, 4, 3, 4, 2, 2, 3, 0, 3, 3, 4, 0, 3, 3, 4, 4, 3, 4, 4, 4, 2, 4, 4, 4, 3, 3, 4, 0, 4, 4, 0, 4, 4, 4, 2, 3, 4, 4, 3, 4, 4, 3, 4, 2, 3, 4, 3, 0, 3, 3, 4, 4, 0, 4, 4, 4, 0, 4, 4, 0, 4, 3, 4, 3, 1, 4, 3, 3, 1, 0, 3, 4, 4, 4, 0, 4, 4, 0, 0, 4, 4, 2, 4, 4, 4, 0, 4, 3, 4, 4, 4, 3, 1, 4, 2, 3, 4, 4, 3, 4, 4, 0, 3, 4, 3, 4, 4, 4, 0, 4, 0, 4, 4, 3, 4, 4, 4, 4, 3, 4, 4, 4, 4, 4, 4, 4, 4, 2, 3, 2, 0, 4, 1, 3, 4, 4, 3, 4, 3, 3, 4, 2, 3, 4, 4, 4, 0, 3, 3, 2, 3, 3, 3, 4, 4, 1, 4, 3, 4, 4, 3, 3, 0, 3, 2, 4, 4, 4, 0, 4, 3, 2, 4, 4, 4, 4, 4, 4, 3, 0, 3, 0, 4, 3, 2, 4, 4]\n"
          ],
          "name": "stdout"
        }
      ]
    }
  ]
}